{
  "nbformat": 4,
  "nbformat_minor": 0,
  "metadata": {
    "colab": {
      "provenance": [],
      "authorship_tag": "ABX9TyM6FuXodARgTtE5GDHspf0V",
      "include_colab_link": true
    },
    "kernelspec": {
      "name": "python3",
      "display_name": "Python 3"
    },
    "language_info": {
      "name": "python"
    }
  },
  "cells": [
    {
      "cell_type": "markdown",
      "metadata": {
        "id": "view-in-github",
        "colab_type": "text"
      },
      "source": [
        "<a href=\"https://colab.research.google.com/github/FAIZAADNAN/FAIZAADNAN/blob/main/chapter_6.ipynb\" target=\"_parent\"><img src=\"https://colab.research.google.com/assets/colab-badge.svg\" alt=\"Open In Colab\"/></a>"
      ]
    },
    {
      "cell_type": "code",
      "execution_count": null,
      "metadata": {
        "id": "KK7ngktULaNV"
      },
      "outputs": [],
      "source": [
        "Exercise 1: Pizza Toppings ☑️\n",
        "Write a loop that prompts the user to enter a series of pizza toppings until they enter a 'quit' value. As they enter each topping,\n",
        "\n",
        "print a message saying you’ll add that topping to their pizza."
      ]
    },
    {
      "cell_type": "code",
      "source": [
        "# creating a program regarding adding the pizza toping or else using quit statement to stop the programme or else it will keep on running.\n",
        "Ingredients = \"\\nWhat topping would you like on your pizza?\"\n",
        "Ingredients += \"\\nEnter 'quit' when you are finished: \"\n",
        "\n",
        "while True:\n",
        "    topping = input(Ingredients)\n",
        "    if topping != 'quit':\n",
        "        print(\"  I'll add \" + topping + \" to your pizza.\")\n",
        "    else:\n",
        "        break"
      ],
      "metadata": {
        "colab": {
          "base_uri": "https://localhost:8080/"
        },
        "id": "q3mkDb2oMCM5",
        "outputId": "00bf0fa7-bb0f-429d-e209-d0499b2dd255"
      },
      "execution_count": null,
      "outputs": [
        {
          "name": "stdout",
          "output_type": "stream",
          "text": [
            "\n",
            "What topping would you like on your pizza?\n",
            "Enter 'quit' when you are finished: pepperoni\n",
            "  I'll add pepperoni to your pizza.\n",
            "\n",
            "What topping would you like on your pizza?\n",
            "Enter 'quit' when you are finished: Sausage\n",
            "  I'll add Sausage to your pizza.\n",
            "\n",
            "What topping would you like on your pizza?\n",
            "Enter 'quit' when you are finished: quit\n"
          ]
        }
      ]
    },
    {
      "cell_type": "code",
      "source": [
        "Exercise 2: Movie Tickets: ☑️\n",
        "A movie theater charges different ticket prices depending on a person’s age.\n",
        " If a person is under the age of 3, the ticket is free; if\n",
        "\n",
        "they are between 3 and 12, the ticket is $10; and if they are over age 12, \n",
        "the ticket is $15. Write a loop in which you ask users their\n",
        "\n",
        "age, and then tell them the cost of their movie ticket"
      ],
      "metadata": {
        "id": "H1NohJqXNFwa"
      },
      "execution_count": null,
      "outputs": []
    },
    {
      "cell_type": "code",
      "source": [
        "# creating a programme that using while loop and if else statment if the  persons age is less then 3 he will get free entry \n",
        "#else if its less then 13 then 10$ else 15$ at the end using statment quite the programme using break statment.\n",
        "movie_tickets = 'how old are you'\n",
        "movie_tickets +=\"Enter\\n 'quit' when you are finished.\"\n",
        "\n",
        "while True:\n",
        "      age = input(movie_tickets)\n",
        "      if age == 'quit':\n",
        "          break\n",
        "      age = int(age)\n",
        "      if age < 3:\n",
        "        print(\"  You get in free!\")\n",
        "      elif age < 13:\n",
        "        print(\"  Your ticket is $10.\")\n",
        "      else:\n",
        "        print(\"  Your ticket is $15.\")"
      ],
      "metadata": {
        "colab": {
          "base_uri": "https://localhost:8080/"
        },
        "id": "ex2C1IwyNM9Q",
        "outputId": "6afc3257-34eb-4adc-9907-67650eb21cea"
      },
      "execution_count": null,
      "outputs": [
        {
          "name": "stdout",
          "output_type": "stream",
          "text": [
            "how old are youEnter\n",
            " 'quit' when you are finished.2\n",
            "  You get in free!\n",
            "how old are youEnter\n",
            " 'quit' when you are finished.3\n",
            "  Your ticket is $10.\n",
            "how old are youEnter\n",
            " 'quit' when you are finished.12\n",
            "  Your ticket is $10.\n",
            "how old are youEnter\n",
            " 'quit' when you are finished.18\n",
            "  Your ticket is $15.\n",
            "how old are youEnter\n",
            " 'quit' when you are finished.quit\n"
          ]
        }
      ]
    },
    {
      "cell_type": "code",
      "source": [
        "Exercise 4: Deli ☑️\n",
        "Make a list called sandwich_orders and fill it with the names of various sandwiches. \n",
        "Then make an empty list called finished_sandwiches.\n",
        "\n",
        "Loop through the list of sandwich orders and print a message for each order, \n",
        "such as I made your tuna sandwich. As each sandwich is made,\n",
        "\n",
        "move it to the list of finished sandwiches. After all the sandwiches have been made, \n",
        "print a message listing each sandwich that was made.\n",
        "\n",
        "   "
      ],
      "metadata": {
        "id": "sD_H0cSyP_sC"
      },
      "execution_count": null,
      "outputs": []
    },
    {
      "cell_type": "code",
      "source": [
        "sandwich_orders = ['veggi','grilled','potatoe','tuna']\n",
        "finished_sandwich = [] #creating an empty list to add \n",
        "\n",
        "while sandwich_orders:\n",
        " current_sandwich = sandwich_orders.pop() \n",
        " print('I made your' + current_sandwich +'sandwich.')\n",
        " finished_sandwich.append(current_sandwich) #using here append function to add the current_sandwich\n",
        "\n",
        "print('\\n')\n",
        "print('sandwich.orders:')\n",
        "for sandwich in finished_sandwich:\n",
        " print(sandwich,'Sandwich')"
      ],
      "metadata": {
        "colab": {
          "base_uri": "https://localhost:8080/"
        },
        "id": "gWGdn6IaQHcv",
        "outputId": "75df2b87-a68c-49f4-e5cd-99b060276896"
      },
      "execution_count": null,
      "outputs": [
        {
          "output_type": "stream",
          "name": "stdout",
          "text": [
            "I made yourtunasandwich.\n",
            "I made yourpotatoesandwich.\n",
            "I made yourgrilledsandwich.\n",
            "I made yourveggisandwich.\n",
            "\n",
            "\n",
            "sandwich.orders:\n",
            "tuna Sandwich\n",
            "potatoe Sandwich\n",
            "grilled Sandwich\n",
            "veggi Sandwich\n"
          ]
        }
      ]
    },
    {
      "cell_type": "code",
      "source": [
        "Exercise 5: No Pastrami ☑️\n",
        "Using the list sandwich_orders from Exercise 7-8, make sure the sandwich 'pastrami' appears in the list at least three times.\n",
        " Add code\n",
        "\n",
        "near the beginning of your program to print a message saying the deli has run out of pastrami, \n",
        "and then use a while loop to remove all\n",
        "\n",
        "occurrences of 'pastrami' from sandwich_orders. Make sure no pastrami sandwiches end up in finished_sandwiches.\n",
        "\n",
        "   "
      ],
      "metadata": {
        "id": "SZkEqFz0QOAG"
      },
      "execution_count": null,
      "outputs": []
    },
    {
      "cell_type": "code",
      "source": [
        "sandwich_orders = [\n",
        "    'pastrami', 'veggie', 'grilled cheese', 'pastrami',\n",
        "    'turkey', 'roast beef', 'pastrami']\n",
        "finished_sandwiches = []\n",
        "\n",
        "print('Iam soryy, we are all out of pastarami today.')\n",
        "while 'pastrami' in sandwich_orders:\n",
        "     sandwich_orders.remove('pastrami') #using remove the first element value.\n",
        "\n",
        "print('\\n')\n",
        "while sandwich_orders:\n",
        "      current_sandwich = sandwich_orders.pop() #using the pop function to remove  pastarmi from the sandwich_orders.\n",
        "      print(\"I'm working on your \" + current_sandwich + \" sandwich.\")\n",
        "      finished_sandwiches.append(current_sandwich) #using append function to add the current_sandwich\n",
        "\n",
        "print('\\n')\n",
        "for sandwich in finished_sandwiches:\n",
        "    print(\"I made a \" + sandwich + \" sandwich.\")"
      ],
      "metadata": {
        "colab": {
          "base_uri": "https://localhost:8080/"
        },
        "id": "siQn9i6PQVhi",
        "outputId": "7312d9cc-3c7c-4e8a-b998-4a049e123085"
      },
      "execution_count": null,
      "outputs": [
        {
          "output_type": "stream",
          "name": "stdout",
          "text": [
            "Iam soryy, we are all out of pastarami today.\n",
            "\n",
            "\n",
            "I'm working on your roast beef sandwich.\n",
            "I'm working on your turkey sandwich.\n",
            "I'm working on your grilled cheese sandwich.\n",
            "I'm working on your veggie sandwich.\n",
            "\n",
            "\n",
            "I made a roast beef sandwich.\n",
            "I made a turkey sandwich.\n",
            "I made a grilled cheese sandwich.\n",
            "I made a veggie sandwich.\n"
          ]
        }
      ]
    },
    {
      "cell_type": "code",
      "source": [
        "Extra Programmes"
      ],
      "metadata": {
        "id": "xYM_EsKeSAHJ"
      },
      "execution_count": null,
      "outputs": []
    },
    {
      "cell_type": "code",
      "source": [
        "\n",
        "# Renting a car \n",
        "car = input('what kind of car would you like it?')\n",
        "\n",
        "print('Lets me see if i can find you a' + car.title() +'.')\n"
      ],
      "metadata": {
        "colab": {
          "base_uri": "https://localhost:8080/"
        },
        "id": "N5xEZD6ZN6oe",
        "outputId": "e0cb5bec-7f35-4f22-9398-1e862972147c"
      },
      "execution_count": null,
      "outputs": [
        {
          "output_type": "stream",
          "name": "stdout",
          "text": [
            "what kind of car would you like it?Masaratti\n",
            "Lets me see if i can find you aMasaratti.\n"
          ]
        }
      ]
    },
    {
      "cell_type": "code",
      "source": [
        "# inivitng people to dinner party\n",
        "party_size = input('how many people are in your dinner party?')\n",
        "party_size = int(party_size)\n",
        "\n",
        "if party_size > 8:\n",
        "    print(\"I'm sorry, you'll have to wait for a table.\")\n",
        "else:\n",
        "  print(\"Your table is ready.\")"
      ],
      "metadata": {
        "colab": {
          "base_uri": "https://localhost:8080/"
        },
        "id": "Jm_21h4vSqM1",
        "outputId": "83934266-625c-449f-c34d-859185297ff4"
      },
      "execution_count": null,
      "outputs": [
        {
          "output_type": "stream",
          "name": "stdout",
          "text": [
            "how many people are in your dinner party?7\n",
            "Your table is ready.\n"
          ]
        }
      ]
    },
    {
      "cell_type": "code",
      "source": [
        "# programme regarding multiple ten\n",
        "number = input('give me a number, please:')\n",
        "number = int(number)\n",
        "\n",
        "if number % 10 ==0:\n",
        "     print(str(number) + 'is a multiple of 10.')\n",
        "else:\n",
        "     print(str(number) + 'is not a multiple of 10.')\n",
        "\n"
      ],
      "metadata": {
        "colab": {
          "base_uri": "https://localhost:8080/"
        },
        "id": "zTtIKetQVjOQ",
        "outputId": "67188e8e-13a7-44b1-e718-6213723938ed"
      },
      "execution_count": null,
      "outputs": [
        {
          "output_type": "stream",
          "name": "stdout",
          "text": [
            "give me a number, please:8\n",
            "8is not a multiple of 10.\n"
          ]
        }
      ]
    },
    {
      "cell_type": "code",
      "source": [
        "# programme regarding Dream Vacation\n",
        "name_prompt = '\\nwhats your name?'\n",
        "place_prompt = 'if you could visit one place in the world, where would it be? '\n",
        "continue_prompt = '\\nWould you like to let some else respond? (yes/no)'\n",
        "#Response will be stored in the form {name:place}.\n",
        "responses = {}\n",
        "\n",
        "while True:\n",
        "    #Ask the user where they would like to go.\n",
        "    name = input(name_prompt)\n",
        "    place = input(place_prompt)\n",
        "\n",
        "    # Store the response.\n",
        "    responses[name] = place\n",
        "\n",
        "   #Ask if theres anyone else responding.\n",
        "    repeat = input(continue_prompt)\n",
        "    if repeat != 'yes':\n",
        "       break\n",
        "\n",
        "# show results of the survey:\n",
        "print(\"\\n--- Results ---\")\n",
        "for name, place in responses.items():\n",
        "    print(name.title() + \" would like to visit \" + place.title() + \".\")"
      ],
      "metadata": {
        "colab": {
          "base_uri": "https://localhost:8080/"
        },
        "id": "oZttWyi3WwLg",
        "outputId": "8bc4b1d8-8eac-45fa-9dcf-7d8abe27e63b"
      },
      "execution_count": null,
      "outputs": [
        {
          "output_type": "stream",
          "name": "stdout",
          "text": [
            "\n",
            "whats your name?Adnan\n",
            "if you could visit one place in the world, where would it be? Switzerland\n",
            "\n",
            "Would you like to let some else respond? (yes/no)yes\n",
            "\n",
            "whats your name?Adnan\n",
            "if you could visit one place in the world, where would it be? Switzerland\n",
            "\n",
            "Would you like to let some else respond? (yes/no)no\n",
            "\n",
            "--- Results ---\n",
            "Adnan would like to visit Switzerland.\n"
          ]
        }
      ]
    },
    {
      "cell_type": "code",
      "source": [
        "#Programme regarding making dictionaries of city\n",
        "cities = {\n",
        "    'Newyork': {\n",
        "        'country': 'United Arab Emirates',\n",
        "        'population': 6158080,\n",
        "        'nearby mountains': 'Jebal Jais',\n",
        "        },\n",
        "    'chicago': {\n",
        "        'country': 'Brazil',\n",
        "        'population': 876,\n",
        "        'nearby mountains': 'alaska range',\n",
        "        },\n",
        "    'kathmandu': {\n",
        "        'country': 'nepal',\n",
        "        'population': 1003285,\n",
        "        'nearby mountains': 'himilaya',\n",
        "        }\n",
        "    }\n",
        "\n",
        "for city, city_info in cities.items():\n",
        "    country = city_info['country'].title()\n",
        "    population = city_info['population']\n",
        "    mountains = city_info['nearby mountains'].title()\n",
        "\n",
        "    print(\"\\n\" + city.title() + \" is in \" + country + \".\")\n",
        "    print(\"  It has a population of about \" + str(population) + \".\")\n",
        "    print(\"  The \" + mountains + \" mountains are nearby.\")\n",
        "        \n"
      ],
      "metadata": {
        "colab": {
          "base_uri": "https://localhost:8080/"
        },
        "id": "SpkEBAZPZiGu",
        "outputId": "579d3c72-9779-448a-f058-57a8022af465"
      },
      "execution_count": null,
      "outputs": [
        {
          "output_type": "stream",
          "name": "stdout",
          "text": [
            "\n",
            "Newyork is in United Arab Emirates.\n",
            "  It has a population of about 6158080.\n",
            "  The Jebal Jais mountains are nearby.\n",
            "\n",
            "Chicago is in Brazil.\n",
            "  It has a population of about 876.\n",
            "  The Alaska Range mountains are nearby.\n",
            "\n",
            "Kathmandu is in Nepal.\n",
            "  It has a population of about 1003285.\n",
            "  The Himilaya mountains are nearby.\n"
          ]
        }
      ]
    },
    {
      "cell_type": "code",
      "source": [],
      "metadata": {
        "id": "vXD-jNLwlU4g"
      },
      "execution_count": null,
      "outputs": []
    }
  ]
}