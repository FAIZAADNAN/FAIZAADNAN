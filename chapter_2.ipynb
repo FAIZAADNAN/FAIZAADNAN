{
  "nbformat": 4,
  "nbformat_minor": 0,
  "metadata": {
    "colab": {
      "provenance": [],
      "authorship_tag": "ABX9TyOO5NVou/S8FxN+m7IrWzeu",
      "include_colab_link": true
    },
    "kernelspec": {
      "name": "python3",
      "display_name": "Python 3"
    },
    "language_info": {
      "name": "python"
    }
  },
  "cells": [
    {
      "cell_type": "markdown",
      "metadata": {
        "id": "view-in-github",
        "colab_type": "text"
      },
      "source": [
        "<a href=\"https://colab.research.google.com/github/FAIZAADNAN/FAIZAADNAN/blob/main/chapter_2.ipynb\" target=\"_parent\"><img src=\"https://colab.research.google.com/assets/colab-badge.svg\" alt=\"Open In Colab\"/></a>"
      ]
    },
    {
      "cell_type": "code",
      "execution_count": null,
      "metadata": {
        "id": "fWftTnjwvukB"
      },
      "outputs": [],
      "source": [
        "Exercise 1.Type out the code below and add the correct data types to complete the variables\n",
        "\n",
        "  1.Assign a message to a variable, and print that message.\n",
        " Then change the value of the variable to a new message, and print the new message"
      ]
    },
    {
      "cell_type": "code",
      "source": [
        "#creating and printing a message to user\n",
        "msg = \"I love to go swtizerland.\"\n",
        "print(msg)\n",
        "\n",
        "msg = \"Its our first trip.\"\n",
        "print(msg)\n"
      ],
      "metadata": {
        "colab": {
          "base_uri": "https://localhost:8080/"
        },
        "id": "yFH6ixPxv7fb",
        "outputId": "71e3bfbe-c723-4992-b0f6-6969691fb1da"
      },
      "execution_count": null,
      "outputs": [
        {
          "output_type": "stream",
          "name": "stdout",
          "text": [
            "I love to go swtizerland.\n",
            "Its our first trip.\n"
          ]
        }
      ]
    },
    {
      "cell_type": "code",
      "source": [
        "Exercise 2.Find a quote from a famous person you admire. Print the quote and the name of its author.\n",
        "\n",
        "Your output should look something like the following, including the quotation marks:\n",
        "\n",
        "Albert Einstein once said, “A person who never made a mistake never tried anything new.\n"
      ],
      "metadata": {
        "id": "7i2eHxIPx-pc"
      },
      "execution_count": null,
      "outputs": []
    },
    {
      "cell_type": "code",
      "source": [
        "print('Albert Einstein once said,\" A person who never made a mistake')\n",
        "print('never tried anything new.\"')"
      ],
      "metadata": {
        "colab": {
          "base_uri": "https://localhost:8080/"
        },
        "id": "EYd17X4NyXAS",
        "outputId": "824879aa-3fd7-4236-8430-9a3b7820e696"
      },
      "execution_count": null,
      "outputs": [
        {
          "output_type": "stream",
          "name": "stdout",
          "text": [
            "Albert Einstein once said,\" A person who never made a mistake\n",
            "never tried anything new.\"\n"
          ]
        }
      ]
    },
    {
      "cell_type": "code",
      "source": [
        "Exercise 3.Tidy up the code to make it easier to understand\n",
        "\n",
        "Use a variable to represent a person’s name, and include some whitespace characters at the beginning and end of the name.\n",
        " Make sure you use each character combination, “\\t” and “\\n”, at least once.\n",
        "\n",
        "Print the name once, so the whitespace around the name is displayed.\n",
        "\n",
        "Then print the name using each of the three stripping functions, lstrip(), rstrip(), and strip()."
      ],
      "metadata": {
        "id": "LIEW9ewY03ED"
      },
      "execution_count": null,
      "outputs": []
    },
    {
      "cell_type": "code",
      "source": [
        "# using of lstrip() function to remove spaces from left side of the string\n",
        "word= '   i love siwtzerland'\n",
        "new_word=word.lstrip()\n",
        "print(word)\n",
        "print(new_word)"
      ],
      "metadata": {
        "colab": {
          "base_uri": "https://localhost:8080/"
        },
        "id": "N_6W1lnJ1Anw",
        "outputId": "141fe2e4-0c05-478d-a5f6-b3fadbb1aebd"
      },
      "execution_count": null,
      "outputs": [
        {
          "output_type": "stream",
          "name": "stdout",
          "text": [
            "   i love siwtzerland\n",
            "i love siwtzerland\n"
          ]
        }
      ]
    },
    {
      "cell_type": "code",
      "source": [
        "# using of rstrip() fucntion to remove spaces from right side of the string\n",
        "word= '    i love switzerland'\n",
        "new_word=word.rstrip()\n",
        "print(word)\n",
        "print(new_word)"
      ],
      "metadata": {
        "colab": {
          "base_uri": "https://localhost:8080/"
        },
        "id": "wT6UcJ7H6LH6",
        "outputId": "a618ba99-2112-46c8-cff7-b9f8704d7089"
      },
      "execution_count": null,
      "outputs": [
        {
          "output_type": "stream",
          "name": "stdout",
          "text": [
            "    i love switzerland\n",
            "    i love switzerland\n"
          ]
        }
      ]
    },
    {
      "cell_type": "code",
      "source": [
        "#to add a tab to your text, use the character combination \\t:\n",
        "\n",
        "\n",
        "print(\"i love my husband we are going to switzerland is \\t \")\n",
        "\n",
        "#using of strip() function to remove spaces from right side of the string \\n:\n",
        "\n",
        "print(\"\\n\")\n",
        "\n",
        "print(\"i love my husband we are going to switzerland is \\n\")\n",
        "print(\"\\n\")\n",
        "\n",
        "#using of lstrip() function to remove spaces from left side of the string \\n:\n",
        "\n",
        "print(\"\\n\")\n",
        "print(\"i love my husband we are going to switzerland is \\n\")\n",
        "print(\"\\n\")\n",
        "\n"
      ],
      "metadata": {
        "colab": {
          "base_uri": "https://localhost:8080/"
        },
        "id": "sEDo6xGO6uNp",
        "outputId": "43ff0d2d-e9db-40e5-ef3f-fa876dd3943e"
      },
      "execution_count": null,
      "outputs": [
        {
          "output_type": "stream",
          "name": "stdout",
          "text": [
            "i love my husband we are going to switzerland is \t \n",
            "\n",
            "\n",
            "i love my husband we are going to switzerland is \n",
            "\n",
            "\n",
            "\n",
            "\n",
            "\n",
            "i love my husband we are going to switzerland is \n",
            "\n",
            "\n",
            "\n"
          ]
        }
      ]
    },
    {
      "cell_type": "code",
      "source": [
        "Exercise 4: Favorite Number ☑️\n",
        "Use a variable to represent your favorite number. \n",
        "Then,using that variable, create a message that reveals your favorite number.\n",
        " Print that message."
      ],
      "metadata": {
        "id": "w3oUZ8egaJGp"
      },
      "execution_count": null,
      "outputs": []
    },
    {
      "cell_type": "code",
      "source": [
        "# creating a message that reveals your favorite number \n",
        "A = input(\"Enter your fav number\")\n",
        "print(\"my favourite number is\")\n",
        "      \n",
        "\n"
      ],
      "metadata": {
        "colab": {
          "base_uri": "https://localhost:8080/"
        },
        "id": "sGbgd2EZ9rJv",
        "outputId": "fbfafb4c-0b20-4624-f96b-2bd6b207ee79"
      },
      "execution_count": null,
      "outputs": [
        {
          "output_type": "stream",
          "name": "stdout",
          "text": [
            "Enter your fav number5\n",
            "my favourite number is\n"
          ]
        }
      ]
    },
    {
      "cell_type": "code",
      "source": [
        "Exercise 5: USB Shopper ☑️\n",
        "A girl heads to a computer shop to buy some USB sticks. She loves USB sticks and wants as many as she can get for £50. They are £6 each.\n",
        "\n",
        "Write a programme that calculates how many USB sticks she can buy and how many pounds she will have left.\n",
        "\n",
        "You will to use the arithmetic operators to complete this exercise."
      ],
      "metadata": {
        "id": "OLyt_O8nbUTP"
      },
      "execution_count": null,
      "outputs": []
    },
    {
      "cell_type": "code",
      "source": [
        "# girl goes to the shopkeeper\n",
        "\n",
        "print('A girl goes to the shopkeeper')\n",
        "print('what is the price of the usb')\n",
        "print('shopkeeper$6')\n",
        "print('girl please give me usb sticks for 50$')\n",
        "\n",
        "No_of_usb= 50/6\n",
        "Money_back= 50%6\n",
        "print('The shopkeeper gives the girl'+str(No_of_usb)+'USBs'+' and returns her' +str(Money_back)+'$')\n",
        "print('The shopkeeper gives the girl'+str(50/6)+'USBs'+' and returns her' +str(50%6)+'$') \n"
      ],
      "metadata": {
        "colab": {
          "base_uri": "https://localhost:8080/"
        },
        "id": "7UP5FRR6bc7u",
        "outputId": "ce1bb517-da4b-4a12-f1e1-2fc3cfccdf1e"
      },
      "execution_count": null,
      "outputs": [
        {
          "output_type": "stream",
          "name": "stdout",
          "text": [
            "A girl goes to the shopkeeper\n",
            "what is the price of the usb\n",
            "shopkeeper$6\n",
            "girl please give me usb sticks for 50$\n",
            "The shopkeeper gives the girl8.333333333333334USBs and returns her2$\n",
            "The shopkeeper gives the girl8.333333333333334USBs and returns her2$\n"
          ]
        }
      ]
    },
    {
      "cell_type": "code",
      "source": [
        "Extra Programmes"
      ],
      "metadata": {
        "id": "HXhN6mjmP3CX"
      },
      "execution_count": null,
      "outputs": []
    },
    {
      "cell_type": "code",
      "source": [
        "#printing the area of the square\n",
        "print(\"area of the square:\")\n",
        "\n",
        "side= int(input())\n",
        "print('side of the square=',side)\n",
        "print('the area of the square with sides'+ str(side)+'units='+ str(side**2)+ 'sq units')\n"
      ],
      "metadata": {
        "colab": {
          "base_uri": "https://localhost:8080/"
        },
        "id": "Fsao41HSPyqx",
        "outputId": "b407b9f1-37b4-426b-9866-6f165ea81302"
      },
      "execution_count": null,
      "outputs": [
        {
          "output_type": "stream",
          "name": "stdout",
          "text": [
            "area of the square:\n",
            "4\n",
            "side of the square= 4\n",
            "the area of the square with sides4units=16sq units\n"
          ]
        }
      ]
    },
    {
      "cell_type": "code",
      "source": [
        "print(\"the radius of the circle:\")\n",
        "pi=3.14\n",
        "radius= int(input())\n",
        "print('the radius of the circle=',radius)\n",
        "print('the area of the circle '+str(radius)+'units'+str(pi*radius**2)+ 'sq units')"
      ],
      "metadata": {
        "colab": {
          "base_uri": "https://localhost:8080/"
        },
        "id": "7DTWQrUHP-0T",
        "outputId": "63a5a756-a1b2-4dc6-bc3d-08785c849ff6"
      },
      "execution_count": null,
      "outputs": [
        {
          "output_type": "stream",
          "name": "stdout",
          "text": [
            "the radius of the circle:\n",
            "6\n",
            "the radius of the circle= 6\n",
            "the area of the circle 6units113.04sq units\n"
          ]
        }
      ]
    },
    {
      "cell_type": "code",
      "source": [
        "sentence1='i love to go switzerland:'\n",
        "\n",
        "\n",
        "sentence2='with my husband:'\n",
        "\n",
        "\n",
        "sentence3='we enjyoed alot'\n",
        "\n",
        "\n",
        "#strings concatenation\n",
        "print(sentence1+sentence2+sentence3)\n"
      ],
      "metadata": {
        "colab": {
          "base_uri": "https://localhost:8080/"
        },
        "id": "NLNDrCMCQTGe",
        "outputId": "50e09618-fd12-4c56-8751-8673f4ecc1b4"
      },
      "execution_count": null,
      "outputs": [
        {
          "output_type": "stream",
          "name": "stdout",
          "text": [
            "i love to go switzerland:with my husband:we enjyoed alot\n"
          ]
        }
      ]
    },
    {
      "cell_type": "code",
      "source": [
        "#use of lstrip() function to remove spaces left side of the string\n",
        "word='   python'\n",
        "new_word=word.lstrip\n",
        "print(word)\n",
        "print(new_word)\n"
      ],
      "metadata": {
        "colab": {
          "base_uri": "https://localhost:8080/"
        },
        "id": "4my7iCCjRHYO",
        "outputId": "725b53da-0ed3-48c5-d9de-3ad7883f0376"
      },
      "execution_count": null,
      "outputs": [
        {
          "output_type": "stream",
          "name": "stdout",
          "text": [
            "   python\n",
            "<built-in method lstrip of str object at 0x7efe4d5ed070>\n"
          ]
        }
      ]
    },
    {
      "cell_type": "code",
      "source": [
        "#use of rstrip() function to remove spaces right side of string\n",
        "word= '   python'\n",
        "new_word=word.rstrip\n",
        "print(word)\n",
        "print(new_word)"
      ],
      "metadata": {
        "colab": {
          "base_uri": "https://localhost:8080/"
        },
        "id": "jxR-rVM9T0v5",
        "outputId": "352c06c7-e713-427f-df2b-83f017409520"
      },
      "execution_count": null,
      "outputs": [
        {
          "output_type": "stream",
          "name": "stdout",
          "text": [
            "   python\n",
            "<built-in method rstrip of str object at 0x7efe4d5e28b0>\n"
          ]
        }
      ]
    },
    {
      "cell_type": "code",
      "source": [
        "#to add a tab to your text, use the character combination \\t\n",
        "\n",
        "print(\"i love my husband we are going to switzerland is \\t python\")\n",
        "\n",
        "#to add a newline in a string,use the character combination \\n:\n",
        "\n",
        "print(\"\\n\")\n",
        "\n",
        "print(\"i love my husband we are going to switzerland:\\npython\\nc\\njavascript\")\n",
        "print(\"\\n\")\n",
        "#formatting using \\t \\n\n",
        "print(\"i love my husband we are going to switzerland:\\n\\tpython\\n\\tc\\n\\tjavascript\")"
      ],
      "metadata": {
        "colab": {
          "base_uri": "https://localhost:8080/"
        },
        "id": "d9M4Yo9RT9tp",
        "outputId": "e7023ac8-ea15-4c8f-86ce-ac0f661a715d"
      },
      "execution_count": null,
      "outputs": [
        {
          "output_type": "stream",
          "name": "stdout",
          "text": [
            "i love my husband we are going to switzerland is \t python\n",
            "\n",
            "\n",
            "i love my husband we are going to switzerland:\n",
            "python\n",
            "c\n",
            "javascript\n",
            "\n",
            "\n",
            "i love my husband we are going to switzerland:\n",
            "\tpython\n",
            "\tc\n",
            "\tjavascript\n"
          ]
        }
      ]
    },
    {
      "cell_type": "code",
      "source": [
        "# Multiple assignments\n",
        "a=100\n",
        "b=200\n",
        "c=300\n",
        "d=400\n",
        "print(a) #print multiple value\n",
        "print(\"The value of a is:\" + str(a))\n",
        "print(b) #print multiple value\n"
      ],
      "metadata": {
        "colab": {
          "base_uri": "https://localhost:8080/"
        },
        "id": "MPsA6GV7UD3S",
        "outputId": "f7bfc78c-3e01-41d7-dc0c-4c2920be0d36"
      },
      "execution_count": null,
      "outputs": [
        {
          "output_type": "stream",
          "name": "stdout",
          "text": [
            "100\n",
            "The value of a is:100\n",
            "200\n"
          ]
        }
      ]
    },
    {
      "cell_type": "code",
      "source": [
        "a=('iam loving life of 2')\n",
        "print(a)\n",
        "\n",
        "b=(22334547)\n",
        "print(b)\n",
        "\n",
        "c=(4+10j)\n",
        "print(c)\n",
        "\n",
        "#type()print the datetype of the variables\n",
        "\n",
        "print(\"Type of a is\",type(a))\n",
        "print(\"Type of b is\" ,type(b))\n",
        "print(\"Type of c is\",type(c))\n",
        "\n"
      ],
      "metadata": {
        "colab": {
          "base_uri": "https://localhost:8080/"
        },
        "id": "lW5onhtsUUTK",
        "outputId": "34f2fc5d-1c81-41b9-f178-e8f9c9b3f554"
      },
      "execution_count": null,
      "outputs": [
        {
          "output_type": "stream",
          "name": "stdout",
          "text": [
            "iam loving life of 2\n",
            "22334547\n",
            "(4+10j)\n",
            "Type of a is <class 'str'>\n",
            "Type of b is <class 'int'>\n",
            "Type of c is <class 'complex'>\n"
          ]
        }
      ]
    },
    {
      "cell_type": "code",
      "source": [
        "#use of type() function in python-The type() function is used to get the type of an object\n",
        "X=10\n",
        "y=3.14\n",
        "z=0.4+12j\n",
        "word='Hi'\n",
        "sentence='Tonight its going to rain'\n",
        "\n",
        "print(type(X))\n",
        "print(type(y))\n",
        "print(type(z))\n",
        "print(type(word))\n",
        "print(type(sentence))\n"
      ],
      "metadata": {
        "colab": {
          "base_uri": "https://localhost:8080/"
        },
        "id": "NUYP7gi4Uksy",
        "outputId": "583ea65c-879f-4b19-dfe1-7520e24ad0a3"
      },
      "execution_count": null,
      "outputs": [
        {
          "output_type": "stream",
          "name": "stdout",
          "text": [
            "<class 'int'>\n",
            "<class 'float'>\n",
            "<class 'complex'>\n",
            "<class 'str'>\n",
            "<class 'str'>\n"
          ]
        }
      ]
    },
    {
      "cell_type": "code",
      "source": [
        "Suppose you are a university student, and you need to pay 5000 dirham tuition fee for the next semester.\n",
        "The college is giving you a discount of 10% on the early payment of your tuition fee.\n",
        "since its a good offer,you decided to make an early \n",
        "payment.can you find out how much money you have to pay?"
      ],
      "metadata": {
        "id": "Q7UmA9fcVzOw"
      },
      "execution_count": null,
      "outputs": []
    },
    {
      "cell_type": "code",
      "source": [
        "#creating a programme in which we need fees to be discounted\n",
        "fee = 5000\n",
        "discount_percent = 10\n",
        "\n",
        "discount_amount = (discount_percent / 100) * fee\n",
        "\n",
        "\n",
        "discounted_fee = fee-discount_amount\n",
        "\n",
        "print('Fee after discount' , discounted_fee)"
      ],
      "metadata": {
        "colab": {
          "base_uri": "https://localhost:8080/"
        },
        "id": "MrlosLGFX3Yz",
        "outputId": "8444e646-b3a1-48ca-84de-1fdcffe16284"
      },
      "execution_count": null,
      "outputs": [
        {
          "output_type": "stream",
          "name": "stdout",
          "text": [
            "Fee after discount 4500.0\n"
          ]
        }
      ]
    },
    {
      "cell_type": "code",
      "source": [
        "#taking the output of this programme by using logical operator\n",
        "language = \"Python\"\n",
        "print(\"1.\", language == \"python\")\n",
        "\n",
        "age = 18\n",
        "print(\"2.\", age >= 18)\n",
        "print(\"3.\", age > 18)\n",
        "\n",
        "print(\"4.\", age >= 18 and language == \"Java\")"
      ],
      "metadata": {
        "colab": {
          "base_uri": "https://localhost:8080/"
        },
        "id": "skI6gpsDaKPB",
        "outputId": "cffd5b13-bf18-4ea5-ed99-f6f5704a5073"
      },
      "execution_count": null,
      "outputs": [
        {
          "output_type": "stream",
          "name": "stdout",
          "text": [
            "1. False\n",
            "2. True\n",
            "3. False\n",
            "4. False\n"
          ]
        }
      ]
    },
    {
      "cell_type": "code",
      "source": [
        "creating a programe by converting kilometers into miles."
      ],
      "metadata": {
        "id": "aAJGzeKKcAbb"
      },
      "execution_count": null,
      "outputs": []
    },
    {
      "cell_type": "code",
      "source": [
        "# 1 kilometer->0.621371\n",
        "\n",
        "# Program to convert kilometers to miles\n",
        "\n",
        "distance_km = 564.5\n",
        "\n",
        "conversion_ratio = 0.621371\n",
        "\n",
        "distance_miles = distance_km * conversion_ratio\n",
        "\n",
        "print(distance_miles)"
      ],
      "metadata": {
        "colab": {
          "base_uri": "https://localhost:8080/"
        },
        "id": "yGR5HeRzb-1u",
        "outputId": "31310350-38b8-4058-cb51-95de75aa57bb"
      },
      "execution_count": null,
      "outputs": [
        {
          "output_type": "stream",
          "name": "stdout",
          "text": [
            "350.7639295\n"
          ]
        }
      ]
    },
    {
      "cell_type": "code",
      "source": [
        "creating a programming in which we will build a calculator."
      ],
      "metadata": {
        "id": "2rjde-0_cyVJ"
      },
      "execution_count": null,
      "outputs": []
    },
    {
      "cell_type": "code",
      "source": [
        "#get 2 numbers from the user\n",
        "print('Enter 2 numbers')\n",
        "a=int(input())\n",
        "b=int(input())\n",
        "\n",
        "#calculate and print the result\n",
        "print('The addition of '+str(a)+' and '+str(b)+'is'+str(a+b))\n",
        "print('The subtraction of'+str(a)+' and '+str(b)+'is'+str(a-b))\n",
        "print('The multiplication of'+str(a)+'and'+str(b)+'is'+str(a*b))\n",
        "print('the division of '+str(a)+'and'+str(b)+'is'+str(a/b))\n",
        "print('the modulus of'+str(a)+'and'+str(b)+'is'+str(a%b))\n",
        "print('the modulus of'+str(a)+'and'+str(b)+'is'+str(a**b))\n"
      ],
      "metadata": {
        "colab": {
          "base_uri": "https://localhost:8080/"
        },
        "id": "OoYZ6QZGcRzJ",
        "outputId": "76c80215-1608-4ace-d283-5091d9cf46a4"
      },
      "execution_count": null,
      "outputs": [
        {
          "output_type": "stream",
          "name": "stdout",
          "text": [
            "Enter 2 numbers\n",
            "6\n",
            "7\n",
            "The addition of 6 and 7is13\n",
            "The subtraction of6 and 7is-1\n",
            "The multiplication of6and7is42\n",
            "the division of 6and7is0.8571428571428571\n",
            "the modulus of6and7is6\n",
            "the modulus of6and7is279936\n"
          ]
        }
      ]
    }
  ]
}