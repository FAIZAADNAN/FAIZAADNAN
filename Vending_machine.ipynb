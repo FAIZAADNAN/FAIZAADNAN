{
  "nbformat": 4,
  "nbformat_minor": 0,
  "metadata": {
    "colab": {
      "provenance": [],
      "authorship_tag": "ABX9TyMIWJEpirfR8Pw+RsYV/hSn",
      "include_colab_link": true
    },
    "kernelspec": {
      "name": "python3",
      "display_name": "Python 3"
    },
    "language_info": {
      "name": "python"
    }
  },
  "cells": [
    {
      "cell_type": "markdown",
      "metadata": {
        "id": "view-in-github",
        "colab_type": "text"
      },
      "source": [
        "<a href=\"https://colab.research.google.com/github/FAIZAADNAN/FAIZAADNAN/blob/main/Vending_machine.ipynb\" target=\"_parent\"><img src=\"https://colab.research.google.com/assets/colab-badge.svg\" alt=\"Open In Colab\"/></a>"
      ]
    },
    {
      "cell_type": "code",
      "source": [
        "# define a dictionary of drink and snack options, with their respective prices\n",
        "menu = {\n",
        "    \"A\": {\"name\": \"Coca-Cola\", \"price\": 1.50},\n",
        "    \"B\": {\"name\": \"Pepsi\", \"price\": 1.50},\n",
        "    \"C\": {\"name\": \"Sprite\", \"price\": 1.50},\n",
        "    \"D\": {\"name\": \"Mountain Dew\", \"price\": 1.50},\n",
        "    \"E\": {\"name\": \"Doritos\", \"price\": 0.75},\n",
        "    \"F\": {\"name\": \"Cheetos\", \"price\": 0.75},\n",
        "    \"G\": {\"name\": \"Fritos\", \"price\": 0.75},\n",
        "    \"H\": {\"name\": \"Ruffles\", \"price\": 0.75}\n",
        "}\n",
        "# function to print the menu\n",
        "def print_menu():\n",
        "  print(\"Welcome to the vending machine!\")\n",
        "  print(\"Here are your options:\")\n",
        "  for code, item in menu.items():\n",
        "    print(f\"{code}: {item['name']} - Aed{item['price']}\")\n",
        "# function to Display the user for their selection and money\n",
        "def select_item():\n",
        "  \"\"\"Display the user for their selection and money, and dispense the item if possible.\"\"\"\n",
        "  # get the user's selection\n",
        "  selection = input(\"Please enter the code for the item you would like to purchase (or type 'thank you' to quit): \")\n",
        "  # check if the user wants to quit\n",
        "  if selection.lower() == \"thank you\":\n",
        "    return \"quit\"\n",
        "  # check if the selection is valid\n",
        "  if selection not in menu:\n",
        "    print(\"Sorry, that is not a valid option.\")\n",
        "    return\n",
        " # dispense the item and give the user their change\n",
        "  print(f\"Here is your {menu[selection]['name']} and Aed{change} in change.\")\n",
        "# function to prompt the user for their selection and money\n",
        "def select_item():\n",
        "  \"\"\"Display the user for their selection and money, and dispense the item if possible.\"\"\"\n",
        "  # get the user's selection\n",
        "  selection = input(\"Please enter the code for the item you would like to purchase (or type 'thank you' to quit): \")\n",
        "  # check if the user wants to quit\n",
        "  if selection.lower() == \"thank you\":\n",
        "    return \"quit\"\n",
        "# check if the selection is valid\n",
        "  if selection not in menu:\n",
        "    print(\"Sorry, that is not a valid option.\")\n",
        "    return\n",
        "  \n",
        "  # get the price of the selected item\n",
        "  price = menu[selection]['price']\n",
        "  # Display the user for money\n",
        "  money = float(input(f\"Please enter Aed{price} to purchase {menu[selection]['name']}: \"))\n",
        "   # check if the user entered enough money\n",
        "  if money < price:\n",
        "    print(\"Sorry, you did not enter enough money.\")\n",
        "    return\n",
        "  \n",
        "  # calculate the change\n",
        "  change = money - price\n",
        "  \n",
        "  # dispense the item and give the user their change\n",
        "  print(f\"Here is your {menu[selection]['name']} and Aed{change} in change.\")\n",
        "\n",
        "# main function to run the vending machine\n",
        "def run_vending_machine():\n",
        "  \"\"\"Run the vending machine and allow the user to make multiple purchases.\"\"\"\n",
        "  while True:\n",
        "    print_menu()\n",
        "    result = select_item()\n",
        "    if result == \"quit\":\n",
        "      break\n",
        "\n",
        "      \n",
        "\n",
        "# run the vending machine\n",
        "run_vending_machine()\n",
        "\n",
        "\n",
        "\n",
        "\n",
        "\n",
        "\n",
        "\n"
      ],
      "metadata": {
        "colab": {
          "base_uri": "https://localhost:8080/"
        },
        "id": "Lyr2xTE-Y4_0",
        "outputId": "fae41029-25fe-404e-a4cc-72ed12b68409"
      },
      "execution_count": 14,
      "outputs": [
        {
          "name": "stdout",
          "output_type": "stream",
          "text": [
            "Welcome to the vending machine!\n",
            "Here are your options:\n",
            "A: Coca-Cola - $1.5\n",
            "B: Pepsi - $1.5\n",
            "C: Sprite - $1.5\n",
            "D: Mountain Dew - $1.5\n",
            "E: Doritos - $0.75\n",
            "F: Cheetos - $0.75\n",
            "G: Fritos - $0.75\n",
            "H: Ruffles - $0.75\n",
            "Please enter the code for the item you would like to purchase (or type 'thank you' to quit): A\n",
            "Please enter Aed1.5 to purchase Coca-Cola: 10\n",
            "Here is your Coca-Cola and Aed8.5 in change.\n",
            "Welcome to the vending machine!\n",
            "Here are your options:\n",
            "A: Coca-Cola - $1.5\n",
            "B: Pepsi - $1.5\n",
            "C: Sprite - $1.5\n",
            "D: Mountain Dew - $1.5\n",
            "E: Doritos - $0.75\n",
            "F: Cheetos - $0.75\n",
            "G: Fritos - $0.75\n",
            "H: Ruffles - $0.75\n",
            "Please enter the code for the item you would like to purchase (or type 'thank you' to quit): Thank you\n"
          ]
        }
      ]
    }
  ]
}