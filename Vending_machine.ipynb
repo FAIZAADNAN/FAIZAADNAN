{
  "nbformat": 4,
  "nbformat_minor": 0,
  "metadata": {
    "colab": {
      "provenance": [],
      "authorship_tag": "ABX9TyN040t7ZqO5Fw2Uw3SBQojL",
      "include_colab_link": true
    },
    "kernelspec": {
      "name": "python3",
      "display_name": "Python 3"
    },
    "language_info": {
      "name": "python"
    }
  },
  "cells": [
    {
      "cell_type": "markdown",
      "metadata": {
        "id": "view-in-github",
        "colab_type": "text"
      },
      "source": [
        "<a href=\"https://colab.research.google.com/github/FAIZAADNAN/FAIZAADNAN/blob/main/Vending_machine.ipynb\" target=\"_parent\"><img src=\"https://colab.research.google.com/assets/colab-badge.svg\" alt=\"Open In Colab\"/></a>"
      ]
    },
    {
      "cell_type": "code",
      "source": [
        "# define a dictionary of drink and snack options, with their respective prices\n",
        "menu = {\n",
        "    \"A\": {\"name\": \"Dew\",    \"price\":   1.50},\n",
        "    \"B\": {\"name\": \"Pakola\", \"price\":   1.50},\n",
        "    \"C\": {\"name\": \"KitKat\",  \"price\":  1.50},\n",
        "    \"D\": {\"name\": \"Bounty\",  \"price\":  1.50},\n",
        "    \"E\": {\"name\": \"Takis\",   \"price\":  0.75},\n",
        "    \"F\": {\"name\": \"Jumana\",  \"price\":  0.75},\n",
        "    \"G\": {\"name\": \"Mars\",    \"price\":  0.75},\n",
        "    \"H\": {\"name\": \"Noodles\",  \"price\":  0.75}\n",
        "}\n",
        "#function to print the menu\n",
        "def print_menu():\n",
        "#Print the list of available drinks and snacks, along with their respective codes and prices.\n",
        "  print(\"Welcome to the vending machine!\")\n",
        "  print(\"Here are your options:\")\n",
        "  for code, item in menu.items():\n",
        "    print(f\"{code}: {item['name']} - Aed{item['price']}\")\n",
        "\n",
        "#function to display the user for their selection and money\n",
        "def select_item():\n",
        "#display the user for their selection and money, and give the item if possible\n",
        "#get the user's selection\n",
        "  selection = input(\"Please enter the code for the item you would like to buy: \")\n",
        "#check if the selection is valid\n",
        "  if selection not in menu:\n",
        "    print(\"Sorry, this is not a valid option.\")\n",
        "    return\n",
        "  \n",
        "#get the price of the selected item\n",
        "  price = menu[selection]['price']\n",
        "#show the user for money\n",
        "  money = float(input(f\"Please enter Aed{price} to purchase {menu[selection]['name']}: \"))\n",
        "  \n",
        "#check if the user entered enough money\n",
        "  if money < price:\n",
        "    print(\"Sorry, you did not enter enough money.\")\n",
        "    return\n",
        "#calculate the change\n",
        "  change = money - price\n",
        "  \n",
        "#Give the item and give the user their change\n",
        "  print(f\"Here is your {menu[selection]['name']} and Aed{change} in change.\")\n",
        "\n",
        "# main function to run the vending machine\n",
        "def run_vending_machine():\n",
        "#Run the vending machine and allow the user to make a single purchase.\n",
        "  print_menu()\n",
        "  select_item()\n",
        "\n",
        "#Run the vending machine\n",
        "run_vending_machine()"
      ],
      "metadata": {
        "colab": {
          "base_uri": "https://localhost:8080/"
        },
        "id": "-cq3leY8yAyO",
        "outputId": "e3f51f74-8421-4d60-cf23-ac26af9fcd47"
      },
      "execution_count": 2,
      "outputs": [
        {
          "output_type": "stream",
          "name": "stdout",
          "text": [
            "Welcome to the vending machine!\n",
            "Here are your options:\n",
            "A: Dew - Aed1.5\n",
            "B: Pakola - Aed1.5\n",
            "C: KitKat - Aed1.5\n",
            "D: Bounty - Aed1.5\n",
            "E: Takis - Aed0.75\n",
            "F: Jumana - Aed0.75\n",
            "G: Mars - Aed0.75\n",
            "H: Noodles - Aed0.75\n",
            "Please enter the code for the item you would like to purchase: B\n",
            "Please enter Aed1.5 to purchase Pakola: 150\n",
            "Here is your Pakola and Aed148.5 in change.\n"
          ]
        }
      ]
    }
  ]
}