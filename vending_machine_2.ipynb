{
  "cells": [
    {
      "cell_type": "markdown",
      "metadata": {
        "id": "view-in-github",
        "colab_type": "text"
      },
      "source": [
        "<a href=\"https://colab.research.google.com/github/FAIZAADNAN/FAIZAADNAN/blob/main/vending_machine_2.ipynb\" target=\"_parent\"><img src=\"https://colab.research.google.com/assets/colab-badge.svg\" alt=\"Open In Colab\"/></a>"
      ]
    },
    {
      "cell_type": "code",
      "execution_count": 3,
      "metadata": {
        "colab": {
          "base_uri": "https://localhost:8080/"
        },
        "id": "IFPj_C3Y0sjq",
        "outputId": "e2591ab9-23c4-46d5-8359-bd6195effd35"
      },
      "outputs": [
        {
          "output_type": "stream",
          "name": "stdout",
          "text": [
            "____MENU____(with code)\n",
            "\n",
            "\n",
            "1 dew\n",
            "2 mojito\n",
            "3 hot coffe\n",
            "4 hot lattee\n",
            "5 bobba tea\n",
            "do you want to stop the program? (y/n): no\n",
            "enter product_code: 2\n",
            "There are 80 items and it costs 40 aed per item.\n",
            "enter number_of_pieces: 2\n",
            "enter amount: 100\n",
            "collect the item and the change of dirham 20\n",
            "do you want to stop the program? (y/n): y\n",
            "the earnings for today is aed 80 and the balance in the machine is 480\n"
          ]
        }
      ],
      "source": [
        "initial_balance = 500 # balance in the veding machine\n",
        "present_earning = 0\n",
        "code ={1: 'dew', 2: 'mojito', 3: 'hot coffe', 4: 'hot lattee', 5: 'bobba tea'}\n",
        "item = {'dew': [50, 100], 'mojito': [40, 80], 'hot coffe': [60, 150], 'hot lattee': [10, 55],\n",
        "            'bobba tea': [80, 200]}    #here in the dictionary the zero index is the price of the product and 1 index is the quantity of the product\n",
        "print(\"____MENU____(with code)\")\n",
        "print(\"\\n\")\n",
        "    \n",
        "for x,y in code.items():                       #using for loop to display the user with menu\n",
        "    print(x,y)\n",
        "def products(item_code):                    #creating a function called product\n",
        "    global code, item                       #the normal variable which are not declared in the function are called global item or code\n",
        "    item[code[item_code]]                   # item.get(code.get(item_code))\n",
        "    print(f\"There are {item[code[item_code]][1]} items and it costs {item[code[item_code]][0]} aed per item.\")#by using index we are printing\n",
        "     #the value of the dictionary\n",
        "    return None\n",
        "def user_requirement(): #calling the function\n",
        "\n",
        "    global initial_balance, code, item, present_earning\n",
        "\n",
        "    b=int(input(\"enter product_code: \"))            #asking the user product code\n",
        "    products(b)                                    #calling the function product so it displays the information of that particular code\n",
        "    c=int(input(\"enter number_of_pieces: \"))\n",
        "    d=int(input(\"enter amount: \"))\n",
        "    if (initial_balance < d-c*item[code[b]][0]) or (d < c * item[code[b]][0]): # the initial amount is less then the user entered\n",
        "    # amount or  the entered amount is less then total bill by using the indexing method to access the value in dictionary\n",
        "        print(f\"sorry please provide amount {item[code[b]][0]*c}  \") #displaying the user the given msg pls provide sufficient amount\n",
        "        return None \n",
        "    else:                       # else part wil b executed when the vending machine have the sufficient money to give back the change\n",
        "        x = d - c * item[code[b]][0]                        # we have assigned the amount we need to return to the user in X varaible\n",
        "        initial_balance -= x                                #subtracting x from the intial_balance\n",
        "        present_earning += c*item[code[b]][0]               #the amount we get from the user is added to the present amount\n",
        "        initial_balance += present_earning \n",
        "        print(f\"collect the item and the change of dirham {x}\")\n",
        "        item[code[b]][1] = item[code[b]][1] -c              #subtracting the number of pieces is the user has taken from the total quantity\n",
        "        return None\n",
        "while True: #using while loop \n",
        "    x=input(\"do you want to stop the program? (y/n): \") #asking the user to enter the information if he wants to continue with yes or no\n",
        "    if x==\"y\":\n",
        "        print(f\"the earnings for today is aed {present_earning} and the balance in the machine is {initial_balance-present_earning}\")\n",
        "        break\n",
        "    user_requirement()\n",
        "\n"
      ]
    },
    {
      "cell_type": "code",
      "execution_count": null,
      "metadata": {
        "id": "qrCWzghQublN"
      },
      "outputs": [],
      "source": []
    }
  ],
  "metadata": {
    "colab": {
      "provenance": [],
      "authorship_tag": "ABX9TyMyyzjkAMM41kQqYkivjgv0",
      "include_colab_link": true
    },
    "kernelspec": {
      "display_name": "Python 3",
      "name": "python3"
    },
    "language_info": {
      "name": "python"
    }
  },
  "nbformat": 4,
  "nbformat_minor": 0
}