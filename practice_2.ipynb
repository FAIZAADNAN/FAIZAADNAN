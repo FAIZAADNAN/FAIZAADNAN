{
  "nbformat": 4,
  "nbformat_minor": 0,
  "metadata": {
    "colab": {
      "provenance": [],
      "authorship_tag": "ABX9TyM/1fB2g9BQ9NlCgzv8ocIB",
      "include_colab_link": true
    },
    "kernelspec": {
      "name": "python3",
      "display_name": "Python 3"
    },
    "language_info": {
      "name": "python"
    }
  },
  "cells": [
    {
      "cell_type": "markdown",
      "metadata": {
        "id": "view-in-github",
        "colab_type": "text"
      },
      "source": [
        "<a href=\"https://colab.research.google.com/github/FAIZAADNAN/FAIZAADNAN/blob/main/practice_2.ipynb\" target=\"_parent\"><img src=\"https://colab.research.google.com/assets/colab-badge.svg\" alt=\"Open In Colab\"/></a>"
      ]
    },
    {
      "cell_type": "code",
      "execution_count": null,
      "metadata": {
        "colab": {
          "base_uri": "https://localhost:8080/"
        },
        "id": "OqvmqBjNjULX",
        "outputId": "a1e8a397-b2fd-45e1-e0e4-d063762412ca"
      },
      "outputs": [
        {
          "output_type": "stream",
          "name": "stdout",
          "text": [
            "enter car of ur choice\n",
            "toyota\n",
            "TOYOTA is available\n"
          ]
        }
      ],
      "source": [
        "# creating a programe asking user car of their choice available in showroom or not\n",
        "cars = ['Mercedes','lexus','ferrari','toyota','bmw']\n",
        "print('enter car of ur choice')\n",
        "user_car_choice=str(input())\n",
        "if user_car_choice in cars:\n",
        "   print(user_car_choice.upper(),'is available')\n",
        "else:\n",
        "   print('Sorry!',user_car_choice.upper(),'is not available')"
      ]
    },
    {
      "cell_type": "code",
      "source": [
        "# creating a programme of cars nd colour of cars available in showroom and ask the user of there choice in car nd colours.\n",
        "cars = ['Mercedes','lexus','ferrari','toyota','bmw']\n",
        "colours = ['black','white','red','cyan']\n",
        "print('Enter car of your choice:')\n",
        "user_car_choice = str(input())\n",
        "if user_car_choice in cars:\n",
        "   print(user_car_choice.upper(),'is available')\n",
        "   print('enter your choice of colour:')\n",
        "   user_colour_choice=str(input())\n",
        "if user_colour_choice in colours:\n",
        "   print(user_colour_choice.title(),'colour',user_car_choice.upper(),'is available')\n",
        "else: \n",
        "   print('Sorry!',user_car_choice,'is not available')"
      ],
      "metadata": {
        "colab": {
          "base_uri": "https://localhost:8080/"
        },
        "id": "S7qPXpGakPm1",
        "outputId": "9d64ff86-51e4-4ecb-94dc-d313d2d9cae5"
      },
      "execution_count": null,
      "outputs": [
        {
          "output_type": "stream",
          "name": "stdout",
          "text": [
            "Enter car of your choice:\n",
            "ferrari\n",
            "FERRARI is available\n",
            "enter your choice of colour:\n",
            "cyan\n",
            "Cyan colour FERRARI is available\n"
          ]
        }
      ]
    },
    {
      "cell_type": "code",
      "source": [
        "Program 3: write a program to create a pyramid of numbers\n"
      ],
      "metadata": {
        "id": "MpCT6zJomodX"
      },
      "execution_count": null,
      "outputs": []
    },
    {
      "cell_type": "code",
      "source": [
        "n=int(input('Enter the number of rows:')) #fix number of rows\n",
        "for i in range(0,n): #outer loop of handle rows\n",
        "   for j in range(0,i+1): #inner loop of handle coloumns\n",
        "      print(j,end='') #pyramid content\n",
        "   print()"
      ],
      "metadata": {
        "colab": {
          "base_uri": "https://localhost:8080/"
        },
        "id": "ISISSmZ6o_Z0",
        "outputId": "0c259c3b-4283-41fe-caae-9359e84e1c01"
      },
      "execution_count": null,
      "outputs": [
        {
          "output_type": "stream",
          "name": "stdout",
          "text": [
            "Enter the number of rows:10\n",
            "0\n",
            "01\n",
            "012\n",
            "0123\n",
            "01234\n",
            "012345\n",
            "0123456\n",
            "01234567\n",
            "012345678\n",
            "0123456789\n"
          ]
        }
      ]
    },
    {
      "cell_type": "code",
      "source": [
        "# A program to create a pyramid of stars\n",
        "n = int(input('Enter number of rows:'))\n",
        "for i in range(n,0,-1):\n",
        "   for j in range(0,i-1):\n",
        "     print('*',end=\" \")\n",
        "   print()"
      ],
      "metadata": {
        "colab": {
          "base_uri": "https://localhost:8080/"
        },
        "id": "8qz4kvYTrYo3",
        "outputId": "fcd00866-c7cd-48f4-ab74-76e91c4de0de"
      },
      "execution_count": null,
      "outputs": [
        {
          "output_type": "stream",
          "name": "stdout",
          "text": [
            "Enter number of rows:8\n",
            "* * * * * * * \n",
            "* * * * * * \n",
            "* * * * * \n",
            "* * * * \n",
            "* * * \n",
            "* * \n",
            "* \n",
            "\n"
          ]
        }
      ]
    },
    {
      "cell_type": "code",
      "source": [
        "# A program o create a pyramid of stars\n",
        "n = int(input('enter the number of rows'))\n",
        "for i in range(0,n):\n",
        "   for j in range(0,i+1):\n",
        "     print('*',end=' ')\n",
        "   print()\n"
      ],
      "metadata": {
        "colab": {
          "base_uri": "https://localhost:8080/"
        },
        "id": "MUhceQ1cskpM",
        "outputId": "35a7610e-9235-49a9-cd78-6cb08279e1a5"
      },
      "execution_count": null,
      "outputs": [
        {
          "output_type": "stream",
          "name": "stdout",
          "text": [
            "enter the number of rows10\n",
            "* \n",
            "* * \n",
            "* * * \n",
            "* * * * \n",
            "* * * * * \n",
            "* * * * * * \n",
            "* * * * * * * \n",
            "* * * * * * * * \n",
            "* * * * * * * * * \n",
            "* * * * * * * * * * \n"
          ]
        }
      ]
    },
    {
      "cell_type": "code",
      "source": [
        "# programme to print the odd number pattern\n",
        "n = int(input('Enter a number of rows: '))\n",
        "i = 1\n",
        "while i<=n:\n",
        "  j=1\n",
        "  while j<=i:\n",
        "    print((i*2-1), end=' ')\n",
        "    j=j+1\n",
        "  i=i+1\n",
        "  print()\n",
        "\n"
      ],
      "metadata": {
        "colab": {
          "base_uri": "https://localhost:8080/"
        },
        "id": "miuDAnITvvyg",
        "outputId": "bb24cd7a-f180-46aa-cd73-6e46cb17803c"
      },
      "execution_count": null,
      "outputs": [
        {
          "output_type": "stream",
          "name": "stdout",
          "text": [
            "Enter a number of rows: 7\n",
            "1 \n",
            "3 3 \n",
            "5 5 5 \n",
            "7 7 7 7 \n",
            "9 9 9 9 9 \n",
            "11 11 11 11 11 11 \n",
            "13 13 13 13 13 13 13 \n"
          ]
        }
      ]
    },
    {
      "cell_type": "code",
      "source": [
        "# print the even number using while loop\n",
        "n=int(input('Enter the number or rows:'))\n",
        "i =1\n",
        "while i<=n:\n",
        "  j=1\n",
        "  while j<=i:\n",
        "    print((i*2),end=' ')\n",
        "    j=j+1\n",
        "  i=i+1\n",
        "  print()\n"
      ],
      "metadata": {
        "colab": {
          "base_uri": "https://localhost:8080/"
        },
        "id": "xul2R2OgxVXh",
        "outputId": "0368ba1d-c5a5-4ac5-82c1-69b872c97102"
      },
      "execution_count": null,
      "outputs": [
        {
          "output_type": "stream",
          "name": "stdout",
          "text": [
            "Enter the number or rows:5\n",
            "2 \n",
            "4 4 \n",
            "6 6 6 \n",
            "8 8 8 8 \n",
            "10 10 10 10 10 \n"
          ]
        }
      ]
    },
    {
      "cell_type": "code",
      "source": [
        "# A program to print equilateral triangle Pyramid of stars\n",
        "#printing full Triangle pyramid using stars\n",
        "n=int(input('Enter the number of rows:'))\n",
        "m = n\n",
        "for i in range(0, n):\n",
        "   for j in range(0, m):\n",
        "       print(end=' ')\n",
        "   #decreamenting m after each loop\n",
        "   m = m - 1\n",
        "   for j in range(0,i + 1):\n",
        "       print('*',end=' ')\n",
        "   print()"
      ],
      "metadata": {
        "colab": {
          "base_uri": "https://localhost:8080/"
        },
        "id": "HosghMHRzMOj",
        "outputId": "7ffb527e-3182-4922-b988-5826d344a732"
      },
      "execution_count": null,
      "outputs": [
        {
          "output_type": "stream",
          "name": "stdout",
          "text": [
            "Enter the number of rows:10\n",
            "          * \n",
            "         * * \n",
            "        * * * \n",
            "       * * * * \n",
            "      * * * * * \n",
            "     * * * * * * \n",
            "    * * * * * * * \n",
            "   * * * * * * * * \n",
            "  * * * * * * * * * \n",
            " * * * * * * * * * * \n"
          ]
        }
      ]
    },
    {
      "cell_type": "code",
      "source": [
        "n=int(input('enter the number of rows needed'))\n",
        "for i in range(n):\n",
        "   for j in range(n-i-1):\n",
        "       print(\" \",end=\" \")\n",
        "   for j in range(i,-1,-1):\n",
        "      print(i+1,end=\" \")\n",
        "   print()"
      ],
      "metadata": {
        "colab": {
          "base_uri": "https://localhost:8080/"
        },
        "id": "4tAlJ9zv29ic",
        "outputId": "e8a6484d-6446-4d22-bbbc-4c66b41ee981"
      },
      "execution_count": null,
      "outputs": [
        {
          "output_type": "stream",
          "name": "stdout",
          "text": [
            "enter the number of rows needed7\n",
            "            1 \n",
            "          2 2 \n",
            "        3 3 3 \n",
            "      4 4 4 4 \n",
            "    5 5 5 5 5 \n",
            "  6 6 6 6 6 6 \n",
            "7 7 7 7 7 7 7 \n"
          ]
        }
      ]
    },
    {
      "cell_type": "code",
      "source": [
        "#printing numbers in right triangle shape\n",
        "n=int(input('Enter the number of rows needed'))\n",
        "for i in range(n):\n",
        "   for j in range(i,-1,-1):\n",
        "       print(j+1,end=' ')\n",
        "   print()"
      ],
      "metadata": {
        "colab": {
          "base_uri": "https://localhost:8080/"
        },
        "id": "KOPjqGudbKZ0",
        "outputId": "ee6d0483-f651-4c9e-f7ff-4155d919418c"
      },
      "execution_count": 2,
      "outputs": [
        {
          "output_type": "stream",
          "name": "stdout",
          "text": [
            "Enter the number of rows needed9\n",
            "1 \n",
            "2 1 \n",
            "3 2 1 \n",
            "4 3 2 1 \n",
            "5 4 3 2 1 \n",
            "6 5 4 3 2 1 \n",
            "7 6 5 4 3 2 1 \n",
            "8 7 6 5 4 3 2 1 \n",
            "9 8 7 6 5 4 3 2 1 \n"
          ]
        }
      ]
    },
    {
      "cell_type": "code",
      "source": [
        "n=int(input('Enter number of rows needed:'))\n",
        "for i in range(n):\n",
        "    for j in range(i,-1,-1):\n",
        "        print(i+1,end=' ')\n",
        "    print()"
      ],
      "metadata": {
        "colab": {
          "base_uri": "https://localhost:8080/"
        },
        "id": "fyfcm-cycEaB",
        "outputId": "faa1ceb1-c048-4456-f48e-aa15796458c4"
      },
      "execution_count": 3,
      "outputs": [
        {
          "output_type": "stream",
          "name": "stdout",
          "text": [
            "Enter number of rows needed:9\n",
            "1 \n",
            "2 2 \n",
            "3 3 3 \n",
            "4 4 4 4 \n",
            "5 5 5 5 5 \n",
            "6 6 6 6 6 6 \n",
            "7 7 7 7 7 7 7 \n",
            "8 8 8 8 8 8 8 8 \n",
            "9 9 9 9 9 9 9 9 9 \n"
          ]
        }
      ]
    },
    {
      "cell_type": "code",
      "source": [
        "n = int(input('Enter number of rowss needed:'))\n",
        "for i in range(n):\n",
        "    for j in range(i+1):\n",
        "        print(n-i,end =\" \")\n",
        "    print()"
      ],
      "metadata": {
        "colab": {
          "base_uri": "https://localhost:8080/"
        },
        "id": "j_xF-M7gc7j2",
        "outputId": "ed2e3614-0c8f-4be3-c5f6-4627b72fa199"
      },
      "execution_count": 4,
      "outputs": [
        {
          "output_type": "stream",
          "name": "stdout",
          "text": [
            "Enter number of rowss needed:10\n",
            "10 \n",
            "9 9 \n",
            "8 8 8 \n",
            "7 7 7 7 \n",
            "6 6 6 6 6 \n",
            "5 5 5 5 5 5 \n",
            "4 4 4 4 4 4 4 \n",
            "3 3 3 3 3 3 3 3 \n",
            "2 2 2 2 2 2 2 2 2 \n",
            "1 1 1 1 1 1 1 1 1 1 \n"
          ]
        }
      ]
    },
    {
      "cell_type": "code",
      "source": [
        "n = int(input('Enter number of rows:'))\n",
        "for i in range(n):\n",
        "    for j in range(i+1):\n",
        "        print(n-j,end=\" \")\n",
        "    print()"
      ],
      "metadata": {
        "colab": {
          "base_uri": "https://localhost:8080/"
        },
        "id": "MmBy1LOKdkS0",
        "outputId": "f98f81d2-b3e2-4cab-9b3c-38e064c82e4f"
      },
      "execution_count": 5,
      "outputs": [
        {
          "output_type": "stream",
          "name": "stdout",
          "text": [
            "Enter number of rows:10\n",
            "10 \n",
            "10 9 \n",
            "10 9 8 \n",
            "10 9 8 7 \n",
            "10 9 8 7 6 \n",
            "10 9 8 7 6 5 \n",
            "10 9 8 7 6 5 4 \n",
            "10 9 8 7 6 5 4 3 \n",
            "10 9 8 7 6 5 4 3 2 \n",
            "10 9 8 7 6 5 4 3 2 1 \n"
          ]
        }
      ]
    },
    {
      "cell_type": "code",
      "source": [
        "#reversing the index value programe\n",
        "n = int(input('Enter number of rows needed:'))\n",
        "for i in range(n):\n",
        "    for j in range(i,-1,-1):\n",
        "        print(n-j,end=\" \")\n",
        "    print()"
      ],
      "metadata": {
        "colab": {
          "base_uri": "https://localhost:8080/"
        },
        "id": "LRsOQkWNd7Lm",
        "outputId": "800f221d-7c1c-41f7-bbc1-9646dba50ff2"
      },
      "execution_count": 6,
      "outputs": [
        {
          "output_type": "stream",
          "name": "stdout",
          "text": [
            "Enter number of rows needed:5\n",
            "5 \n",
            "4 5 \n",
            "3 4 5 \n",
            "2 3 4 5 \n",
            "1 2 3 4 5 \n"
          ]
        }
      ]
    }
  ]
}