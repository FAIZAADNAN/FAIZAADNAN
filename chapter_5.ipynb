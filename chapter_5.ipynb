{
  "nbformat": 4,
  "nbformat_minor": 0,
  "metadata": {
    "colab": {
      "provenance": [],
      "collapsed_sections": [],
      "authorship_tag": "ABX9TyOdsd80y03k01/Q8EEgjkOM",
      "include_colab_link": true
    },
    "kernelspec": {
      "name": "python3",
      "display_name": "Python 3"
    },
    "language_info": {
      "name": "python"
    }
  },
  "cells": [
    {
      "cell_type": "markdown",
      "metadata": {
        "id": "view-in-github",
        "colab_type": "text"
      },
      "source": [
        "<a href=\"https://colab.research.google.com/github/FAIZAADNAN/FAIZAADNAN/blob/main/chapter_5.ipynb\" target=\"_parent\"><img src=\"https://colab.research.google.com/assets/colab-badge.svg\" alt=\"Open In Colab\"/></a>"
      ]
    },
    {
      "cell_type": "code",
      "execution_count": null,
      "metadata": {
        "id": "e_xXrEkZHcjC"
      },
      "outputs": [],
      "source": [
        "Exercise 1: Person ☑️\n",
        "Use a dictionary to store information about a person you know.Store their first name, last name, age, and the city in which they live. You\n",
        "\n",
        "should have keys such as first_name, last_name, age, and city. Print each piece of information stored in your dictionary.\n",
        "\n",
        "   "
      ]
    },
    {
      "cell_type": "code",
      "source": [
        "# using dictionary function storing the keys and integer\n",
        "person = {\n",
        "     'first_name': 'Arham',\n",
        "     'last_name': 'Adnan',\n",
        "     'age':'32',\n",
        "     'city':'Dubai'\n",
        "}\n",
        "print(person['first_name'])\n",
        "print(person['last_name'])\n",
        "print(person['age'])\n",
        "print(person['city'])"
      ],
      "metadata": {
        "colab": {
          "base_uri": "https://localhost:8080/"
        },
        "id": "cTvI3sulIOWN",
        "outputId": "4eaee94e-1712-442d-befa-964e3496fb21"
      },
      "execution_count": null,
      "outputs": [
        {
          "output_type": "stream",
          "name": "stdout",
          "text": [
            "Arham\n",
            "Adnan\n",
            "32\n",
            "Dubai\n"
          ]
        }
      ]
    },
    {
      "cell_type": "code",
      "source": [
        "Exercise 2: Glossary ☑️\n",
        "A Python dictionary can be used to model an actual dictionary. However, to avoid confusion, let’s call it a glossary.\n",
        "\n",
        "Think of five programming words you’ve learned about in the previous chapters. Use these words as the keys in your glossary, and store\n",
        "their meanings as values.\n",
        "\n",
        "Print each word and its meaning as neatly formatted output. You might print the word followed by a colon and then its meaning, or print\n",
        "the word on one line and then print its meaning indented on a second line. Use the newline character (\\n) to insert a blank line between\n",
        "\n",
        "each word-meaning pair in your output.    "
      ],
      "metadata": {
        "id": "HMKcunMvJe3y"
      },
      "execution_count": null,
      "outputs": []
    },
    {
      "cell_type": "code",
      "source": [
        "# printing the programme in which we get the data in string form while adding loop function too\n",
        "glossary = {\n",
        "    'string': 'A series of characters.',\n",
        "    'comment': 'A note in a program that the Python interpreter ignores.',\n",
        "    'list': 'A collection of items in a particular order.',\n",
        "    'loop': 'Work through a collection of items, one at a time.',\n",
        "    'dictionary': \"A collection of key-value pairs.\",\n",
        "    }\n",
        "\n",
        "word = 'string'\n",
        "print(\"\\n\" + word.title() + \": \" + glossary[word])\n",
        "\n",
        "word = 'comment'\n",
        "print(\"\\n\" + word.title() + \": \" + glossary[word])\n",
        "\n",
        "word = 'list'\n",
        "print(\"\\n\" + word.title() + \": \" + glossary[word])\n",
        "\n",
        "word = 'loop'\n",
        "print(\"\\n\" + word.title() + \": \" + glossary[word])\n",
        "\n",
        "word = 'dictionary'\n",
        "print(\"\\n\" + word.title() + \": \" + glossary[word])"
      ],
      "metadata": {
        "colab": {
          "base_uri": "https://localhost:8080/"
        },
        "id": "imixOp_KW5J_",
        "outputId": "ceba6226-112f-47d8-a833-76a43a6544d6"
      },
      "execution_count": null,
      "outputs": [
        {
          "output_type": "stream",
          "name": "stdout",
          "text": [
            "\n",
            "String: A series of characters.\n",
            "\n",
            "Comment: A note in a program that the Python interpreter ignores.\n",
            "\n",
            "List: A collection of items in a particular order.\n",
            "\n",
            "Loop: Work through a collection of items, one at a time.\n",
            "\n",
            "Dictionary: A collection of key-value pairs.\n"
          ]
        }
      ]
    },
    {
      "cell_type": "code",
      "source": [
        "Ecercise 3:glossary 2\n",
        "Now that you know how to loop through a dictionary,\n",
        " clean up the code from Exercise 6-3 (page 99) by replacing your series of print()\n",
        "\n",
        "calls with a loop that runs through the dictionary’s keys and values. \n",
        "When you’re sure that your loop works, add five more Python terms\n",
        "\n",
        "to your glossary.When you run your program again,\n",
        " these new words and meanings should automatically be included in the output.\n",
        "\n",
        "   "
      ],
      "metadata": {
        "id": "DfWWVD3XWHAI"
      },
      "execution_count": null,
      "outputs": []
    },
    {
      "cell_type": "code",
      "source": [
        "# creating a programme using for loop to get the output in string form\n",
        "glossary = {\n",
        "    'string': 'A series of characters.',\n",
        "    'comment': 'A note in a program that the Python interpreter ignores.',\n",
        "    'list': 'A collection of items in a particular order.',\n",
        "    'loop': 'Work through a collection of items, one at a time.',\n",
        "    'dictionary': \"A collection of key-value pairs.\",\n",
        "    'key': 'The first item in a key-value pair in a dictionary.',\n",
        "    'value': 'An item associated with a key in a dictionary.',\n",
        "    'conditional test': 'A comparison between two values.',\n",
        "    'float': 'A numerical value with a decimal component.',\n",
        "    'boolean expression': 'An expression that evaluates to True or False.',\n",
        "    }\n",
        "\n",
        "for word, definition in glossary.items():\n",
        "    print(\"\\n\" + word.title() + \": \" + definition)"
      ],
      "metadata": {
        "colab": {
          "base_uri": "https://localhost:8080/"
        },
        "id": "izC0AYENWUK6",
        "outputId": "8208a251-c593-4e20-959a-67a7cf2c6c9b"
      },
      "execution_count": null,
      "outputs": [
        {
          "output_type": "stream",
          "name": "stdout",
          "text": [
            "\n",
            "String: A series of characters.\n",
            "\n",
            "Comment: A note in a program that the Python interpreter ignores.\n",
            "\n",
            "List: A collection of items in a particular order.\n",
            "\n",
            "Loop: Work through a collection of items, one at a time.\n",
            "\n",
            "Dictionary: A collection of key-value pairs.\n",
            "\n",
            "Key: The first item in a key-value pair in a dictionary.\n",
            "\n",
            "Value: An item associated with a key in a dictionary.\n",
            "\n",
            "Conditional Test: A comparison between two values.\n",
            "\n",
            "Float: A numerical value with a decimal component.\n",
            "\n",
            "Boolean Expression: An expression that evaluates to True or False.\n"
          ]
        }
      ]
    },
    {
      "cell_type": "code",
      "source": [
        "Exercise 4: Rivers ☑️\n",
        "Make a dictionary containing three major rivers and the country each river runs through.\n",
        " One key-value pair might be 'nile': 'egypt'.\n",
        "\n",
        "Use a loop to print a sentence about each river, such as The Nile runs through Egypt.\n",
        "\n",
        "Use a loop to print the name of each river included in the dictionary.\n",
        "\n",
        "Use a loop to print the name of each country included in the dictionary.\n",
        "\n",
        "   "
      ],
      "metadata": {
        "id": "wrI0WOXFXUrp"
      },
      "execution_count": null,
      "outputs": []
    },
    {
      "cell_type": "code",
      "source": [
        "#creating a programme using for loop by storing the name of the rivers and country in key and value function\n",
        "rivers = {\n",
        "    'nile': 'egypt',\n",
        "    'Amazon': 'Brazil',\n",
        "    'ravi': 'pakistan',\n",
        "    'kuskokwim': 'alaska',\n",
        "    'yangtze': 'china',\n",
        "    }\n",
        "for key, value in rivers.items(): #read all items\n",
        "    print(f\"\\n key: {key}\")\n",
        "    print(f'\\nvalue: {value}')\n",
        "\n"
      ],
      "metadata": {
        "colab": {
          "base_uri": "https://localhost:8080/"
        },
        "id": "H_Ac8aiQV8tG",
        "outputId": "8315354f-4748-433f-858d-a0ef8e3546f0"
      },
      "execution_count": null,
      "outputs": [
        {
          "output_type": "stream",
          "name": "stdout",
          "text": [
            "\n",
            " key: nile\n",
            "\n",
            "value: egypt\n",
            "\n",
            " key: Amazon\n",
            "\n",
            "value: Brazil\n",
            "\n",
            " key: ravi\n",
            "\n",
            "value: pakistan\n",
            "\n",
            " key: kuskokwim\n",
            "\n",
            "value: alaska\n",
            "\n",
            " key: yangtze\n",
            "\n",
            "value: china\n"
          ]
        }
      ]
    },
    {
      "cell_type": "code",
      "source": [
        "Exercise 5: Pets ☑️\n",
        "Make several dictionaries, where each dictionary represents a different pet.\n",
        " In each dictionary, include the kind of animal and the\n",
        "\n",
        "owner’s name. Store these dictionaries in a list called pets.\n",
        " Next, loop through your list and asyou do, print everything you know about\n",
        "each pet"
      ],
      "metadata": {
        "id": "59CnZB-2DBnw"
      },
      "execution_count": null,
      "outputs": []
    },
    {
      "cell_type": "code",
      "source": [
        "# Making an empty list to store the pets in.\n",
        "pets = []\n",
        "\n",
        "# Make individual pets, and store each one in the list.\n",
        "pet = {\n",
        "    'animal type': 'kangroo',\n",
        "    'name': 'vishwu',\n",
        "    'owner': 'jack',\n",
        "    'weight': 43,\n",
        "    'eats': 'grass',\n",
        "}\n",
        "pets.append(pet)\n",
        "\n",
        "pet = {\n",
        "    'animal type': 'Turkish angaroo',\n",
        "    'name': 'kinder',\n",
        "    'owner': 'Mark',\n",
        "    'weight': 2,\n",
        "    'eats': 'cat food',\n",
        "}\n",
        "pets.append(pet)\n",
        "\n",
        "pet = {\n",
        "    'animal type': 'parrot',\n",
        "    'name': 'Rio',\n",
        "    'owner': 'Daniel',\n",
        "    'weight': 37,\n",
        "    'eats': 'seeds',\n",
        "}\n",
        "pets.append(pet)\n",
        "\n",
        "# Display information about each pet.\n",
        "for pet in pets:\n",
        "    print(\"\\nHere's what I know about \" + pet['name'].title() + \":\")\n",
        "    for key, value in pet.items():\n",
        "        print(\"\\t\" + key + \": \" + str(value))"
      ],
      "metadata": {
        "colab": {
          "base_uri": "https://localhost:8080/"
        },
        "id": "7Igquk0H96-n",
        "outputId": "0906385b-03cf-4e77-d1e6-5f5e36601573"
      },
      "execution_count": null,
      "outputs": [
        {
          "output_type": "stream",
          "name": "stdout",
          "text": [
            "\n",
            "Here's what I know about Vishwu:\n",
            "\tanimal type: kangroo\n",
            "\tname: vishwu\n",
            "\towner: jack\n",
            "\tweight: 43\n",
            "\teats: grass\n",
            "\n",
            "Here's what I know about Kinder:\n",
            "\tanimal type: Turkish angaroo\n",
            "\tname: kinder\n",
            "\towner: Mark\n",
            "\tweight: 2\n",
            "\teats: cat food\n",
            "\n",
            "Here's what I know about Rio:\n",
            "\tanimal type: parrot\n",
            "\tname: Rio\n",
            "\towner: Daniel\n",
            "\tweight: 37\n",
            "\teats: seeds\n"
          ]
        }
      ]
    },
    {
      "cell_type": "code",
      "source": [
        "Extra programmes"
      ],
      "metadata": {
        "id": "0VN9RbSmYO37"
      },
      "execution_count": null,
      "outputs": []
    },
    {
      "cell_type": "code",
      "source": [
        "city_name ='\\n please enter the city you would love to visit:'\n",
        "city_name+='\\n enter quit when you are finished'\n",
        "while True:\n",
        "   city=input(city_name)\n",
        "\n",
        "   if city=='quit':\n",
        "     break\n",
        "   else:\n",
        "     print('i would love to go', city.title(),'!')\n"
      ],
      "metadata": {
        "colab": {
          "base_uri": "https://localhost:8080/"
        },
        "id": "v2KquuW-9Q6j",
        "outputId": "29071615-0a3c-42bb-f463-4ef04fdee805"
      },
      "execution_count": null,
      "outputs": [
        {
          "name": "stdout",
          "output_type": "stream",
          "text": [
            "\n",
            " please enter the city you would love to visit:\n",
            " enter quit when you are finishedlondon\n",
            "i would love to go London !\n",
            "\n",
            " please enter the city you would love to visit:\n",
            " enter quit when you are finisheduae\n",
            "i would love to go Uae !\n",
            "\n",
            " please enter the city you would love to visit:\n",
            " enter quit when you are finishedbreak\n",
            "i would love to go Break !\n",
            "\n",
            " please enter the city you would love to visit:\n",
            " enter quit when you are finishedquit\n"
          ]
        }
      ]
    },
    {
      "cell_type": "code",
      "source": [
        "# this programme is to print out the keys for guiter\n",
        "\n",
        "my_list = ['E','A','D','G','B','E']\n",
        "\n",
        "for i in my_list:\n",
        "    print(i)"
      ],
      "metadata": {
        "colab": {
          "base_uri": "https://localhost:8080/"
        },
        "id": "J0vleNxf-5lY",
        "outputId": "53f7af3e-83cb-4876-dc8b-c857445b2148"
      },
      "execution_count": null,
      "outputs": [
        {
          "output_type": "stream",
          "name": "stdout",
          "text": [
            "E\n",
            "A\n",
            "D\n",
            "G\n",
            "B\n",
            "E\n"
          ]
        }
      ]
    },
    {
      "cell_type": "code",
      "source": [
        "# recreating very famous destiny child song\n",
        "names= ['kylie','gigi hadid','jennifer lawrance']\n",
        "\n",
        "for n in names:\n",
        "  print(n +\",can you handle this?\")\n",
        "\n",
        "print(\"i dont think they can handle this\")"
      ],
      "metadata": {
        "colab": {
          "base_uri": "https://localhost:8080/"
        },
        "id": "Fx4gl7JjBKDf",
        "outputId": "ffe91074-c39b-4da7-9608-ba03e4d5a88c"
      },
      "execution_count": null,
      "outputs": [
        {
          "output_type": "stream",
          "name": "stdout",
          "text": [
            "kylie,can you handle this?\n",
            "gigi hadid,can you handle this?\n",
            "jennifer lawrance,can you handle this?\n",
            "i dont think they can handle this\n"
          ]
        }
      ]
    },
    {
      "cell_type": "code",
      "source": [
        "# Multiplication table\n",
        "number = int(input(\"Enter an integer: \"))\n",
        "\n",
        "for count in range(1, 11):\n",
        "    product = number * count\n",
        "    print(number, \"*\", count, \"=\", product)"
      ],
      "metadata": {
        "colab": {
          "base_uri": "https://localhost:8080/"
        },
        "id": "-o7NdqgjD8EL",
        "outputId": "6a1ca0fb-b3e7-439c-fec6-5c66010c5087"
      },
      "execution_count": null,
      "outputs": [
        {
          "output_type": "stream",
          "name": "stdout",
          "text": [
            "Enter an integer: 9\n",
            "9 * 1 = 9\n",
            "9 * 2 = 18\n",
            "9 * 3 = 27\n",
            "9 * 4 = 36\n",
            "9 * 5 = 45\n",
            "9 * 6 = 54\n",
            "9 * 7 = 63\n",
            "9 * 8 = 72\n",
            "9 * 9 = 81\n",
            "9 * 10 = 90\n"
          ]
        }
      ]
    },
    {
      "cell_type": "code",
      "source": [
        "# creating a programme to find the sum from 1 to 100\n",
        "\n",
        "total = 0\n",
        "\n",
        "# looping from 1 to 100\n",
        "for number in range(1, 101):\n",
        "    total = total + number\n",
        "print(total)\n"
      ],
      "metadata": {
        "id": "J4WQysbWEPqg",
        "colab": {
          "base_uri": "https://localhost:8080/"
        },
        "outputId": "7d914302-3446-4a3a-cd08-03e35f77ff03"
      },
      "execution_count": null,
      "outputs": [
        {
          "output_type": "stream",
          "name": "stdout",
          "text": [
            "5050\n"
          ]
        }
      ]
    },
    {
      "cell_type": "code",
      "source": [
        "student = {'name': 'adnan','id': 20, 'course':'BSC CC'}\n",
        "print('Display key-value ppairs')\n",
        "for key, value in student.items(): #Read all items\n",
        "   print(f\"\\nkey: {key}\")\n",
        "   print(f\"value: {value}\")\n"
      ],
      "metadata": {
        "colab": {
          "base_uri": "https://localhost:8080/"
        },
        "id": "c3Q-o626FSED",
        "outputId": "b262dbc3-560b-40f1-fb33-0df4911a9cd9"
      },
      "execution_count": null,
      "outputs": [
        {
          "output_type": "stream",
          "name": "stdout",
          "text": [
            "Display key-value ppairs\n",
            "\n",
            "key: name\n",
            "value: adnan\n",
            "\n",
            "key: id\n",
            "value: 20\n",
            "\n",
            "key: course\n",
            "value: BSC CC\n"
          ]
        }
      ]
    },
    {
      "cell_type": "code",
      "source": [
        "# programme about favourite numbers\n",
        "favorite_numbers = {\n",
        "    'Arham': 53,\n",
        "    'Muhammad': 67,\n",
        "    'Rafayel': 98,\n",
        "    'Kris': 98,\n",
        "    'owel': 0,\n",
        "    }\n",
        "\n",
        "num = favorite_numbers['Arham']\n",
        "print(\"Arham favorite number is \" + str(num) + \".\")\n",
        "\n",
        "num = favorite_numbers['Muhammad']\n",
        "print(\"Muhammad favorite number is \" + str(num) + \".\")\n",
        "\n",
        "num = favorite_numbers['Rafayel']\n",
        "print(\"Rafayel favorite number is \" + str(num) + \".\")\n",
        "\n",
        "num = favorite_numbers['Kris']\n",
        "print(\"Kris favorite number is \" + str(num) + \".\")\n",
        "\n",
        "num = favorite_numbers['owel']\n",
        "print(\"owel favorite number is \" + str(num) + \".\")"
      ],
      "metadata": {
        "colab": {
          "base_uri": "https://localhost:8080/"
        },
        "id": "GuV3p_wSFX8I",
        "outputId": "3af04f6f-82b9-4791-b723-bfc996f784f5"
      },
      "execution_count": null,
      "outputs": [
        {
          "output_type": "stream",
          "name": "stdout",
          "text": [
            "Arham favorite number is 53.\n",
            "Muhammad favorite number is 67.\n",
            "Rafayel favorite number is 98.\n",
            "Kris favorite number is 98.\n",
            "owel favorite number is 0.\n"
          ]
        }
      ]
    },
    {
      "cell_type": "code",
      "source": [
        "# printing the favorite coding launguage of the students\n",
        "favorite_languages = {\n",
        "    'Sara': 'python',\n",
        "    'Horiya': 'c',\n",
        "    'Hajra': 'ruby',\n",
        "    'Noor': 'python',\n",
        "    }\n",
        "\n",
        "for name, language in favorite_languages.items():\n",
        "    print(name.title() + \"'s favorite language is \" +\n",
        "        language.title() + \".\")\n",
        "\n",
        "\n",
        "print('\\n')\n",
        "\n",
        "coders = ['john','Ali','hassan','Abrar','Aman','Arman','sami']\n",
        "for coder in coders:\n",
        "    if coder in favorite_languages.keys():\n",
        "       print(\"Thank you for taking the poll, \" + coder.title() + \"!\")\n",
        "    else:\n",
        "        print(coder.title() + \", what's your favorite programming language?\")  \n",
        "        "
      ],
      "metadata": {
        "colab": {
          "base_uri": "https://localhost:8080/"
        },
        "id": "uDmQsCE7HC1y",
        "outputId": "4ef3254b-6ff4-4959-e8fd-1c4b0c8c25a9"
      },
      "execution_count": null,
      "outputs": [
        {
          "output_type": "stream",
          "name": "stdout",
          "text": [
            "Sara's favorite language is Python.\n",
            "Horiya's favorite language is C.\n",
            "Hajra's favorite language is Ruby.\n",
            "Noor's favorite language is Python.\n",
            "\n",
            "\n",
            "John, what's your favorite programming language?\n",
            "Ali, what's your favorite programming language?\n",
            "Hassan, what's your favorite programming language?\n",
            "Abrar, what's your favorite programming language?\n",
            "Aman, what's your favorite programming language?\n",
            "Arman, what's your favorite programming language?\n",
            "Sami, what's your favorite programming language?\n"
          ]
        }
      ]
    }
  ]
}