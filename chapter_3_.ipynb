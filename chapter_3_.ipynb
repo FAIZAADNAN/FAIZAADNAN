{
  "nbformat": 4,
  "nbformat_minor": 0,
  "metadata": {
    "colab": {
      "provenance": [],
      "authorship_tag": "ABX9TyONZMTTgiRzvp/uBIbnW0CH",
      "include_colab_link": true
    },
    "kernelspec": {
      "name": "python3",
      "display_name": "Python 3"
    },
    "language_info": {
      "name": "python"
    }
  },
  "cells": [
    {
      "cell_type": "markdown",
      "metadata": {
        "id": "view-in-github",
        "colab_type": "text"
      },
      "source": [
        "<a href=\"https://colab.research.google.com/github/FAIZAADNAN/FAIZAADNAN/blob/main/chapter_3_.ipynb\" target=\"_parent\"><img src=\"https://colab.research.google.com/assets/colab-badge.svg\" alt=\"Open In Colab\"/></a>"
      ]
    },
    {
      "cell_type": "code",
      "execution_count": null,
      "metadata": {
        "id": "ZcE19pHohr-n"
      },
      "outputs": [],
      "source": [
        "Exercise 1: Names ☑️\n",
        "Store the names of a few of your friends in a list called names.\n",
        " Print each person’s name by accessing each element in the list, one at a\n",
        "\n",
        "time."
      ]
    },
    {
      "cell_type": "code",
      "source": [
        "# storing the names of the friends in a list called names\n",
        "names= ['muhammad','omer','imran','rashid']\n",
        "# greet each friends by saying Hi\n",
        "\n",
        "print(names[0])\n",
        "print( names[1])\n",
        "print( names[2])\n",
        "print( names[3])"
      ],
      "metadata": {
        "colab": {
          "base_uri": "https://localhost:8080/"
        },
        "id": "m5DZScj5h1cQ",
        "outputId": "666fde7b-20dc-431d-8379-8db1fdc017be"
      },
      "execution_count": null,
      "outputs": [
        {
          "output_type": "stream",
          "name": "stdout",
          "text": [
            "muhammad\n",
            "Omer\n",
            "Imran\n",
            "Rashid\n"
          ]
        }
      ]
    },
    {
      "cell_type": "code",
      "source": [
        "Exercise 2: Greetings ☑️\n",
        "Start with the list you used in Exercise 1, but instead of just\n",
        "\n",
        "printing each person’s name, print a message to them. \n",
        "The text of each message should be the same, but each message should be\n",
        "\n",
        "personalized with the person’s name."
      ],
      "metadata": {
        "id": "KwSvH1ZMi-pT"
      },
      "execution_count": null,
      "outputs": []
    },
    {
      "cell_type": "code",
      "source": [
        "# store the names of the friends in a list called names\n",
        "names=['Muhammad','Omer','Imran','Rashid']\n",
        "#greet each friends by saying how are you\n",
        "\n",
        "print(\"how are you,\"+names[0].title()+'!')\n",
        "print(\"how are you,\"+names[1].title()+'!')\n",
        "print(\"how are you,\"+names[2].title()+'!')\n",
        "print(\"how are you,\"+names[3].title()+'!')"
      ],
      "metadata": {
        "colab": {
          "base_uri": "https://localhost:8080/"
        },
        "id": "-uXOMA2zjH-p",
        "outputId": "aa338a6b-7e99-4852-98fe-507ece33d52e"
      },
      "execution_count": null,
      "outputs": [
        {
          "output_type": "stream",
          "name": "stdout",
          "text": [
            "how are you,Muhammad!\n",
            "how are you,Omer!\n",
            "how are you,Imran!\n",
            "how are you,Rashid!\n"
          ]
        }
      ]
    },
    {
      "cell_type": "code",
      "source": [
        "Exercise 3: Your Own List ☑️\n",
        "Think of your favorite mode of transportation, such as a motorcycle or a car, and make a list that stores several examples. Use your list\n",
        "\n",
        "to print a series of statements about these items, such as “I would like to own a Honda motorcycle.”"
      ],
      "metadata": {
        "id": "xfkEukqE-PHn"
      },
      "execution_count": null,
      "outputs": []
    },
    {
      "cell_type": "code",
      "source": [
        "#store the names of the mode of transportation in a list called names\n",
        "names= ['Motorcycle','car','van','bus']\n",
        "\n",
        "\n",
        "print(\"i would like to own a,\"+ names[0])\n",
        "print(\"i would like to own a,\"+ names[1])\n",
        "print(\"i would like to own a,\"+ names[2])"
      ],
      "metadata": {
        "colab": {
          "base_uri": "https://localhost:8080/"
        },
        "id": "3YQFK4cu9_Ok",
        "outputId": "52be92de-9f34-4e8a-cfc2-6ce76987b54f"
      },
      "execution_count": null,
      "outputs": [
        {
          "output_type": "stream",
          "name": "stdout",
          "text": [
            "i would like to own a,Motorcycle\n",
            "i would like to own a,car\n",
            "i would like to own a,van\n"
          ]
        }
      ]
    },
    {
      "cell_type": "code",
      "source": [
        "Exercise 4: Guest List ☑️\n",
        "If you could invite anyone, living or deceased, to dinner, who would you invite?\n",
        " Make a list that includes at least three people you’d\n",
        "\n",
        "like to invite to dinner. Then use your list to print a message to each person, \n",
        "inviting them to dinner."
      ],
      "metadata": {
        "id": "K4u8GyCusENy"
      },
      "execution_count": null,
      "outputs": []
    },
    {
      "cell_type": "code",
      "source": [
        "#store the names of the guests inviting for a dinner.\n",
        "names=['Muhammad','Omer','Rashid,''Imran']\n",
        "#invite each friend by their names\n",
        "print(\"Hi iam inviting you to dinner,\" + names[0])\n",
        "print(\"Hi iam inviting you to dinner,\" + names[1])\n",
        "print(\"Hi iam iniviting you to dinner,\" + names[2])\n"
      ],
      "metadata": {
        "colab": {
          "base_uri": "https://localhost:8080/"
        },
        "id": "F3rVCqNKsqku",
        "outputId": "fad664d7-b542-4850-f300-795f136ab7d8"
      },
      "execution_count": null,
      "outputs": [
        {
          "output_type": "stream",
          "name": "stdout",
          "text": [
            "Hi iam inviting you to dinner,Muhammad\n",
            "Hi iam inviting you to dinner,Omer\n",
            "Hi iam iniviting you to dinner,Rashid,Imran\n"
          ]
        }
      ]
    },
    {
      "cell_type": "code",
      "source": [
        "Exercise 5: Change Guest List ☑️\n",
        "You just heard that one of your guests can’t make the dinner, so you need to send out a new set of invitations.\n",
        " You’ll have to think of someone else to invite.\n",
        "\n",
        "•Start with your program from Exercise 3-4. Add a print() call at the end of your program stating the name of the guest who can’t make it.\n",
        "\n",
        "•Modify your list, replacing the name of the guest who can’t make it with the name of the new person you are inviting.\n",
        "\n",
        "•Print a second set of invitation messages, one for each person who is still in your list."
      ],
      "metadata": {
        "id": "MtKeSPuZyyiX"
      },
      "execution_count": null,
      "outputs": []
    },
    {
      "cell_type": "code",
      "source": [
        "#store the names of the guests inviting for a dinner.\n",
        "names=[\"Muhammad\",\"Omer\",\"Rashid\",]\n",
        "#invite each friend by their names\n",
        "print(\"Hi iam inviting you to dinner,\" + names[0])\n",
        "print(\"Hi iam inviting you to dinner,\" + names[1])\n",
        "print(\"Hi iam iniviting you to dinner,\" + names[2])\n",
        "guests = names[0].title()\n",
        "print(\"\\nSorry,\" + guests +\"cant make it to the dinner\")\n",
        "#Muhammad cant make it lets invite Arham\n",
        "del(names[0])\n",
        "names.insert(0,'Arham')\n",
        "#print the invitations again.\n",
        "guest = names[0]\n",
        "print(guest   +   ' please come to dinner.')\n",
        "\n",
        "guest = names[1]\n",
        "print(guest   +   ' please come to dinner.')\n",
        "\n",
        "guest = names[2]\n",
        "print(guests  +   '  please come to dinner')\n"
      ],
      "metadata": {
        "colab": {
          "base_uri": "https://localhost:8080/"
        },
        "id": "JpAZU-KszxD7",
        "outputId": "ae557786-5c22-4510-d79b-0cd8c729feb7"
      },
      "execution_count": null,
      "outputs": [
        {
          "output_type": "stream",
          "name": "stdout",
          "text": [
            "Hi iam inviting you to dinner,Muhammad\n",
            "Hi iam inviting you to dinner,Omer\n",
            "Hi iam iniviting you to dinner,Rashid\n",
            "\n",
            "Sorry,Muhammadcant make it to the dinner\n",
            "Arham please come to dinner.\n",
            "Omer please come to dinner.\n",
            "Muhammad  please come to dinner\n"
          ]
        }
      ]
    },
    {
      "cell_type": "code",
      "source": [
        "Exercise 6: Shrinking Guest List ☑️\n",
        "You just found out that your new dinner table won’t arrive in time for the dinner, and you have space for only two guests.\n",
        "\n",
        "•Start with your program from Exercise 3-5. Add a new line that prints a message saying that you can invite only two people for dinner.\n",
        "\n",
        "•Use pop() to remove guests from your list one at a time until only two names remain in your list. Each time you pop a name from your list,\n",
        " print a message to that person letting them know you’re sorry you can’t invite them to dinner.\n",
        "\n",
        "•Print a message to each of the two people still on your list, letting them know they’re still invited.\n",
        "\n",
        "•Use del to remove the last two names from your list, so you have an empty list.\n",
        " Print your list to make sure you actually have an empty list at the end of your program.    "
      ],
      "metadata": {
        "id": "1K2wreqo4QIm"
      },
      "execution_count": null,
      "outputs": []
    },
    {
      "cell_type": "code",
      "source": [
        "# Invite some people to dinner.\n",
        "guests = ['Muhamad', 'omer', 'rashid']\n",
        "\n",
        "name = guests[0].title()\n",
        "print(name + \", please come to dinner.\")\n",
        "\n",
        "name = guests[1].title()\n",
        "print(name + \", please come to dinner.\")\n",
        "\n",
        "name = guests[2].title()\n",
        "print(name + \", please come to dinner.\")\n",
        "\n",
        "name = guests[1].title()\n",
        "print(\"\\nSorry, \" + name + \" can't make it to dinner.\")\n",
        "\n",
        "# omer can't make it! Let's invite Arham instead.\n",
        "del(guests[1])\n",
        "guests.insert(1, 'Arham')\n",
        "\n",
        "# Print the invitations again.\n",
        "name = guests[0].title()\n",
        "print(\"\\n\" + name + \", please come to dinner.\")\n",
        "\n",
        "name = guests[1].title()\n",
        "print(name + \", please come to dinner.\")\n",
        "\n",
        "name = guests[2].title()\n",
        "print(name + \", please come to dinner.\")\n",
        "\n",
        "# We got a bigger table, so let's add some more people to the list.\n",
        "print(\"\\nWe got a bigger table!\")\n",
        "guests.insert(0, 'Ayoob')\n",
        "guests.insert(2, 'yaqoob')\n",
        "guests.append('yusuf')\n",
        "\n",
        "name = guests[0].title()\n",
        "print(name + \", please come to dinner.\")\n",
        "\n",
        "name = guests[1].title()\n",
        "print(name + \", please come to dinner.\")\n",
        "\n",
        "name = guests[2].title()\n",
        "print(name + \", please come to dinner.\")\n",
        "\n",
        "name = guests[3].title()\n",
        "print(name + \", please come to dinner.\")\n",
        "\n",
        "name = guests[4].title()\n",
        "print(name + \", please come to dinner.\")\n",
        "\n",
        "name = guests[5].title()\n",
        "print(name + \", please come to dinner.\")\n",
        "\n",
        "# Oh no, the table won't arrive on time!\n",
        "print(\"\\nSorry, we can only invite two people to dinner.\")\n",
        "\n",
        "name = guests.pop()\n",
        "print(\"Sorry, \" + name.title() + \" there's no room at the table.\")\n",
        "\n",
        "name = guests.pop()\n",
        "print(\"Sorry, \" + name.title() + \" there's no room at the table.\")\n",
        "\n",
        "name = guests.pop()\n",
        "print(\"Sorry, \" + name.title() + \" there's no room at the table.\")\n",
        "\n",
        "name = guests.pop()\n",
        "print(\"Sorry, \" + name.title() + \" there's no room at the table.\")\n",
        "\n",
        "# There should be two people left. Let's invite them.\n",
        "name = guests[0].title()\n",
        "print(name + \", please come to dinner.\")\n",
        "\n",
        "name = guests[1].title()\n",
        "print(name + \", please come to dinner.\")\n",
        "\n",
        "# Empty out the list.\n",
        "del(guests[0])\n",
        "del(guests[0])\n",
        "\n",
        "# Prove the list is empty.\n",
        "print(guests)"
      ],
      "metadata": {
        "colab": {
          "base_uri": "https://localhost:8080/"
        },
        "id": "KyUOzCkY0Fl6",
        "outputId": "4dea26d8-0f40-4381-a394-f44348f30551"
      },
      "execution_count": null,
      "outputs": [
        {
          "output_type": "stream",
          "name": "stdout",
          "text": [
            "Muhamad, please come to dinner.\n",
            "Omer, please come to dinner.\n",
            "Rashid, please come to dinner.\n",
            "\n",
            "Sorry, Omer can't make it to dinner.\n",
            "\n",
            "Muhamad, please come to dinner.\n",
            "Arham, please come to dinner.\n",
            "Rashid, please come to dinner.\n",
            "\n",
            "We got a bigger table!\n",
            "Ayoob, please come to dinner.\n",
            "Muhamad, please come to dinner.\n",
            "Yaqoob, please come to dinner.\n",
            "Arham, please come to dinner.\n",
            "Rashid, please come to dinner.\n",
            "Yusuf, please come to dinner.\n",
            "\n",
            "Sorry, we can only invite two people to dinner.\n",
            "Sorry, Yusuf there's no room at the table.\n",
            "Sorry, Rashid there's no room at the table.\n",
            "Sorry, Arham there's no room at the table.\n",
            "Sorry, Yaqoob there's no room at the table.\n",
            "Ayoob, please come to dinner.\n",
            "Muhamad, please come to dinner.\n",
            "[]\n"
          ]
        }
      ]
    },
    {
      "cell_type": "code",
      "source": [
        "Exercise 7: Seeing the World ☑️\n",
        "Think of at least five places in the world you’d like to visit. • Store the locations in a list.\n",
        " Make sure the list is not in alphabetical order.\n",
        "\n",
        "• Print your list in its original order. Don’t worry about printing the list neatly,just print it as a raw Python list.\n",
        "\n",
        "• Use sorted() to print your list in alphabetical order without modifying the actual list.\n",
        "\n",
        "• Show that your list is still in its original order by printing it.\n",
        "\n",
        "• Use sorted() to print your list in reverse alphabetical order without changing the order of the original list.\n",
        "\n",
        "• Show that your list is still in its original order by printing it again.\n",
        "\n",
        "• Use reverse() to change the order of your list. Print the list to show that its order has changed.\n",
        "\n",
        "• Use reverse() to change the order of your list again. Print the list to show it’s back to its original order.\n",
        "\n",
        "• Use sort() to change your list so it’s stored in alphabetical order. Print the list to show that its order has been changed.\n",
        "\n",
        "• Use sort() to change your list so it’s stored in reverse alphabetical order. Print the list to show that its order has changed.\n",
        "\n",
        "   "
      ],
      "metadata": {
        "id": "LgQTj9WT06ox"
      },
      "execution_count": null,
      "outputs": []
    },
    {
      "cell_type": "code",
      "source": [
        "#creating programme using reverse function list\n",
        "locations = ['switzerland', 'canada', 'australia', 'newyork', 'pakistan']\n",
        "\n",
        "print(\"Original order:\")\n",
        "print(locations)\n",
        "\n",
        "print(\"\\nAlphabetical:\")\n",
        "print(sorted(locations))\n",
        "\n",
        "print(\"\\nOriginal order:\")\n",
        "print(locations)\n",
        "\n",
        "print(\"\\nReverse alphabetical:\")\n",
        "print(sorted(locations, reverse=True)) #using sort function from ascending or decending order\n",
        "\n",
        "print(\"\\nOriginal order:\")\n",
        "print(locations)\n",
        "\n",
        "print(\"\\nReversed:\")\n",
        "locations.reverse()\n",
        "print(locations)\n",
        "\n",
        "print(\"\\nOriginal order:\")\n",
        "locations.reverse()\n",
        "print(locations)\n",
        "\n",
        "print(\"\\nAlphabetical\")\n",
        "locations.sort()\n",
        "print(locations)\n",
        "\n",
        "print(\"\\nReverse alphabetical\")  #calling the reverse function for the countries list\n",
        "locations.sort(reverse=True)\n",
        "print(locations)"
      ],
      "metadata": {
        "colab": {
          "base_uri": "https://localhost:8080/"
        },
        "id": "jgFM_jvm1Oao",
        "outputId": "5bacaa2c-e172-4b13-f793-5332408b99c7"
      },
      "execution_count": null,
      "outputs": [
        {
          "output_type": "stream",
          "name": "stdout",
          "text": [
            "Original order:\n",
            "['switzerland', 'canada', 'australia', 'newyork', 'pakistan']\n",
            "\n",
            "Alphabetical:\n",
            "['australia', 'canada', 'newyork', 'pakistan', 'switzerland']\n",
            "\n",
            "Original order:\n",
            "['switzerland', 'canada', 'australia', 'newyork', 'pakistan']\n",
            "\n",
            "Reverse alphabetical:\n",
            "['switzerland', 'pakistan', 'newyork', 'canada', 'australia']\n",
            "\n",
            "Original order:\n",
            "['switzerland', 'canada', 'australia', 'newyork', 'pakistan']\n",
            "\n",
            "Reversed:\n",
            "['pakistan', 'newyork', 'australia', 'canada', 'switzerland']\n",
            "\n",
            "Original order:\n",
            "['switzerland', 'canada', 'australia', 'newyork', 'pakistan']\n",
            "\n",
            "Alphabetical\n",
            "['australia', 'canada', 'newyork', 'pakistan', 'switzerland']\n",
            "\n",
            "Reverse alphabetical\n",
            "['switzerland', 'pakistan', 'newyork', 'canada', 'australia']\n"
          ]
        }
      ]
    },
    {
      "cell_type": "code",
      "source": [
        "Extra Programmes\n",
        "\n"
      ],
      "metadata": {
        "id": "1Q7f9jcj153S"
      },
      "execution_count": null,
      "outputs": []
    },
    {
      "cell_type": "code",
      "source": [
        "flowers = ['rose','jasmine','lilly']\n",
        "# print list\n",
        "print(flowers)\n",
        "\n",
        "#Access elements of the list\n",
        "print(flowers[0])\n",
        "print(flowers[1])\n",
        "print(flowers[2])\n",
        "\n",
        "#replace the 1st element of the list\n",
        "flowers[0]='Lavender'\n",
        "print(flowers)\n",
        "\n",
        "#add one more flower in the end of the list using append () function\n",
        "flowers.append('hisbacus')\n",
        "print('flowers')\n",
        "\n",
        "#insert element in the list using insert function()\n",
        "flowers.insert(0,'orchid')\n",
        "flowers.insert(1,'tulip')\n",
        "print('flowers')\n",
        "\n",
        "#remove element from the list using value\n",
        "print('flower')\n",
        "flowers.remove('lilly')\n",
        "print(flowers)\n",
        "\n",
        "\n",
        "#remove last element in a using pop function\n",
        "print('flower')\n",
        "flowers.pop()\n",
        "print(flowers)\n",
        "\n",
        "#sort the list alphabetically\n",
        "print('flowers')\n",
        "\n",
        "print('flowers')"
      ],
      "metadata": {
        "colab": {
          "base_uri": "https://localhost:8080/"
        },
        "id": "ThGCdPYG2LQb",
        "outputId": "7b5c16ad-db23-4a52-d6b8-84cd44ee3d9a"
      },
      "execution_count": null,
      "outputs": [
        {
          "output_type": "stream",
          "name": "stdout",
          "text": [
            "['rose', 'jasmine', 'lilly']\n",
            "rose\n",
            "jasmine\n",
            "lilly\n",
            "['Lavender', 'jasmine', 'lilly']\n",
            "flowers\n",
            "flowers\n",
            "flower\n",
            "['orchid', 'tulip', 'Lavender', 'jasmine', 'hisbacus']\n",
            "flower\n",
            "['orchid', 'tulip', 'Lavender', 'jasmine']\n",
            "flowers\n",
            "flowers\n"
          ]
        }
      ]
    },
    {
      "cell_type": "code",
      "source": [
        "a Python program where we are sorting the entire list and\n",
        " then returning the first element as it’ll be the smallest element present in the list."
      ],
      "metadata": {
        "id": "AYorvoEj-6CZ"
      },
      "execution_count": null,
      "outputs": []
    },
    {
      "cell_type": "code",
      "source": [
        "# Python program to find smallest\n",
        "# number in a list\n",
        " \n",
        "# list of numbers\n",
        "list1 = [10, 20, 4, 45, 99]\n",
        " \n",
        "# sorting the list\n",
        "list1.sort()\n",
        " \n",
        "# printing the first element\n",
        "print(\"Smallest element is:\", list1[0])"
      ],
      "metadata": {
        "colab": {
          "base_uri": "https://localhost:8080/"
        },
        "id": "NqC4U8Uy-88k",
        "outputId": "b48b770c-4547-4e1a-cf74-7887ee8f15e7"
      },
      "execution_count": null,
      "outputs": [
        {
          "output_type": "stream",
          "name": "stdout",
          "text": [
            "Smallest element is: 4\n"
          ]
        }
      ]
    },
    {
      "cell_type": "code",
      "source": [
        "Sort the list in ascending order and print the last element in the list\n"
      ],
      "metadata": {
        "id": "JTk6L4oX_agb"
      },
      "execution_count": null,
      "outputs": []
    },
    {
      "cell_type": "code",
      "source": [
        "# Python program to find largest\n",
        "# number in a list\n",
        " \n",
        "# list of numbers\n",
        "list1 = [10, 20, 4, 45, 99]\n",
        " \n",
        "# sorting the list\n",
        "list1.sort()\n",
        " \n",
        "# printing the last element\n",
        "print(\"Largest element is:\", list1[-1])"
      ],
      "metadata": {
        "colab": {
          "base_uri": "https://localhost:8080/"
        },
        "id": "tsFC_DMj_gBU",
        "outputId": "fab6025a-42d0-45a1-ab70-c80f58c6544b"
      },
      "execution_count": null,
      "outputs": [
        {
          "output_type": "stream",
          "name": "stdout",
          "text": [
            "Largest element is: 99\n"
          ]
        }
      ]
    },
    {
      "cell_type": "code",
      "source": [],
      "metadata": {
        "id": "_lKuKyTz_ooI"
      },
      "execution_count": null,
      "outputs": []
    }
  ]
}