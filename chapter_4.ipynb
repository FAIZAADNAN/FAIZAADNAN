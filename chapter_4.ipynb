{
  "nbformat": 4,
  "nbformat_minor": 0,
  "metadata": {
    "colab": {
      "provenance": [],
      "authorship_tag": "ABX9TyMSfHRQF5FUQJJgZFipZoj9",
      "include_colab_link": true
    },
    "kernelspec": {
      "name": "python3",
      "display_name": "Python 3"
    },
    "language_info": {
      "name": "python"
    }
  },
  "cells": [
    {
      "cell_type": "markdown",
      "metadata": {
        "id": "view-in-github",
        "colab_type": "text"
      },
      "source": [
        "<a href=\"https://colab.research.google.com/github/FAIZAADNAN/FAIZAADNAN/blob/main/chapter_4.ipynb\" target=\"_parent\"><img src=\"https://colab.research.google.com/assets/colab-badge.svg\" alt=\"Open In Colab\"/></a>"
      ]
    },
    {
      "cell_type": "code",
      "execution_count": null,
      "metadata": {
        "id": "OaVp-fNI9oKj"
      },
      "outputs": [],
      "source": [
        "Exercise 1: Alien Colors #1 ☑️\n",
        "Imagine an alien was just shot down in a game.\n",
        " Create a variable called alien_color and assign it a value of 'green', 'yellow', or 'red'.\n",
        "\n",
        "•Write an if statement to test whether the alien’s color is green. If it is,\n",
        " print a message that the player just earned 5 points.\n",
        "\n",
        "•Write one version of this program that passes the if test and another that fails.\n",
        " (The version that fails will have no output)"
      ]
    },
    {
      "cell_type": "code",
      "source": [
        "# printing here the programme using if statement to get the points\n",
        "alien_color = 'green'\n",
        "if alien_color == 'green':\n",
        "     print(\"players just earned 5 points\")"
      ],
      "metadata": {
        "colab": {
          "base_uri": "https://localhost:8080/"
        },
        "id": "_wSkJXig58EZ",
        "outputId": "b6f69e4a-9887-4e91-913e-1f254bb6a9d7"
      },
      "execution_count": null,
      "outputs": [
        {
          "output_type": "stream",
          "name": "stdout",
          "text": [
            "players just earned 5 points\n"
          ]
        }
      ]
    },
    {
      "cell_type": "code",
      "source": [
        "alien_color = 'red'\n",
        "if alien_color == 'green':\n",
        "   print(\"players just earned 5 point\")"
      ],
      "metadata": {
        "id": "Xp-08AJb_Bny"
      },
      "execution_count": null,
      "outputs": []
    },
    {
      "cell_type": "code",
      "source": [
        "Exercise 2: Alien Colors #2 ☑️\n",
        "Choose a color for an alien as you did in Exercise 5-3, and write an if-else chain.\n",
        "\n",
        "•If the alien’s color is green, print a statement that the player just earned 5 points for shooting the alien.\n",
        "\n",
        "•If the alien’s color isn’t green, print a statement that the player just earned 10 points.\n",
        "\n",
        "•Write one version of this program that runs the if block and another that runs the else block."
      ],
      "metadata": {
        "id": "_HnTl4ih58mZ"
      },
      "execution_count": null,
      "outputs": []
    },
    {
      "cell_type": "code",
      "source": [
        "alien_color = 'green'\n",
        "if alien_color == 'green':\n",
        "    print('the player just earned 5 points for shooting the alien' )\n",
        "else:\n",
        "    print('the player just earned 10 points for shooting the alien')"
      ],
      "metadata": {
        "colab": {
          "base_uri": "https://localhost:8080/"
        },
        "id": "x9ToC3ud6DQE",
        "outputId": "53c49618-2098-4b1f-aada-fb42778ce595"
      },
      "execution_count": null,
      "outputs": [
        {
          "output_type": "stream",
          "name": "stdout",
          "text": [
            "the player just earned 5 points for shooting the alien\n"
          ]
        }
      ]
    },
    {
      "cell_type": "code",
      "source": [
        "alien_color = 'yellow'\n",
        "if alien_color== 'green':\n",
        "  print('the player just earned 5 points for shooting the alien')\n",
        "else:\n",
        "  print('the player just earned 10 points for shooting the alien')"
      ],
      "metadata": {
        "colab": {
          "base_uri": "https://localhost:8080/"
        },
        "id": "ZXke1b3QAPym",
        "outputId": "3270c697-be49-4b58-9217-af394f85c2c5"
      },
      "execution_count": null,
      "outputs": [
        {
          "output_type": "stream",
          "name": "stdout",
          "text": [
            "the player just earned 10 points for shooting the alien\n"
          ]
        }
      ]
    },
    {
      "cell_type": "code",
      "source": [
        "Turn your if-else chain from Exercise 5-4 into an if-elifelse chain.\n",
        "\n",
        "• If the alien is green, print a message that the player earned 5 points.\n",
        "\n",
        "• If the alien is yellow, print a message that the player earned 10 points.\n",
        "\n",
        "• If the alien is red, print a message that the player earned 15 points.\n",
        "\n",
        "• Write three versions of this program, making sure each message is printed for the appropriate color alien."
      ],
      "metadata": {
        "id": "icfYpJmvBT2i"
      },
      "execution_count": null,
      "outputs": []
    },
    {
      "cell_type": "code",
      "source": [
        "alien_color = 'red'\n",
        "if alien_color == 'green':\n",
        "    print('the player earned 5 points')\n",
        "elif alien_color == 'yellow':\n",
        "     print('the player earned 10 points')\n",
        "else:\n",
        "    print('the player earned 15 points')\n",
        "  "
      ],
      "metadata": {
        "colab": {
          "base_uri": "https://localhost:8080/"
        },
        "id": "fTlDK4MABcHJ",
        "outputId": "828435ad-d293-4c36-bb9b-db589a92bf63"
      },
      "execution_count": null,
      "outputs": [
        {
          "output_type": "stream",
          "name": "stdout",
          "text": [
            "the player earned 15 points\n"
          ]
        }
      ]
    },
    {
      "cell_type": "code",
      "source": [
        "Exercise 4: Stages of Life ☑️\n",
        "Write an if-elif-else chain that determines a person’s stage of life. Set a value for the variable age, and then:\n",
        "\n",
        "•If the person is less than 2 years old, print a message that the person is a baby.\n",
        "\n",
        "•If the person is at least 2 years old but less than 4, print a message that the person is a toddler.\n",
        "\n",
        "•If the person is at least 4 years old but less than 13, print a message that the person is a kid.\n",
        "\n",
        "•If the person is at least 13 years old but less than 20, print a message that the person is a teenager.\n",
        "\n",
        "•If the person is at least 20 years old but less than 65, print a message that the person is an adult.\n",
        "\n",
        "•If the person is age 65 or older, print a message that the person is an elder."
      ],
      "metadata": {
        "id": "YDpLTHYnCkKT"
      },
      "execution_count": null,
      "outputs": []
    },
    {
      "cell_type": "code",
      "source": [
        "age = 16\n",
        "\n",
        "if age < 2:\n",
        "    print('its a baby!')\n",
        "elif age < 4:\n",
        "  print('its a toddler!')\n",
        "elif age< 13:\n",
        "  print('its a kid!')\n",
        "elif age< 20:\n",
        "  print('its a teenager!')\n",
        "elif age< 65:\n",
        "  print('the person is adult!')\n",
        "else:\n",
        "  print('the person is elder!')"
      ],
      "metadata": {
        "colab": {
          "base_uri": "https://localhost:8080/"
        },
        "id": "yc87hs1jCo7o",
        "outputId": "7315c43a-718b-424f-8120-bd8f7c13e589"
      },
      "execution_count": null,
      "outputs": [
        {
          "output_type": "stream",
          "name": "stdout",
          "text": [
            "its a teenager!\n"
          ]
        }
      ]
    },
    {
      "cell_type": "code",
      "source": [
        "Exercise 5: Favorite Fruit ☑️\n",
        "Make a list of your favorite fruits, and then write a series of independent if statements that check for certain fruits in your list.\n",
        "\n",
        "•Make a list of your three favorite fruits and call it favorite_fruits.\n",
        "\n",
        "•Write five if statements. Each should check whether a certain kind of fruit is in your list. If the fruit is in your list, the if block\n",
        "\n",
        "should print a statement,such as You really like bananas!"
      ],
      "metadata": {
        "id": "mkUr7V1bGxEU"
      },
      "execution_count": null,
      "outputs": []
    },
    {
      "cell_type": "code",
      "source": [
        "favorite_fruits = ['Mango','peaches','kiwi']\n",
        "\n",
        "if 'Mango' in favorite_fruits:\n",
        "    print('i realy like Mango!')\n",
        "if 'peaches' in favorite_fruits:\n",
        "    print('i realy like peaches!')\n",
        "if 'kiwi' in favorite_fruits:\n",
        "    print('i realy like kiwi!')\n",
        "if 'watermelon' in favorite_fruits:\n",
        "    print('i realy like watermelon!')"
      ],
      "metadata": {
        "colab": {
          "base_uri": "https://localhost:8080/"
        },
        "id": "xCm8gz2vG6BQ",
        "outputId": "3332e315-f46a-495e-cd9f-73b68fa3c7ef"
      },
      "execution_count": null,
      "outputs": [
        {
          "output_type": "stream",
          "name": "stdout",
          "text": [
            "i realy like Mango!\n",
            "i realy like peaches!\n",
            "i realy like kiwi!\n"
          ]
        }
      ]
    },
    {
      "cell_type": "code",
      "source": [
        "Extra Programmes\n"
      ],
      "metadata": {
        "id": "xuWMiWsdCp7b"
      },
      "execution_count": null,
      "outputs": []
    },
    {
      "cell_type": "code",
      "source": [
        "We have a number, and we’re going to check if the number is greater or less than 25. \n",
        "If the number is less than 25, we’ll check if it is an odd number or an even number.\n",
        " If the number is greater than 25, we will print that the number is greater than 25."
      ],
      "metadata": {
        "id": "2pGQ0jMwFLDP"
      },
      "execution_count": null,
      "outputs": []
    },
    {
      "cell_type": "code",
      "source": [
        "c=21\n",
        "if c<25:\n",
        " if c%2==0:\n",
        "        print(\"c is an even number less then 25.\")\n",
        " else:\n",
        "        print(\"c is an odd number less then 25.\")\n",
        "else:\n",
        "        print(\"c is greater then 25\")      "
      ],
      "metadata": {
        "colab": {
          "base_uri": "https://localhost:8080/"
        },
        "id": "Qwc31pIJFONm",
        "outputId": "a845db5e-ed0f-448c-c746-fbf1513cf1cc"
      },
      "execution_count": null,
      "outputs": [
        {
          "output_type": "stream",
          "name": "stdout",
          "text": [
            "c is an odd number less then 25.\n"
          ]
        }
      ]
    },
    {
      "cell_type": "code",
      "source": [
        "c=50\n",
        "if c<25:\n",
        "  if c%2==0:\n",
        "         print(\"c is an even nnumber less then 25.\")\n",
        "  else:\n",
        "        print('c is an odd number less then 25.')\n",
        "else:\n",
        "     print('c is greater then 25')"
      ],
      "metadata": {
        "colab": {
          "base_uri": "https://localhost:8080/"
        },
        "id": "dl6xmGvAGnXo",
        "outputId": "c9efd145-0c9a-499a-e66e-b881ff371161"
      },
      "execution_count": null,
      "outputs": [
        {
          "output_type": "stream",
          "name": "stdout",
          "text": [
            "c is greater then 25\n"
          ]
        }
      ]
    },
    {
      "cell_type": "code",
      "source": [
        "The program below uses the if-elif-else ladder to check if a letter is a vowel or a consonant.\n",
        "\n"
      ],
      "metadata": {
        "id": "SBNpMCGZHzMm"
      },
      "execution_count": null,
      "outputs": []
    },
    {
      "cell_type": "code",
      "source": [
        "var='z'\n",
        "if var=='a':\n",
        "   print('this is the vowel a')\n",
        "elif var=='e':\n",
        "   print('this is the vowel e')\n",
        "elif var=='i':\n",
        "   print('this is the vowel i')\n",
        "elif var=='o':\n",
        "   print('this is the vowel o')\n",
        "elif var=='u':\n",
        "   print('this is the vowel u')\n",
        "else:\n",
        "    print('this is the consonant')"
      ],
      "metadata": {
        "colab": {
          "base_uri": "https://localhost:8080/"
        },
        "id": "SUkJAjCAIGYu",
        "outputId": "b4661d2e-1c4c-4287-93a2-f0d780679f8f"
      },
      "execution_count": null,
      "outputs": [
        {
          "output_type": "stream",
          "name": "stdout",
          "text": [
            "this is the consonant\n"
          ]
        }
      ]
    },
    {
      "cell_type": "code",
      "source": [
        "var='a'\n",
        "if var=='a':\n",
        "   print('this is the vowel a')\n",
        "elif var=='e':\n",
        "   print('this is the vowel e')\n",
        "elif var=='i':\n",
        "   print('this is the vowel i')\n",
        "elif var=='o':\n",
        "   print('this is the vowel o')\n",
        "elif var=='u':\n",
        "   print('this is the vowel u')\n",
        "else:\n",
        "    print('this is the consonant')"
      ],
      "metadata": {
        "colab": {
          "base_uri": "https://localhost:8080/"
        },
        "id": "zuFKL9u4Jw8G",
        "outputId": "ef565454-8572-4ddd-97b7-715060afd301"
      },
      "execution_count": null,
      "outputs": [
        {
          "output_type": "stream",
          "name": "stdout",
          "text": [
            "this is the vowel a\n"
          ]
        }
      ]
    },
    {
      "cell_type": "code",
      "source": [
        " create a variable named number and assign a float value to it based on the user input.\n",
        "  Then using a if statement, check if the number variable is positive or negative or 0.\n",
        "\n",
        "If number is positive, print \"The number is positive\"\n",
        "If number is 0, print \"The number is 0\"\n",
        "If number is negative, print \"The number is negative\""
      ],
      "metadata": {
        "id": "43wtBwV3Nedd"
      },
      "execution_count": null,
      "outputs": []
    },
    {
      "cell_type": "code",
      "source": [
        "# Solution 1\n",
        "\n",
        "number = float(input(\"Enter a number: \"))\n",
        "\n",
        "if number > 0:\n",
        "    print(\"The number is positive\")\n",
        "elif number == 0:\n",
        "    print(\"The number is 0\")\n",
        "else:\n",
        "    print(\"The number is negative\")"
      ],
      "metadata": {
        "colab": {
          "base_uri": "https://localhost:8080/"
        },
        "id": "-e-n26c2PqKz",
        "outputId": "757c226b-e8c2-4936-89a3-6b9067bd07e6"
      },
      "execution_count": null,
      "outputs": [
        {
          "output_type": "stream",
          "name": "stdout",
          "text": [
            "Enter a number: 4\n",
            "The number is positive\n"
          ]
        }
      ]
    },
    {
      "cell_type": "code",
      "source": [
        "# Solution 2\n",
        "\n",
        "number = float(input(\"Enter a number: \"))\n",
        "\n",
        "if number > 0:\n",
        "    print(\"The number is positive\")\n",
        "elif number < 0:\n",
        "    print(\"The number is negative\")\n",
        "else:\n",
        "    print(\"The number is 0\")"
      ],
      "metadata": {
        "colab": {
          "base_uri": "https://localhost:8080/"
        },
        "id": "q9kchHcjP_UN",
        "outputId": "04003722-66b6-471d-9dce-e9c22a92b26b"
      },
      "execution_count": null,
      "outputs": [
        {
          "output_type": "stream",
          "name": "stdout",
          "text": [
            "Enter a number: 5\n",
            "The number is positive\n"
          ]
        }
      ]
    },
    {
      "cell_type": "code",
      "source": [
        "# : Using Nested if else\n",
        "\n",
        "number = float(input(\"Enter a number: \"))\n",
        "\n",
        "if number >= 0:\n",
        "    # At this point, number is either 0 or a positive number\n",
        "    if number > 0:\n",
        "        print(\"The number is positive\")\n",
        "    else:\n",
        "        print(\"The number is 0\")\n",
        "else:\n",
        "    print(\"The number is negative\")"
      ],
      "metadata": {
        "colab": {
          "base_uri": "https://localhost:8080/"
        },
        "id": "8_IgQn6tQHLO",
        "outputId": "81d8e7dd-9859-4d1d-e107-6c18d456cf1c"
      },
      "execution_count": null,
      "outputs": [
        {
          "output_type": "stream",
          "name": "stdout",
          "text": [
            "Enter a number: 5\n",
            "The number is positive\n"
          ]
        }
      ]
    },
    {
      "cell_type": "code",
      "source": [
        "The marks scored by a student is from 0 to 100. \n",
        "We can add the elif to above program to validate the marks entered as:"
      ],
      "metadata": {
        "id": "rpd8QYvzQihi"
      },
      "execution_count": null,
      "outputs": []
    },
    {
      "cell_type": "code",
      "source": [
        "score = 105\n",
        "\n",
        "if score > 100 or score < 0:\n",
        "   print(\"Score is invalid.\")\n",
        "elif score >= 50:\n",
        "   print(\"You have passed your exam.\")\n",
        "   print(\"Congratulations!\")\n",
        "else:\n",
        "   print(\"Sorry, you have failed your exam.\")"
      ],
      "metadata": {
        "colab": {
          "base_uri": "https://localhost:8080/"
        },
        "id": "zu4XNe70Qkni",
        "outputId": "ead38740-ed87-491e-ac6d-22945e114cb9"
      },
      "execution_count": null,
      "outputs": [
        {
          "output_type": "stream",
          "name": "stdout",
          "text": [
            "Score is invalid.\n"
          ]
        }
      ]
    },
    {
      "cell_type": "code",
      "source": [
        "score = int(input(\"Enter a number: \"))\n",
        "\n",
        "if score >= 50:\n",
        "   print(\"You have passed your exams.\")\n",
        "   print(\"Congratulations!\")\n",
        "\n"
      ],
      "metadata": {
        "colab": {
          "base_uri": "https://localhost:8080/"
        },
        "id": "fCaW6T-mQ8Ir",
        "outputId": "5e46b169-3e9f-477f-98b2-a99df2b6d0a1"
      },
      "execution_count": null,
      "outputs": [
        {
          "name": "stdout",
          "output_type": "stream",
          "text": [
            "Enter a number: 40\n"
          ]
        }
      ]
    },
    {
      "cell_type": "code",
      "source": [
        "#take two numbers from the user and print the first number only if it is smaller then  second\n",
        "print('Enter first number:')\n",
        "a=int(input())\n",
        "print('Enter second number:')\n",
        "b=int(input())\n",
        "\n",
        "if a<b:\n",
        "    print(a, \"is the first number is less then b then the second number \")\n",
        "\n"
      ],
      "metadata": {
        "colab": {
          "base_uri": "https://localhost:8080/"
        },
        "id": "2pwhNH5rXuH1",
        "outputId": "222c279f-ff40-482f-e111-df91ece659d3"
      },
      "execution_count": null,
      "outputs": [
        {
          "output_type": "stream",
          "name": "stdout",
          "text": [
            "Enter first number:\n",
            "3\n",
            "Enter second number:\n",
            "4\n",
            "3 is the first number is less then b then the second number \n"
          ]
        }
      ]
    },
    {
      "cell_type": "code",
      "source": [
        "#take two numbers from the user, compare and print the smaller number.\n",
        "print('Enter first number:')\n",
        "a=int(input())\n",
        "print('Enter second number:')\n",
        "b=int(input())\n",
        "\n",
        "if a<b:\n",
        "   print(a,'is the first number and it is the smaller then the second number',b)\n",
        "elif a==b:\n",
        "   print(a,'is the first number', b, 'is the second number and both numbers are equal')\n",
        "else:\n",
        "   print(b,'is the second number and it is smaller that the first number',a)"
      ],
      "metadata": {
        "colab": {
          "base_uri": "https://localhost:8080/"
        },
        "id": "2SYOgW-fXyA8",
        "outputId": "a9735b58-bd1d-4a9a-ecc0-34e82bc2f9d3"
      },
      "execution_count": null,
      "outputs": [
        {
          "output_type": "stream",
          "name": "stdout",
          "text": [
            "Enter first number:\n",
            "6\n",
            "Enter second number:\n",
            "8\n",
            "6 is the first number and it is the smaller then the second number 8\n"
          ]
        }
      ]
    },
    {
      "cell_type": "code",
      "source": [
        "Write a program for a shipment company is having the following offer-\n",
        "For US: $50 for first 50 shipments and $25 for more than 5 shipments\n",
        "For Australia: $150 for first 100 shipments and $15 for more than 100 shipments\n"
      ],
      "metadata": {
        "id": "yJOlzjuWYJIE"
      },
      "execution_count": null,
      "outputs": []
    },
    {
      "cell_type": "code",
      "source": [
        "print('select country:US/Australia')\n",
        "country=str(input())\n",
        "print('enter the number of the shipments')\n",
        "shipment=int(input())\n",
        "\n",
        "if country =='US':\n",
        "  if shipment<=50:\n",
        "    print('shipping cost is')\n",
        "  elif shipment>50:\n",
        "    print('shipment cost is 25$')\n",
        "  else:\n",
        "    print('please contact the customer support.')\n",
        "else:\n",
        "  if country==Australia:\n",
        "    if shipment<=150:\n",
        "      print('the shipping cost is 100$.')\n",
        "    elif shipment>150:\n",
        "      print('theshipment cost is $15.')\n",
        "    else:\n",
        "      print('please contact customer support.')  \n"
      ],
      "metadata": {
        "colab": {
          "base_uri": "https://localhost:8080/"
        },
        "id": "UY4qokFYY7ne",
        "outputId": "a20e2ece-7e5e-40cd-cea4-775c19a00ad9"
      },
      "execution_count": null,
      "outputs": [
        {
          "output_type": "stream",
          "name": "stdout",
          "text": [
            "select country:US/Australia\n",
            "US\n",
            "enter the number of the shipments\n",
            "15\n",
            "shipping cost is\n"
          ]
        }
      ]
    },
    {
      "cell_type": "code",
      "source": [
        "Take two numbers from the user, compare and print the smaller number. \n",
        "Also consider a condition where both the numbers can be same."
      ],
      "metadata": {
        "id": "GvBZMcj7bzfG"
      },
      "execution_count": null,
      "outputs": []
    },
    {
      "cell_type": "code",
      "source": [
        "print('Enter the first number')\n",
        "x=int(input())\n",
        "print('Enter the second number')\n",
        "y=int(input())\n",
        "\n",
        "if x<y:\n",
        "  print(x,'is the first number and it is smaller then the second number')\n",
        "elif x==y:                     #using true or false function that if its true then print x or else print y\n",
        "  print(x,'is the first number',y,'y is the second number and both are equals.')\n",
        "else:\n",
        "  print(y,'is the second number and it is smaller then the first number.')"
      ],
      "metadata": {
        "colab": {
          "base_uri": "https://localhost:8080/"
        },
        "id": "Oke2MDgab1X9",
        "outputId": "7b0d58f2-fa2f-449a-e155-da325fca8530"
      },
      "execution_count": null,
      "outputs": [
        {
          "output_type": "stream",
          "name": "stdout",
          "text": [
            "Enter the first number\n",
            "10\n",
            "Enter the second number\n",
            "15\n",
            "10 is the first number and it is smaller then the second number\n"
          ]
        }
      ]
    },
    {
      "cell_type": "code",
      "source": [
        "#take two numbers from the user, compare and print the smaller number.\n",
        "print('Enter first number:')\n",
        "a=int(input())\n",
        "print('Enter second number:')\n",
        "b=int(input())\n",
        "\n",
        "if a<b:\n",
        "   print(a,'is the first number and it is the smaller then the second number',b)\n",
        "elif a==b:\n",
        "   print(a,'is the first number', b, 'is the second number and both numbers are equal')\n",
        "else:\n",
        "   print(b,'is the second number and it is smaller that the first number',a)"
      ],
      "metadata": {
        "colab": {
          "base_uri": "https://localhost:8080/"
        },
        "id": "IaU7NZWIgOoB",
        "outputId": "4cd36415-f9ef-406a-b0c2-b227b6dbc80c"
      },
      "execution_count": null,
      "outputs": [
        {
          "output_type": "stream",
          "name": "stdout",
          "text": [
            "Enter first number:\n",
            "30\n",
            "Enter second number:\n",
            "35\n",
            "30 is the first number and it is the smaller then the second number 35\n"
          ]
        }
      ]
    },
    {
      "cell_type": "code",
      "source": [
        "#Program checks if the number is positive or negative\n",
        "# And displays an appropriate message\n",
        "\n",
        "num = 3\n",
        "\n",
        "# Try these two variations as well. \n",
        "# num = -5\n",
        "# num = 0\n",
        "\n",
        "if num >= 0:\n",
        "    print(\"Positive or Zero\")\n",
        "else:\n",
        "    print(\"Negative number\")"
      ],
      "metadata": {
        "colab": {
          "base_uri": "https://localhost:8080/"
        },
        "id": "i2AEPbZc0NRg",
        "outputId": "f6aae706-cf02-4795-f1f8-30a77afcf8fa"
      },
      "execution_count": null,
      "outputs": [
        {
          "output_type": "stream",
          "name": "stdout",
          "text": [
            "Positive or Zero\n"
          ]
        }
      ]
    },
    {
      "cell_type": "code",
      "source": [
        "'''In this program, \n",
        "we check if the number is positive or\n",
        "negative or zero and \n",
        "display an appropriate message'''\n",
        "\n",
        "num = 3.4\n",
        "\n",
        "# Try these two variations as well:\n",
        "# num = 0\n",
        "# num = -4.5\n",
        "\n",
        "if num > 0:\n",
        "    print(\"Positive number\")\n",
        "elif num == 0:\n",
        "    print(\"Zero\")\n",
        "else:\n",
        "    print(\"Negative number\")"
      ],
      "metadata": {
        "colab": {
          "base_uri": "https://localhost:8080/"
        },
        "id": "BvVtfuti0aES",
        "outputId": "f9860a1a-6476-407f-a414-e7e9a539c2ab"
      },
      "execution_count": null,
      "outputs": [
        {
          "output_type": "stream",
          "name": "stdout",
          "text": [
            "Positive number\n"
          ]
        }
      ]
    },
    {
      "cell_type": "code",
      "source": [
        "# '''In this program, we input a number\n",
        "check if the number is positive or\n",
        "negative or zero and display\n",
        "an appropriate message\n",
        "This time we use nested if statement'''\n",
        "\n",
        "num = float(input(\"Enter a number: \"))\n",
        "if num >= 0:\n",
        "    if num == 0:\n",
        "        print(\"Zero\")\n",
        "    else:\n",
        "        print(\"Positive number\")\n",
        "else:\n",
        "    print(\"Negative number\")\n"
      ],
      "metadata": {
        "colab": {
          "base_uri": "https://localhost:8080/"
        },
        "id": "NWduBZmt0iS0",
        "outputId": "82298da7-2ec3-403b-fd5b-92edbabb2ef9"
      },
      "execution_count": null,
      "outputs": [
        {
          "output_type": "stream",
          "name": "stdout",
          "text": [
            "Enter a number: 2\n",
            "Positive number\n"
          ]
        }
      ]
    }
  ]
}