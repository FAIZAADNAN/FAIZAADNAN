{
  "cells": [
    {
      "cell_type": "markdown",
      "metadata": {
        "id": "view-in-github",
        "colab_type": "text"
      },
      "source": [
        "<a href=\"https://colab.research.google.com/github/FAIZAADNAN/FAIZAADNAN/blob/main/Chapter7.ipynb\" target=\"_parent\"><img src=\"https://colab.research.google.com/assets/colab-badge.svg\" alt=\"Open In Colab\"/></a>"
      ]
    },
    {
      "cell_type": "code",
      "execution_count": null,
      "metadata": {
        "id": "8WdAJ2SRPwea"
      },
      "outputs": [],
      "source": [
        "Exercise 1: Message ☑️\n",
        "Write a function called display_message() that prints one sentence telling everyone what you are learning about in this chapter.\n",
        " Call the\n",
        "\n",
        "function, and make sure the message displays correctly."
      ]
    },
    {
      "cell_type": "code",
      "execution_count": null,
      "metadata": {
        "colab": {
          "base_uri": "https://localhost:8080/"
        },
        "id": "SOv-MY3LP8Qe",
        "outputId": "d9901610-dece-465f-acb9-4026d037f895"
      },
      "outputs": [
        {
          "name": "stdout",
          "output_type": "stream",
          "text": [
            "hello, Adnan\n"
          ]
        }
      ],
      "source": [
        "# function definition\n",
        "def greet_user(username):\n",
        "    print(f'hello, {username.title()}')\n",
        "greet_user('Adnan') #function_call"
      ]
    },
    {
      "cell_type": "code",
      "execution_count": null,
      "metadata": {
        "id": "r36JNucgROg4"
      },
      "outputs": [],
      "source": [
        "Exercise 2: Favorite Book ☑️\n",
        "Write a function called favorite_book() that accepts one parameter, title.\n",
        " The function should print a message, such as One of my\n",
        "\n",
        "favorite books is Alice in Wonderland. Call the function, making sure to include a book title as an argument in the function call.\n",
        "\n"
      ]
    },
    {
      "cell_type": "code",
      "execution_count": null,
      "metadata": {
        "colab": {
          "base_uri": "https://localhost:8080/"
        },
        "id": "aHQPAXe6RRCK",
        "outputId": "dc78204d-bac1-482c-eeee-81905c45a081"
      },
      "outputs": [
        {
          "name": "stdout",
          "output_type": "stream",
          "text": [
            "my favorite_book, Alice In Wonderland\n"
          ]
        }
      ],
      "source": [
        "# function definition\n",
        "def favorite_book(username):\n",
        "    print(f'my favorite_book, {username.title()}')\n",
        "favorite_book('Alice in wonderland')"
      ]
    },
    {
      "cell_type": "code",
      "execution_count": null,
      "metadata": {
        "id": "3wN11tgUX82k"
      },
      "outputs": [],
      "source": [
        "Exercise 3: T-Shirt ☑️\n",
        "Write a function called make_shirt() that accepts a size and the text of a message that should be printed on the shirt. The function\n",
        "\n",
        "should print a sentence summarizing the size of the shirt and the message printed on it. Call the function once using positional\n",
        "\n",
        "arguments to make a shirt. Call the function a second time using keyword arguments.\n",
        "\n",
        "   "
      ]
    },
    {
      "cell_type": "code",
      "execution_count": null,
      "metadata": {
        "colab": {
          "base_uri": "https://localhost:8080/"
        },
        "id": "MQr9pekdZEyU",
        "outputId": "93c47ac8-3ac8-46bc-830f-20da8497996e"
      },
      "outputs": [
        {
          "name": "stdout",
          "output_type": "stream",
          "text": [
            "\n",
            "The size of the shirt is 35 and message to be printed is I LOVE USA\n"
          ]
        }
      ],
      "source": [
        "#function with 2 parameters\n",
        "def make_shirt(size,message):\n",
        "#Display information about a student\n",
        "  print(f'\\nThe size of the shirt is {size} and message to be printed is {message.upper()}')\n",
        "make_shirt(35, 'i love usa') #function with 2 parameters"
      ]
    },
    {
      "cell_type": "code",
      "execution_count": null,
      "metadata": {
        "id": "5WW4UFK7ZXbx"
      },
      "outputs": [],
      "source": [
        "Exercise 4: Large Shirts ☑️\n",
        "Modify the make_shirt() function so that shirts are large by default with a message that reads I love Python. \n",
        "Make a large shirt and a\n",
        "\n",
        "medium shirt with the default message, and a shirt of any size with a different message.\n",
        "\n",
        "   "
      ]
    },
    {
      "cell_type": "code",
      "execution_count": null,
      "metadata": {
        "colab": {
          "base_uri": "https://localhost:8080/"
        },
        "id": "Dbwazzz5ZNCy",
        "outputId": "c99bb4be-09c5-4ec5-a344-1ea48646ab3c"
      },
      "outputs": [
        {
          "name": "stdout",
          "output_type": "stream",
          "text": [
            "\n",
            " The size of the shirt is Large and message to be printed is I LOVE PYTHON\n",
            "\n",
            " The size of the shirt is Medium & Large and message to be printed is I LOVE PYTHON\n",
            "\n",
            " The size of the shirt is XL and message to be printed is WE ARE CODERS\n"
          ]
        }
      ],
      "source": [
        "# function definition with a default value\n",
        "def make_shirt(size= 'Large',message='I love python'):\n",
        "# Display information about a shirt\n",
        "  print(f\"\\n The size of the shirt is {size} and message to be printed is {message.upper()}\")\n",
        "make_shirt() #shirts are large by default with a message that reads i love python\n",
        "make_shirt(size='Medium & Large') #Make a large shirt and a medium shirt with default message\n",
        "make_shirt(size='XL', message ='we are coders'.upper())"
      ]
    },
    {
      "cell_type": "code",
      "execution_count": null,
      "metadata": {
        "id": "SwEVXSI2ZoYs"
      },
      "outputs": [],
      "source": [
        "Exercise 5: Cities\n",
        "Write a function called describe_city() that accepts the name of a city and its country. The function should print a simple sentence,\n",
        "\n",
        "such as Reykjavik is in Iceland. Give the parameter for the country a default value.\n",
        "\n",
        "Call your function for three different cities, at least one of which is not in the default country."
      ]
    },
    {
      "cell_type": "code",
      "execution_count": 3,
      "metadata": {
        "colab": {
          "base_uri": "https://localhost:8080/"
        },
        "id": "85D8gmakZwPU",
        "outputId": "8ba578d7-3097-43e0-ca1c-897376366777"
      },
      "outputs": [
        {
          "output_type": "stream",
          "name": "stdout",
          "text": [
            "\n",
            "Santiago is in Denmark\n",
            "\n",
            "Reykjavik is in Iceland\n",
            "\n",
            "London is in Denmark\n"
          ]
        }
      ],
      "source": [
        "def describe_city(city, country='Denmark'):\n",
        "#Describe a city.\n",
        "  print(f'\\n{city.title()} is in {country.title()}')\n",
        "\n",
        "\n",
        "describe_city('Santiago')\n",
        "describe_city('Reykjavik','Iceland')\n",
        "describe_city('london')"
      ]
    },
    {
      "cell_type": "code",
      "source": [
        "Extra Programmes"
      ],
      "metadata": {
        "id": "jcTFB5vwELMf"
      },
      "execution_count": null,
      "outputs": []
    },
    {
      "cell_type": "code",
      "source": [
        "# using define function to print the name of the magicians\n",
        "def show_magicians(magicians):\n",
        "    \"\"\"Print the name of each magician in the list.\"\"\"\n",
        "    for magician in magicians:\n",
        "        print(magician.title())\n",
        "\n",
        "magicians = ['varun', 'miller', 'rio']\n",
        "show_magicians(magicians)\n"
      ],
      "metadata": {
        "colab": {
          "base_uri": "https://localhost:8080/"
        },
        "id": "ZUnmcThtENKZ",
        "outputId": "388091a9-c9c7-49e0-cd8c-f70d1fb9a144"
      },
      "execution_count": 5,
      "outputs": [
        {
          "output_type": "stream",
          "name": "stdout",
          "text": [
            "Varun\n",
            "Miller\n",
            "Rio\n"
          ]
        }
      ]
    },
    {
      "cell_type": "code",
      "source": [
        "def show_magicians(magicians):\n",
        "    \"\"\"Print the name of each magician in the list.\"\"\"\n",
        "    for magician in magicians:\n",
        "        print(magician)\n",
        "\n",
        "def make_great(magicians):\n",
        "    \"\"\"Add 'the Great!' to each magician's name.\"\"\"\n",
        "    # Build a new list to hold the great musicians.\n",
        "    great_magicians = []\n",
        "\n",
        "    # Make each magician great, and add it to great_magicians.\n",
        "    while magicians:\n",
        "        magician = magicians.pop()\n",
        "        great_magician = magician + ' the Great'\n",
        "        great_magicians.append(great_magician)\n",
        "\n",
        "    # Add the great magicians back into magicians.\n",
        "    for great_magician in great_magicians:\n",
        "        magicians.append(great_magician)\n",
        "\n",
        "magicians = ['David', 'Miller', 'Rio']\n",
        "show_magicians(magicians)\n",
        "\n",
        "print(\"\\n\")\n",
        "make_great(magicians)\n",
        "show_magicians(magicians)\n"
      ],
      "metadata": {
        "colab": {
          "base_uri": "https://localhost:8080/"
        },
        "id": "2DXDK6tnFHPg",
        "outputId": "21be3a49-d2b6-492f-f276-4fd3a03043bc"
      },
      "execution_count": 6,
      "outputs": [
        {
          "output_type": "stream",
          "name": "stdout",
          "text": [
            "David\n",
            "Miller\n",
            "Rio\n",
            "\n",
            "\n",
            "Rio the Great\n",
            "Miller the Great\n",
            "David the Great\n"
          ]
        }
      ]
    }
  ],
  "metadata": {
    "colab": {
      "provenance": [],
      "authorship_tag": "ABX9TyN+Bj0WtSldiBentMpSI3X+",
      "include_colab_link": true
    },
    "kernelspec": {
      "display_name": "Python 3",
      "name": "python3"
    },
    "language_info": {
      "name": "python"
    }
  },
  "nbformat": 4,
  "nbformat_minor": 0
}