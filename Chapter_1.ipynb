{
  "nbformat": 4,
  "nbformat_minor": 0,
  "metadata": {
    "colab": {
      "provenance": [],
      "authorship_tag": "ABX9TyPbr0TpPcl8aUP7Qt+4qfq7",
      "include_colab_link": true
    },
    "kernelspec": {
      "name": "python3",
      "display_name": "Python 3"
    },
    "language_info": {
      "name": "python"
    }
  },
  "cells": [
    {
      "cell_type": "markdown",
      "metadata": {
        "id": "view-in-github",
        "colab_type": "text"
      },
      "source": [
        "<a href=\"https://colab.research.google.com/github/FAIZAADNAN/FAIZAADNAN/blob/main/Chapter_1.ipynb\" target=\"_parent\"><img src=\"https://colab.research.google.com/assets/colab-badge.svg\" alt=\"Open In Colab\"/></a>"
      ]
    },
    {
      "cell_type": "code",
      "source": [
        "\n",
        "Exercise 1: Print Strings ☑️\n",
        "Write a Python program to print the following string in a specific format.\n",
        "\n",
        "Twinkle, twinkle, little star, How I wonder what you are! Up above the world so high, \n",
        "Like a diamond in the sky. Twinkle, twinkle, little star, How I wonder what you are."
      ],
      "metadata": {
        "id": "95qKfnsPMzCo"
      },
      "execution_count": null,
      "outputs": []
    },
    {
      "cell_type": "code",
      "source": [
        "print('twinkle twinkle little star')\n",
        "print('how i wonder what you are')\n",
        "print('up above the sky')\n",
        "print('like a diamond in the sky')"
      ],
      "metadata": {
        "colab": {
          "base_uri": "https://localhost:8080/"
        },
        "id": "-yzDu2OJwigd",
        "outputId": "5cc2b995-847e-43d1-fc4f-a65e06c3679c"
      },
      "execution_count": null,
      "outputs": [
        {
          "output_type": "stream",
          "name": "stdout",
          "text": [
            "twinkle twinkle little star\n",
            "how i wonder what you are\n",
            "up above the sky\n",
            "like a diamond in the sky\n"
          ]
        }
      ]
    },
    {
      "cell_type": "code",
      "source": [
        "Exercise 2: Print the Version of Python ☑️\n",
        "Write a Python program to get the Python version you are using."
      ],
      "metadata": {
        "id": "I_yswSBVLz71"
      },
      "execution_count": null,
      "outputs": []
    },
    {
      "cell_type": "code",
      "source": [
        "import sys\n",
        "print(\"Python version\")\n",
        "print(sys.version)"
      ],
      "metadata": {
        "colab": {
          "base_uri": "https://localhost:8080/"
        },
        "id": "GJmARtb_xApf",
        "outputId": "66af3e91-1fbd-4bfb-d3cd-0a6dc1e50d98"
      },
      "execution_count": null,
      "outputs": [
        {
          "output_type": "stream",
          "name": "stdout",
          "text": [
            "Python version\n",
            "3.7.14 (default, Sep  8 2022, 00:06:44) \n",
            "[GCC 7.5.0]\n"
          ]
        }
      ]
    },
    {
      "cell_type": "code",
      "source": [
        "print(\"Version info.\")\n",
        "print(sys.version_info)"
      ],
      "metadata": {
        "colab": {
          "base_uri": "https://localhost:8080/"
        },
        "id": "-Pw31LgY0H23",
        "outputId": "ae36458a-9b56-4c83-aec2-8b06f675bea4"
      },
      "execution_count": null,
      "outputs": [
        {
          "output_type": "stream",
          "name": "stdout",
          "text": [
            "Version info.\n",
            "sys.version_info(major=3, minor=7, micro=14, releaselevel='final', serial=0)\n"
          ]
        }
      ]
    },
    {
      "cell_type": "code",
      "source": [
        "Exercise 3: Print date and Time ☑️\n",
        "Write a Python program to display the current date and time."
      ],
      "metadata": {
        "id": "FIDHt-CIMCmS"
      },
      "execution_count": null,
      "outputs": []
    },
    {
      "cell_type": "code",
      "source": [
        "from datetime import date\n",
        "today = date.today()\n",
        "print(\"Today's date:\" , today )"
      ],
      "metadata": {
        "colab": {
          "base_uri": "https://localhost:8080/"
        },
        "id": "aVDDLP5C1I6r",
        "outputId": "b55d9dc2-56e2-4fe1-e16f-8be24f7ef27d"
      },
      "execution_count": null,
      "outputs": [
        {
          "output_type": "stream",
          "name": "stdout",
          "text": [
            "Today's date: 2022-09-29\n"
          ]
        }
      ]
    },
    {
      "cell_type": "code",
      "source": [
        "from datetime import date\n",
        "today = date.today()\n",
        "# dd/mm/yy\n",
        "d1 = today.strftime(\"%d/%m/%Y\")\n",
        "print(\"d1 =\" , d1)"
      ],
      "metadata": {
        "colab": {
          "base_uri": "https://localhost:8080/"
        },
        "id": "lcxvPJy22lkb",
        "outputId": "30ca848e-7b25-4f35-bb76-b01abcf3bb0a"
      },
      "execution_count": null,
      "outputs": [
        {
          "output_type": "stream",
          "name": "stdout",
          "text": [
            "d1 = 29/09/2022\n"
          ]
        }
      ]
    },
    {
      "cell_type": "code",
      "source": [
        "# Textual month, day and year\n",
        "d2 = today.strftime(\"%B %d, %Y\")\n",
        "print(\"d2 =\", d2)"
      ],
      "metadata": {
        "colab": {
          "base_uri": "https://localhost:8080/"
        },
        "id": "Ey7AGsWV3wWs",
        "outputId": "c18acb8b-fe9b-438b-ac6b-9bdc5a8bd1d6"
      },
      "execution_count": null,
      "outputs": [
        {
          "output_type": "stream",
          "name": "stdout",
          "text": [
            "d2 = September 29, 2022\n"
          ]
        }
      ]
    },
    {
      "cell_type": "code",
      "source": [
        "# mm/dd/y\n",
        "d3 = today.strftime(\"%m/%d/%y\")\n",
        "print(\"d3 =\", d3)"
      ],
      "metadata": {
        "colab": {
          "base_uri": "https://localhost:8080/"
        },
        "id": "Ta5u4SUY4LJJ",
        "outputId": "4eecf9b4-dc4a-4d94-881d-3585c40da255"
      },
      "execution_count": null,
      "outputs": [
        {
          "output_type": "stream",
          "name": "stdout",
          "text": [
            "d3 = 09/29/22\n"
          ]
        }
      ]
    },
    {
      "cell_type": "code",
      "source": [
        "#Month abbreviation, day and year\n",
        "d4 = today.strftime(\"%b-%d-%Y\")\n",
        "print(\"d4 =\" , d4)"
      ],
      "metadata": {
        "colab": {
          "base_uri": "https://localhost:8080/"
        },
        "id": "ctR_dQv14iDO",
        "outputId": "f33ccb15-3e20-426c-db87-049eb70b4450"
      },
      "execution_count": null,
      "outputs": [
        {
          "output_type": "stream",
          "name": "stdout",
          "text": [
            "d4 = Sep-29-2022\n"
          ]
        }
      ]
    },
    {
      "cell_type": "code",
      "source": [
        "from datetime import datetime\n",
        "#datetime object containing current date and time \n",
        "now = datetime.now()\n",
        "print(\"now =\", now)"
      ],
      "metadata": {
        "colab": {
          "base_uri": "https://localhost:8080/"
        },
        "id": "8k_ZjHpD47Ez",
        "outputId": "6757079a-13b9-4264-d45a-ca53a897907b"
      },
      "execution_count": null,
      "outputs": [
        {
          "output_type": "stream",
          "name": "stdout",
          "text": [
            "now = 2022-09-29 15:37:01.449397\n"
          ]
        }
      ]
    },
    {
      "cell_type": "code",
      "source": [
        "Exercise 4: Strings Concatination ☑️\n",
        "Write three strings in different variables and print the output as one string.      "
      ],
      "metadata": {
        "id": "rzIuVJBAO3Ju"
      },
      "execution_count": null,
      "outputs": []
    },
    {
      "cell_type": "code",
      "source": [
        "sentence1='i love to go switzerland:'\n",
        "\n",
        "\n",
        "sentence2='with my husband:'\n",
        "\n",
        "\n",
        "sentence3='we enjyoed alot'\n",
        "\n",
        "\n",
        "#strings concatenation\n",
        "print(sentence1+sentence2+sentence3)\n",
        "\n",
        "\n"
      ],
      "metadata": {
        "id": "A5pUdpqI7V0R",
        "outputId": "e0c31b61-c372-4c74-b5e8-e019d512b1a8",
        "colab": {
          "base_uri": "https://localhost:8080/"
        }
      },
      "execution_count": null,
      "outputs": [
        {
          "output_type": "stream",
          "name": "stdout",
          "text": [
            "i love to go switzerland:with my husband:we enjyoed alot\n"
          ]
        }
      ]
    },
    {
      "cell_type": "code",
      "source": [
        "Exercise 5: Compute area of Circle ☑️\n",
        "Write a Python program which accepts the radius of a circle from the user and compute the area.\n",
        "\n",
        "     "
      ],
      "metadata": {
        "id": "Z4Y5vtnYQeAr"
      },
      "execution_count": null,
      "outputs": []
    },
    {
      "cell_type": "code",
      "source": [
        "from math import pi\n",
        "r = float(input(\"Input the radius of the circle:\"))\n",
        "print(\"The area of the circle with radius \" + str(r)+ \"is \"+str(pi*r**2))"
      ],
      "metadata": {
        "colab": {
          "base_uri": "https://localhost:8080/"
        },
        "id": "Y0T1IkP5JzIb",
        "outputId": "87ce4db2-7ee8-4f60-d550-50b3573820ef"
      },
      "execution_count": null,
      "outputs": [
        {
          "output_type": "stream",
          "name": "stdout",
          "text": [
            "Input the radius of the circle:3\n",
            "The area of the circle with radius 3.0is 28.274333882308138\n"
          ]
        }
      ]
    },
    {
      "cell_type": "code",
      "source": [
        "Extra Programmes:"
      ],
      "metadata": {
        "id": "W2AmfrmG_VCd"
      },
      "execution_count": null,
      "outputs": []
    },
    {
      "cell_type": "code",
      "source": [
        "# using ordinal function to convert alphabets to numbers\n",
        "print(\"the ordinal value of all the alphabets,capital and lowercase are:\")\n",
        "# All alphabets A-Z and a-z converted to its ordinal value\n",
        "print(ord('A'),ord('B'),ord('C'),ord('D'),ord('E'),ord('F'),ord('G'))\n",
        "print(ord('a'),ord('b'),ord('c'),ord('d'),ord('e'),ord('f'),ord('g'))\n",
        "    "
      ],
      "metadata": {
        "colab": {
          "base_uri": "https://localhost:8080/"
        },
        "id": "f6wmQcwW_Zku",
        "outputId": "c8fca99b-b137-4cbc-c846-9560ee27bb59"
      },
      "execution_count": null,
      "outputs": [
        {
          "output_type": "stream",
          "name": "stdout",
          "text": [
            "the ordinal value of all the alphabets,capital and lowercase are:\n",
            "65 66 67 68 69 70 71\n",
            "97 98 99 100 101 102 103\n"
          ]
        }
      ]
    },
    {
      "cell_type": "code",
      "source": [
        "# using the characteristics function to convert numbers to number to alphabets\n",
        "chr(66)\n",
        "print('the characteristics value of 66 is')\n",
        "print(chr(66),chr(67),chr(68),chr(69))"
      ],
      "metadata": {
        "colab": {
          "base_uri": "https://localhost:8080/"
        },
        "id": "jA4XpF_A_hQX",
        "outputId": "e707867e-d3ad-4414-c6f6-b82027b04cca"
      },
      "execution_count": null,
      "outputs": [
        {
          "output_type": "stream",
          "name": "stdout",
          "text": [
            "the characteristics value of 66 is\n",
            "B C D E\n"
          ]
        }
      ]
    },
    {
      "cell_type": "code",
      "source": [
        "# using the characterisitics function to numbers to alphabets \n",
        "chr(97)\n",
        "print('the characteristics value of 97 is')\n",
        "print(chr(97),chr(98),chr(99),chr(100),chr(101))"
      ],
      "metadata": {
        "colab": {
          "base_uri": "https://localhost:8080/"
        },
        "id": "a2qTfTRA_nD_",
        "outputId": "47510b3d-5554-474b-8c5e-a9e51bf9ef2a"
      },
      "execution_count": null,
      "outputs": [
        {
          "output_type": "stream",
          "name": "stdout",
          "text": [
            "the characteristics value of 97 is\n",
            "a b c d e\n"
          ]
        }
      ]
    },
    {
      "cell_type": "code",
      "source": [
        "# using the binary function to convert numbers into binary code\n",
        "bin(97)\n",
        "print('the binary value of 97 is ')\n",
        "print(bin(97),bin(98),bin(99),bin(100),bin(101))"
      ],
      "metadata": {
        "colab": {
          "base_uri": "https://localhost:8080/"
        },
        "id": "xTfS5nx6_vJY",
        "outputId": "3e8c2599-f8f2-4ea5-ca83-3506863e4b0f"
      },
      "execution_count": null,
      "outputs": [
        {
          "output_type": "stream",
          "name": "stdout",
          "text": [
            "the binary value of 97 is \n",
            "0b1100001 0b1100010 0b1100011 0b1100100 0b1100101\n"
          ]
        }
      ]
    },
    {
      "cell_type": "code",
      "source": [
        "printing the area of the triangle."
      ],
      "metadata": {
        "id": "A7Jrve0GASFm"
      },
      "execution_count": null,
      "outputs": []
    },
    {
      "cell_type": "code",
      "source": [
        "#finding the area of the triangle\n",
        "\n",
        "a=6\n",
        "b=7\n",
        "c=9\n",
        "\n",
        "#taking the input from the user\n",
        "a = float(input('Enter the first side: '))\n",
        "b = float(input('Enter the second side:  '))\n",
        "c = float(input('Enter the third side:  '))\n",
        "\n",
        "#calculate the semi-perimeter\n",
        "s= (a +b +c) / 2\n",
        "\n",
        "#calculate the area\n",
        "area = (s*(s-a)*(s-b)*(s-c)) ** 0.5\n",
        "print('The area of the triangle is %0.2f' %area)"
      ],
      "metadata": {
        "colab": {
          "base_uri": "https://localhost:8080/"
        },
        "id": "4iTrz3zjAZen",
        "outputId": "ccc0bf57-eebd-4ce0-d354-72d53c5d36cb"
      },
      "execution_count": null,
      "outputs": [
        {
          "output_type": "stream",
          "name": "stdout",
          "text": [
            "Enter the first side: 6\n",
            "Enter the second side:  7\n",
            "Enter the third side:  9\n",
            "The area of the triangle is 20.98\n"
          ]
        }
      ]
    },
    {
      "cell_type": "code",
      "source": [
        "printing the area of the rectangular"
      ],
      "metadata": {
        "id": "m_l7_seMCKMs"
      },
      "execution_count": null,
      "outputs": []
    },
    {
      "cell_type": "code",
      "source": [
        "# finding the area of the rectangular\n",
        "\n",
        "l=5\n",
        "b=7\n",
        "\n",
        "#taking the input from the user\n",
        "l=  float(input('Enter the length of the rectangular:'))\n",
        "b=  float(input('Enter the breadth of the rectangular:'))\n",
        "\n",
        "#calculate the area\n",
        "A= l*b\n",
        "print('Area of the rectangular is:%.2f' %A)\n"
      ],
      "metadata": {
        "colab": {
          "base_uri": "https://localhost:8080/"
        },
        "id": "PYqB4xPWDHP1",
        "outputId": "c8f392d7-e7ee-430e-a8f7-80b5aaf5d50b"
      },
      "execution_count": null,
      "outputs": [
        {
          "output_type": "stream",
          "name": "stdout",
          "text": [
            "Enter the length of the rectangular:5\n",
            "Enter the breadth of the rectangular:7\n",
            "Area of the rectangular is:35.00\n"
          ]
        }
      ]
    },
    {
      "cell_type": "code",
      "source": [
        "Lets look for an string concatenating a string(str)and an integer(int)using the +operator\n"
      ],
      "metadata": {
        "id": "KOHGG8QsF6T6"
      },
      "execution_count": null,
      "outputs": []
    },
    {
      "cell_type": "code",
      "source": [
        "current_year_message = 'year is'\n",
        "current_year = 2022\n",
        "print('current_year_message + current_year')"
      ],
      "metadata": {
        "colab": {
          "base_uri": "https://localhost:8080/"
        },
        "id": "Z14UVSYOGQ_3",
        "outputId": "1c1d485d-6bf4-4f78-8f98-cc216bda5b51"
      },
      "execution_count": null,
      "outputs": [
        {
          "output_type": "stream",
          "name": "stdout",
          "text": [
            "current_year_message + current_year\n"
          ]
        }
      ]
    }
  ]
}