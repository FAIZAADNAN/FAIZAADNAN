{
  "nbformat": 4,
  "nbformat_minor": 0,
  "metadata": {
    "colab": {
      "provenance": [],
      "authorship_tag": "ABX9TyM2dDCTJubqivEoFrnwp7mN",
      "include_colab_link": true
    },
    "kernelspec": {
      "name": "python3",
      "display_name": "Python 3"
    },
    "language_info": {
      "name": "python"
    }
  },
  "cells": [
    {
      "cell_type": "markdown",
      "metadata": {
        "id": "view-in-github",
        "colab_type": "text"
      },
      "source": [
        "<a href=\"https://colab.research.google.com/github/FAIZAADNAN/FAIZAADNAN/blob/main/revision_of_semester.ipynb\" target=\"_parent\"><img src=\"https://colab.research.google.com/assets/colab-badge.svg\" alt=\"Open In Colab\"/></a>"
      ]
    },
    {
      "cell_type": "code",
      "execution_count": null,
      "metadata": {
        "id": "Nz4AjIFna1-z"
      },
      "outputs": [],
      "source": [
        "Write a program to create a function which returns square of a number. Call the function to print square root of consecutive 10 numbers.\n",
        "What are the uses of following functions :\n",
        "lstrip\n",
        "rstrip\n",
        "strip\n",
        "Write codes to use the above functions\n"
      ]
    },
    {
      "cell_type": "code",
      "source": [
        "import math\n",
        "\n",
        "def square(num):\n",
        "   return num*num\n",
        "for i in range(1,11):\n",
        "  # function call\n",
        "  result = square(i)\n",
        "  print(\"square of\" ,i, \"=\",result)\n",
        "\n",
        "\n",
        "#function result"
      ],
      "metadata": {
        "colab": {
          "base_uri": "https://localhost:8080/"
        },
        "id": "HD_f9_hkebCh",
        "outputId": "10c26429-cca9-48e5-e973-c7f516b67714"
      },
      "execution_count": null,
      "outputs": [
        {
          "output_type": "stream",
          "name": "stdout",
          "text": [
            "square of 1 = 1\n",
            "square of 2 = 4\n",
            "square of 3 = 9\n",
            "square of 4 = 16\n",
            "square of 5 = 25\n",
            "square of 6 = 36\n",
            "square of 7 = 49\n",
            "square of 8 = 64\n",
            "square of 9 = 81\n",
            "square of 10 = 100\n"
          ]
        }
      ]
    },
    {
      "cell_type": "code",
      "source": [
        "# remove  any strip before and after stripspace\n",
        "string = \"   Hi, faiza!   \"\n",
        "string = string.strip()\n",
        "print(string)  \n",
        "\n",
        "# Remove leftspace\n",
        "string = \"   Hi, adnan!   \"\n",
        "string = string.lstrip()\n",
        "print(string)  \n",
        "\n",
        "# Remove rightspace\n",
        "string = \"   How , are you!   \"\n",
        "string = string.rstrip()\n",
        "print(string)  "
      ],
      "metadata": {
        "colab": {
          "base_uri": "https://localhost:8080/"
        },
        "id": "Rs-jBrjmg926",
        "outputId": "e6f7fe60-e3c1-41d0-9f1a-31313cdc3225"
      },
      "execution_count": null,
      "outputs": [
        {
          "output_type": "stream",
          "name": "stdout",
          "text": [
            "Hi, faiza!\n",
            "Hi, adnan!   \n",
            "   How , are you!\n"
          ]
        }
      ]
    },
    {
      "cell_type": "code",
      "source": [
        "If-else\n",
        "Write a Python program to check whether an alphabet is a vowel or consonant\n",
        "\n"
      ],
      "metadata": {
        "id": "5fbpZAsBjwU5"
      },
      "execution_count": null,
      "outputs": []
    },
    {
      "cell_type": "code",
      "source": [
        "alphabet = input(\"enter alphabet: \")\n",
        "if alphabet in ('a', 'e', 'i', 'o', 'u', 'A', 'E', 'I', 'O', 'U'):\n",
        "    print(alphabet,\"is a vowel\")\n",
        "else:\n",
        "    print(alphabet,\"is a consonent\")\n"
      ],
      "metadata": {
        "colab": {
          "base_uri": "https://localhost:8080/"
        },
        "id": "HbdqYj2OiHKb",
        "outputId": "6506b2ca-88e1-4b9f-a237-b2242396d1c7"
      },
      "execution_count": null,
      "outputs": [
        {
          "output_type": "stream",
          "name": "stdout",
          "text": [
            "enter alphabet: a\n",
            "a is a vowel\n"
          ]
        }
      ]
    },
    {
      "cell_type": "code",
      "source": [
        "If-elif-else\n",
        "Take two numbers from the user, compare and print the smaller number.\n",
        " Also consider a condition where both the numbers can be same.\n"
      ],
      "metadata": {
        "id": "zVPX5F9Gj4fx"
      },
      "execution_count": null,
      "outputs": []
    },
    {
      "cell_type": "code",
      "source": [
        "#take input from the user\n",
        "num1 = int(input(\"Enter the first number:\"))\n",
        "num2 = int(input(\"Enter the second number:\"))\n",
        "# Compare the numbers and print the smaller one\n",
        "if num1 < num2:\n",
        "  print(num1)\n",
        "elif num2 < num1:\n",
        "  print(num2)\n",
        "else:\n",
        "  print(\"Both numbers are equal.\")\n",
        "\n"
      ],
      "metadata": {
        "colab": {
          "base_uri": "https://localhost:8080/"
        },
        "id": "yfli4GVtkflJ",
        "outputId": "49b21013-e574-4d6a-9f3a-410a156cb035"
      },
      "execution_count": null,
      "outputs": [
        {
          "output_type": "stream",
          "name": "stdout",
          "text": [
            "Enter the first number:10\n",
            "Enter the second number:8\n",
            "8\n"
          ]
        }
      ]
    },
    {
      "cell_type": "code",
      "source": [
        "List type data+ for loop\n",
        "Write a program to print the all the elements in a list data type using for loop\n",
        "\n"
      ],
      "metadata": {
        "id": "p3M9Ioo6lZAD"
      },
      "execution_count": null,
      "outputs": []
    },
    {
      "cell_type": "code",
      "source": [
        "data = [1, 2, 3, 4, 5]\n",
        "\n",
        "for item in data:\n",
        "  print(item)"
      ],
      "metadata": {
        "id": "5JOg792qleJY",
        "colab": {
          "base_uri": "https://localhost:8080/"
        },
        "outputId": "5fd1b062-5750-41a3-b63e-fe94ddbeb2ad"
      },
      "execution_count": null,
      "outputs": [
        {
          "output_type": "stream",
          "name": "stdout",
          "text": [
            "1\n",
            "2\n",
            "3\n",
            "4\n",
            "5\n"
          ]
        }
      ]
    },
    {
      "cell_type": "code",
      "source": [
        "Dictionary data type\n",
        "Create a dictionary data-type of a student with name, id and course.\n",
        " Write a program to print all the key-value pair in the dictionary. \n",
        " Add another key-value pair called gender to update the dictionary and print the updated dictionary.\n",
        "\n"
      ],
      "metadata": {
        "id": "Sg8-r4TMu8sW"
      },
      "execution_count": null,
      "outputs": []
    },
    {
      "cell_type": "code",
      "source": [
        "student = {\"name\":\"faiza\",\"id\": 234,\"course\": \"BSC Computer science\"}\n",
        "print(\"Display key-value pairs\")\n",
        "for key, value in student.items(): #read all items\n",
        "   print(f\"\\nKey: {key}\")\n",
        "   print(f\"\\nvalue: {value}\")\n",
        "student['gender'] = 'female'\n",
        "print(student)"
      ],
      "metadata": {
        "colab": {
          "base_uri": "https://localhost:8080/"
        },
        "id": "F3nXxR0-vGu8",
        "outputId": "a8e5eabc-4dc4-4d9f-e270-76ea9708bd9f"
      },
      "execution_count": 11,
      "outputs": [
        {
          "output_type": "stream",
          "name": "stdout",
          "text": [
            "Display key-value pairs\n",
            "\n",
            "Key: name\n",
            "\n",
            "value: faiza\n",
            "\n",
            "Key: id\n",
            "\n",
            "value: 234\n",
            "\n",
            "Key: course\n",
            "\n",
            "value: BSC Computer science\n",
            "{'name': 'faiza', 'id': 234, 'course': 'BSC Computer science', 'gender': 'female'}\n"
          ]
        }
      ]
    },
    {
      "cell_type": "code",
      "source": [
        "Tuple data type\n",
        "Declare 2 Tuples comprising of 4 leap years and 4 non leap years\n",
        "i.\tPrint tuples\n",
        "ii.\tConcatenate 2 tuples\n",
        "iii.\tMultiple each tuple 3 times\n",
        "iv.\tCompare 2 tuples\n",
        "v.\tFind the length of tuples\n",
        "vi.\tFind the sum of elements in each of the tuples\n",
        "vii.\tSort the elements in each of the tuples\n",
        "viii.\tSwap the tuples\n"
      ],
      "metadata": {
        "id": "pOJWL-8O1Q5i"
      },
      "execution_count": null,
      "outputs": []
    },
    {
      "cell_type": "code",
      "source": [
        "#integer comprising leap year and non leap year seprately\n",
        "leap_year = (2024,2028,2032,2036)\n",
        "non_leap_year = (2023,2025,2026,2027)\n",
        "print('The List of 4 upcoming leap years:',leap_year[0:5])\n",
        "print('The List of 4 upcoming leap year:',non_leap_year[0:5])\n",
        "\n",
        "#concatenate 2 tuples\n",
        "print('The list of few leap years and non leap years are:\\n',leap_year+non_leap_year)\n",
        "#repeating the number of times by using * operator\n",
        "print(leap_year*3)\n",
        "#compare 2 tuples\n",
        "print(leap_year==non_leap_year)\n",
        "#length of each tuple\n",
        "print(len(leap_year))\n",
        "print(len(non_leap_year))\n",
        "#sum of elements in tuples\n",
        "print(sum(leap_year))\n",
        "print(sum(non_leap_year))\n",
        "#sort of elements in tuples\n",
        "print(sorted(leap_year))\n",
        "print(sorted(non_leap_year))\n",
        "#swap two tuples\n",
        "leap_year,non_leap_year=non_leap_year,leap_year\n",
        "print('upcoming 4 non leap years:',leap_year)\n",
        "print('upcoming 4 non leap year:',non_leap_year)\n",
        "\n",
        "\n"
      ],
      "metadata": {
        "id": "Xr5em4dk1VvS",
        "colab": {
          "base_uri": "https://localhost:8080/"
        },
        "outputId": "3f61069e-b610-4fc9-b260-6db2882b2818"
      },
      "execution_count": 3,
      "outputs": [
        {
          "output_type": "stream",
          "name": "stdout",
          "text": [
            "The List of 4 upcoming leap years: (2024, 2028, 2032, 2036)\n",
            "The List of 4 upcoming leap year: (2023, 2025, 2026, 2027)\n",
            "The list of few leap years and non leap years are:\n",
            " (2024, 2028, 2032, 2036, 2023, 2025, 2026, 2027)\n",
            "(2024, 2028, 2032, 2036, 2024, 2028, 2032, 2036, 2024, 2028, 2032, 2036)\n",
            "False\n",
            "4\n",
            "4\n",
            "8120\n",
            "8101\n",
            "[2024, 2028, 2032, 2036]\n",
            "[2023, 2025, 2026, 2027]\n",
            "upcoming 4 non leap years: (2023, 2025, 2026, 2027)\n",
            "upcoming 4 non leap year: (2024, 2028, 2032, 2036)\n"
          ]
        }
      ]
    },
    {
      "cell_type": "code",
      "source": [
        "String + for loop\n",
        "Write a  program to Count the Number of Occurrence of a Character in String\n"
      ],
      "metadata": {
        "id": "O38M7fFegWTl"
      },
      "execution_count": null,
      "outputs": []
    },
    {
      "cell_type": "code",
      "source": [
        "#count the number of the occurence of a character in string\n",
        "counter = 0\n",
        "my_string = \"classroom\"\n",
        "my_char = \"A\"\n",
        "for i in my_string:\n",
        "   if i == my_char:\n",
        "      counter += 1\n",
        "print(counter)\n"
      ],
      "metadata": {
        "colab": {
          "base_uri": "https://localhost:8080/"
        },
        "id": "60E-PFXtgxU_",
        "outputId": "4aa24a02-3c04-42fc-b4d2-0ea6ce6dfdca"
      },
      "execution_count": 4,
      "outputs": [
        {
          "output_type": "stream",
          "name": "stdout",
          "text": [
            "0\n"
          ]
        }
      ]
    },
    {
      "cell_type": "code",
      "source": [
        "Array\n",
        "Write a program to create and print Zero, one, Two and multi dimensional array importing NumPy module as array function\n"
      ],
      "metadata": {
        "id": "igC5HuPEk8sw"
      },
      "execution_count": null,
      "outputs": []
    },
    {
      "cell_type": "code",
      "source": [
        "import numpy as np\n",
        "#create 0 dimensional array\n",
        "arr=np.array(50)\n",
        "print(\"zero dimensional array: \",arr)\n",
        "\n",
        "#create one dimensional array\n",
        "arr1=np.array([10,20,30,40,50])\n",
        "print('one dimensional array: ',arr1)\n",
        "#create two dimensional array\n",
        "arr2=np.array([[2,4,16],[3,9,81]])\n",
        "print('two dimensional array:\\n ',arr2)\n",
        "#create 3 dimensional array\n",
        "arr3=np.array([[[1,1,1,1],[2,2,2,2]],[[3,3,3,3],[4,4,4,4]]])\n",
        "print('Multi dimensional array:\\n',arr3)"
      ],
      "metadata": {
        "colab": {
          "base_uri": "https://localhost:8080/"
        },
        "id": "Q8WTZUNpk_Pr",
        "outputId": "3582cd01-da00-443a-f08a-15dce715821a"
      },
      "execution_count": 10,
      "outputs": [
        {
          "output_type": "stream",
          "name": "stdout",
          "text": [
            "zero dimensional array:  50\n",
            "one dimensional array:  [10 20 30 40 50]\n",
            "two dimensional array:\n",
            "  [[ 2  4 16]\n",
            " [ 3  9 81]]\n",
            "Multi dimensional array:\n",
            " [[[1 1 1 1]\n",
            "  [2 2 2 2]]\n",
            "\n",
            " [[3 3 3 3]\n",
            "  [4 4 4 4]]]\n"
          ]
        }
      ]
    }
  ]
}