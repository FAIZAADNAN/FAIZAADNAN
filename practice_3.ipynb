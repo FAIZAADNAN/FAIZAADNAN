{
  "nbformat": 4,
  "nbformat_minor": 0,
  "metadata": {
    "colab": {
      "provenance": [],
      "authorship_tag": "ABX9TyMqy1eYPLgiX8cG3HSxjhXL",
      "include_colab_link": true
    },
    "kernelspec": {
      "name": "python3",
      "display_name": "Python 3"
    },
    "language_info": {
      "name": "python"
    }
  },
  "cells": [
    {
      "cell_type": "markdown",
      "metadata": {
        "id": "view-in-github",
        "colab_type": "text"
      },
      "source": [
        "<a href=\"https://colab.research.google.com/github/FAIZAADNAN/FAIZAADNAN/blob/main/practice_3.ipynb\" target=\"_parent\"><img src=\"https://colab.research.google.com/assets/colab-badge.svg\" alt=\"Open In Colab\"/></a>"
      ]
    },
    {
      "cell_type": "code",
      "execution_count": null,
      "metadata": {
        "colab": {
          "base_uri": "https://localhost:8080/"
        },
        "id": "rvrUjc0Yfiqz",
        "outputId": "59533ffb-7b38-4e4c-9e28-0c03dc39a613"
      },
      "outputs": [
        {
          "output_type": "stream",
          "name": "stdout",
          "text": [
            "faiza of bath spa uni got : 90 marks\n"
          ]
        }
      ],
      "source": [
        "#writing a programe to know the marks of the student.using nested if condition\n",
        "name = 'faiza'\n",
        "uni = 'bath spa'\n",
        "marks = 90\n",
        "if uni =='bath spa':\n",
        "   if name == 'faiza':\n",
        "      print('faiza of bath spa uni got :',marks,'marks')"
      ]
    },
    {
      "cell_type": "code",
      "source": [
        "#writing a programme to know the marks of the student using  nested if else conditional statement \n",
        "x = 20\n",
        "y = 45\n",
        "z = 23\n",
        "if x>y and x>z:\n",
        "    print('x is greater')\n",
        "else:\n",
        "    if z>y:\n",
        "        print('z is greater')\n",
        "    else:\n",
        "        print('y is greater')"
      ],
      "metadata": {
        "colab": {
          "base_uri": "https://localhost:8080/"
        },
        "id": "54FF1vxZgreE",
        "outputId": "901772e3-7918-49e6-8191-7967036eea8d"
      },
      "execution_count": null,
      "outputs": [
        {
          "output_type": "stream",
          "name": "stdout",
          "text": [
            "y is greater\n"
          ]
        }
      ]
    },
    {
      "cell_type": "code",
      "source": [
        "#writing programe using for loop to know which letter is greater or lesser\n",
        "for letter in [10,20,30,40]:\n",
        "    if letter >=25:\n",
        "       print(letter,'greater then 25')\n",
        "    else:\n",
        "       print(letter,'less than 25')"
      ],
      "metadata": {
        "colab": {
          "base_uri": "https://localhost:8080/"
        },
        "id": "jMQaa0L_hrlR",
        "outputId": "f9c041b8-a5e2-4b6a-e4af-143df7e842a8"
      },
      "execution_count": null,
      "outputs": [
        {
          "output_type": "stream",
          "name": "stdout",
          "text": [
            "10 less than 25\n",
            "20 less than 25\n",
            "30 greater then 25\n",
            "40 greater then 25\n"
          ]
        }
      ]
    },
    {
      "cell_type": "code",
      "source": [
        "#writing a programe using while loop if its ture or else\n",
        "count = 1\n",
        "while count <= 5:\n",
        "    print(count)\n",
        "    count=count+1\n",
        "print('good luck')"
      ],
      "metadata": {
        "colab": {
          "base_uri": "https://localhost:8080/"
        },
        "id": "cTChyzemi0h7",
        "outputId": "aaf68b2e-fe4f-4b51-de2a-2092e56acaf8"
      },
      "execution_count": null,
      "outputs": [
        {
          "output_type": "stream",
          "name": "stdout",
          "text": [
            "1\n",
            "2\n",
            "3\n",
            "4\n",
            "5\n",
            "good luck\n"
          ]
        }
      ]
    },
    {
      "cell_type": "code",
      "source": [
        "#writing a programe using while loop to break the statement\n",
        "count = 0\n",
        "while count<=5:\n",
        "    if count==3:\n",
        "       break\n",
        "    else:\n",
        "       print(count)\n",
        "    count=count+1\n",
        "print('thank you')\n"
      ],
      "metadata": {
        "colab": {
          "base_uri": "https://localhost:8080/"
        },
        "id": "xuR-KkpVjb1R",
        "outputId": "d7c72c5d-0172-46bc-d499-f76e3682251f"
      },
      "execution_count": null,
      "outputs": [
        {
          "output_type": "stream",
          "name": "stdout",
          "text": [
            "0\n",
            "1\n",
            "2\n",
            "thank you\n"
          ]
        }
      ]
    },
    {
      "cell_type": "code",
      "source": [
        "#writing a programme using if nested statment to print the colour of the ballon and the point it earned\n",
        "ballon_colour = 'purple'\n",
        "if ballon_colour == 'yellow':\n",
        "   print ('the player earned 5 points')\n",
        "elif ballon_colour == 'blue':\n",
        "   print('the player earned 10 points')\n",
        "else:\n",
        "   print('the player earned 20 points')"
      ],
      "metadata": {
        "colab": {
          "base_uri": "https://localhost:8080/"
        },
        "id": "Dqp9k66EkeD-",
        "outputId": "ea6b1e70-802a-4a91-b6cd-7627f7ab726b"
      },
      "execution_count": null,
      "outputs": [
        {
          "output_type": "stream",
          "name": "stdout",
          "text": [
            "the player earned 20 points\n"
          ]
        }
      ]
    },
    {
      "cell_type": "code",
      "source": [
        "print('Select country:US/Australia')\n",
        "country = str(input())\n",
        "print('enter the number of the shipments')\n",
        "shipment = int(input())\n",
        "if country =='US':\n",
        "   if shipment <=50:\n",
        "     print('shipping cost is')\n",
        "   elif shipment>50:\n",
        "     print('the shipping cost is 25$')\n",
        "   else:\n",
        "     print('please contact the support system')\n",
        "else:\n",
        "      if country =='Australia':\n",
        "        if shipment <=150:\n",
        "          print('shipping cost is 100$')\n",
        "        elif shipment>150:\n",
        "          print('the shipping cost is 15$')\n",
        "        else:\n",
        "          print('please contact the customer service')\n",
        "\n"
      ],
      "metadata": {
        "colab": {
          "base_uri": "https://localhost:8080/"
        },
        "id": "UvodbaJ4tMxd",
        "outputId": "456680c6-6a78-43f0-f7df-7a4cd0fb9192"
      },
      "execution_count": null,
      "outputs": [
        {
          "name": "stdout",
          "output_type": "stream",
          "text": [
            "Select country:US/Australia\n",
            "us\n",
            "enter the number of the shipments\n",
            "50\n"
          ]
        }
      ]
    },
    {
      "cell_type": "code",
      "source": [
        "num = float(input('Enter a number:'))\n",
        "if num >=0:\n",
        "   if num ==0:\n",
        "      print('zero')\n",
        "   else:\n",
        "     print('the number is positive')\n",
        "else:\n",
        "     print('the number is negative')\n",
        "   "
      ],
      "metadata": {
        "colab": {
          "base_uri": "https://localhost:8080/"
        },
        "id": "Wt6gsL-uwCR2",
        "outputId": "f2106f71-dcca-4651-b4f3-f7ac1f0b92d9"
      },
      "execution_count": null,
      "outputs": [
        {
          "output_type": "stream",
          "name": "stdout",
          "text": [
            "Enter a number:-9\n",
            "the number is negative\n"
          ]
        }
      ]
    },
    {
      "cell_type": "code",
      "source": [
        "#python programe to print the list of prime numbers\n",
        "def prime_range(num):\n",
        "    prime = []\n",
        "    for i in range(2,num+1):\n",
        "       for j in range(2,num+1):\n",
        "          if i%j ==0:\n",
        "             break\n",
        "       if i == j:\n",
        "           prime.append(i)\n",
        "    return prime\n",
        "number = int(input('enter a number: '))\n",
        "print(prime_range(number))"
      ],
      "metadata": {
        "colab": {
          "base_uri": "https://localhost:8080/"
        },
        "id": "3ttuD9VSxPQS",
        "outputId": "22b5440d-01f4-48e4-dd9b-8593f787ad1e"
      },
      "execution_count": null,
      "outputs": [
        {
          "output_type": "stream",
          "name": "stdout",
          "text": [
            "enter a number: 16\n",
            "[2, 3, 5, 7, 11, 13]\n"
          ]
        }
      ]
    },
    {
      "cell_type": "code",
      "source": [
        "#program of practising writing armstrong number\n",
        "my_num = int(input('enter a number: '))\n",
        "power_of_my_own = len(str(my_num))\n",
        "total = 0\n",
        "i = my_num\n",
        "while i >0:\n",
        "     remainder = i%10\n",
        "     total += remainder**power_of_my_own\n",
        "     i = i//10\n",
        "\n",
        "if total == my_num:\n",
        "   print(f'{my_num} is armstrong number')\n",
        "else:\n",
        "   print (f'{my_num} is not armstrong number')"
      ],
      "metadata": {
        "colab": {
          "base_uri": "https://localhost:8080/"
        },
        "id": "itJsbgPI1Lai",
        "outputId": "bff3d69d-127e-438a-ffc8-51bb71928e8d"
      },
      "execution_count": null,
      "outputs": [
        {
          "output_type": "stream",
          "name": "stdout",
          "text": [
            "enter a number: 789\n",
            "789 is not armstrong number\n"
          ]
        }
      ]
    },
    {
      "cell_type": "code",
      "source": [
        "#python programe to swap two names using the third vairable\n",
        "a = 'faiza'\n",
        "b = 'adnan'\n",
        "print('before swaping')\n",
        "print('a =',a)\n",
        "print('b =',b)\n",
        "#taking third variable 'c'\n",
        "c = a\n",
        "a = b\n",
        "b = c\n",
        "print('After swaping')\n",
        "print('a =',a)\n",
        "print('b =',b)"
      ],
      "metadata": {
        "colab": {
          "base_uri": "https://localhost:8080/"
        },
        "id": "7c8dKcNZ4EjR",
        "outputId": "a6919d95-eb36-4a0d-e468-d768dc6b5638"
      },
      "execution_count": null,
      "outputs": [
        {
          "output_type": "stream",
          "name": "stdout",
          "text": [
            "before swaping\n",
            "a = faiza\n",
            "b = adnan\n",
            "After swaping\n",
            "a = adnan\n",
            "b = faiza\n"
          ]
        }
      ]
    },
    {
      "cell_type": "code",
      "source": [
        "#taking two variables from the user compare and print the smaller number\n",
        "print('Enter the first number :')\n",
        "a=int(input())\n",
        "print('enter the second number:')\n",
        "b=int(input())\n",
        "\n",
        "if a<b:\n",
        "   print(a,'is the first number and it is the smaller then the second number',b)\n",
        "elif a==b:\n",
        "   print(a,'is the first number',b,'is the second number and both numbers are equal')\n",
        "else:\n",
        "   print(b, 'is the second number and its smaller then the first number')\n",
        "\n"
      ],
      "metadata": {
        "colab": {
          "base_uri": "https://localhost:8080/"
        },
        "id": "zfL11mFq6Ipm",
        "outputId": "59bc97be-616a-4df4-a081-1d538d397e90"
      },
      "execution_count": null,
      "outputs": [
        {
          "output_type": "stream",
          "name": "stdout",
          "text": [
            "Enter the first number :\n",
            "10\n",
            "enter the second number:\n",
            "20\n",
            "10 is the first number and it is the smaller then the second number 20\n"
          ]
        }
      ]
    },
    {
      "cell_type": "code",
      "source": [
        "my_list = [1,1,1,2,2,2,3,3,3,5,5,5]\n",
        "print(f'your list{my_list}')\n",
        "#convert list into set\n",
        "#after that converts into list again\n",
        "my_list = list(set(my_list))\n",
        "print(f'unique list: {my_list}')"
      ],
      "metadata": {
        "id": "ddIGD9oZDFvL"
      },
      "execution_count": null,
      "outputs": []
    },
    {
      "cell_type": "code",
      "source": [
        "My_string = input('enter your string: ')\n",
        "check_empty = \"\"\n",
        "for i in My_string:\n",
        "    if i not in check_empty:\n",
        "        check_empty += i\n",
        "        string_count = My_string.count(i)\n",
        "        print(f'{i}: {string_count}')\n",
        "\n"
      ],
      "metadata": {
        "id": "dlGxQ6duE8rb"
      },
      "execution_count": null,
      "outputs": []
    },
    {
      "cell_type": "code",
      "source": [
        "#python programme tp print prime number from 1 to 100\n",
        "i =2\n",
        "while i <= 100:\n",
        "    j = 2\n",
        "    while j < 100:\n",
        "        if i%j == 0:\n",
        "           break\n",
        "        j += 1\n",
        "    if i == j:\n",
        "        print(i,end=',')\n",
        "    i += 1\n"
      ],
      "metadata": {
        "colab": {
          "base_uri": "https://localhost:8080/"
        },
        "id": "pWC-s54eHEZU",
        "outputId": "bd3a24e0-9c40-4367-b839-ebfe5d55d99e"
      },
      "execution_count": null,
      "outputs": [
        {
          "output_type": "stream",
          "name": "stdout",
          "text": [
            "2,3,5,7,11,13,17,19,23,29,31,37,41,43,47,53,59,61,67,71,73,79,83,89,97,"
          ]
        }
      ]
    },
    {
      "cell_type": "code",
      "source": [],
      "metadata": {
        "id": "wpRHRbSsEivn"
      },
      "execution_count": null,
      "outputs": []
    }
  ]
}