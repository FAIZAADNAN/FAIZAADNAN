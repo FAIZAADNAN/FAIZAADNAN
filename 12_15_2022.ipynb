{
  "nbformat": 4,
  "nbformat_minor": 0,
  "metadata": {
    "colab": {
      "provenance": [],
      "authorship_tag": "ABX9TyOr/pagw9NPCT+VclWr1LSE",
      "include_colab_link": true
    },
    "kernelspec": {
      "name": "python3",
      "display_name": "Python 3"
    },
    "language_info": {
      "name": "python"
    }
  },
  "cells": [
    {
      "cell_type": "markdown",
      "metadata": {
        "id": "view-in-github",
        "colab_type": "text"
      },
      "source": [
        "<a href=\"https://colab.research.google.com/github/FAIZAADNAN/FAIZAADNAN/blob/main/12_15_2022.ipynb\" target=\"_parent\"><img src=\"https://colab.research.google.com/assets/colab-badge.svg\" alt=\"Open In Colab\"/></a>"
      ]
    },
    {
      "cell_type": "code",
      "execution_count": null,
      "metadata": {
        "colab": {
          "base_uri": "https://localhost:8080/"
        },
        "id": "bCNFuHIbPJzF",
        "outputId": "c65d9812-8f0b-4856-a135-7cab0fb91137"
      },
      "outputs": [
        {
          "output_type": "stream",
          "name": "stdout",
          "text": [
            "largest number in the array is:  40\n",
            "index position of the largest number is 3\n"
          ]
        }
      ],
      "source": [
        "import numpy as np\n",
        "arr=np.array([10,20,30,40])\n",
        "\n",
        "largest=arr[0]\n",
        "\n",
        "for i in range(1,len(arr)):\n",
        "  if(largest < arr[i]):\n",
        "    largest = arr[i]\n",
        "    largest_number_position = i\n",
        "\n",
        "print(\"largest number in the array is: \", largest)\n",
        "print(\"index position of the largest number is\", largest_number_position)\n",
        "\n",
        "\n",
        "\n"
      ]
    },
    {
      "cell_type": "code",
      "source": [
        "Program 2: Write a program to Print Array Elements Present on Even Position"
      ],
      "metadata": {
        "id": "AqiDbF5jYPQA"
      },
      "execution_count": null,
      "outputs": []
    },
    {
      "cell_type": "code",
      "source": [
        "import numpy as np \n",
        "arr = np.array([22,47,16,808,12,44,66,188])\n",
        "for i in range(0, len(arr), 2):\n",
        "   print(arr[i],end =\" \")\n"
      ],
      "metadata": {
        "colab": {
          "base_uri": "https://localhost:8080/"
        },
        "id": "YH44ig9UYWwE",
        "outputId": "79467229-c13c-4061-a16d-21e2d61b9756"
      },
      "execution_count": null,
      "outputs": [
        {
          "output_type": "stream",
          "name": "stdout",
          "text": [
            "22 16 12 66 "
          ]
        }
      ]
    },
    {
      "cell_type": "code",
      "source": [
        "Program 3: Write a program to Print Array Elements Present on odd Position\n",
        "\n"
      ],
      "metadata": {
        "id": "IBb8tacPY2_H"
      },
      "execution_count": null,
      "outputs": []
    },
    {
      "cell_type": "code",
      "source": [
        "import numpy as np\n",
        "arr = np.array([22,56,78,98,45])\n",
        "for i in range(0, len(arr), 2): \n",
        "   print(arr[i], end = \" \")\n"
      ],
      "metadata": {
        "colab": {
          "base_uri": "https://localhost:8080/"
        },
        "id": "5THe9jubZIjG",
        "outputId": "238a6b43-35d5-49de-d87e-d4efc1f8c422"
      },
      "execution_count": null,
      "outputs": [
        {
          "output_type": "stream",
          "name": "stdout",
          "text": [
            "22 78 45 "
          ]
        }
      ]
    },
    {
      "cell_type": "code",
      "source": [
        "Program 4: Write a program to Sort Array in Descending Order"
      ],
      "metadata": {
        "id": "RVmi80M4cxxb"
      },
      "execution_count": null,
      "outputs": []
    },
    {
      "cell_type": "code",
      "source": [
        "import numpy as np\n",
        "arr = np.array([54,56,57,58,60,78,90,181,65])\n",
        "print(\"original Array: \", arr)\n",
        "length = len(arr)\n",
        "for i in range (length):\n",
        "   for j in range(i + 1, length):\n",
        "     if (arr[i] < arr[j]):\n",
        "       temp = arr[i]\n",
        "       arr[i] = arr[j]\n",
        "       arr[j] = temp\n",
        "print(\"Array in descending order: \",arr)\n",
        "\n"
      ],
      "metadata": {
        "colab": {
          "base_uri": "https://localhost:8080/"
        },
        "id": "zKpx0hrjc5Rm",
        "outputId": "90ac6062-e733-4967-e111-f0b459f8a2bb"
      },
      "execution_count": null,
      "outputs": [
        {
          "output_type": "stream",
          "name": "stdout",
          "text": [
            "original Array:  [ 54  56  57  58  60  78  90 181  65]\n",
            "Array in descending order:  [181  90  78  65  60  58  57  56  54]\n"
          ]
        }
      ]
    },
    {
      "cell_type": "code",
      "source": [
        "Program 5: Write a python program to Print Right Triangle Number Pattern using For Loop"
      ],
      "metadata": {
        "id": "-cKb6XJoydGp"
      },
      "execution_count": null,
      "outputs": []
    },
    {
      "cell_type": "code",
      "source": [
        "rows = 6\n",
        "# rows = int(input('Enter the number of rows'))\n",
        "# outer loop\n",
        "for i in range(rows):\n",
        "    # nested loop\n",
        "    for j in range(i):\n",
        "        # display number\n",
        "        print(i, end=' ')\n",
        "    # new line after each row\n",
        "    print('')\n"
      ],
      "metadata": {
        "colab": {
          "base_uri": "https://localhost:8080/"
        },
        "id": "oBnEElR_0LZu",
        "outputId": "f992cd1a-3f91-4978-cd76-6efd524261de"
      },
      "execution_count": 1,
      "outputs": [
        {
          "output_type": "stream",
          "name": "stdout",
          "text": [
            "\n",
            "1 \n",
            "2 2 \n",
            "3 3 3 \n",
            "4 4 4 4 \n",
            "5 5 5 5 5 \n"
          ]
        }
      ]
    },
    {
      "cell_type": "code",
      "source": [
        "Program 6: write a python program to Print Inverted Right Triangle of Numbers using For Loop"
      ],
      "metadata": {
        "id": "Il-bwg1P0wbc"
      },
      "execution_count": null,
      "outputs": []
    },
    {
      "cell_type": "code",
      "source": [
        "rows = int(input(\"Please Enter the total Number of Rows  : \"))\n",
        "\n",
        "print(\"Inverted Right Triangle Pattern of Numbers\") \n",
        "i = rows\n",
        "while(i >= 1):\n",
        "    for j in range(1, i + 1):      \n",
        "        print('%d ' %i, end = '  ')\n",
        "    i = i - 1\n",
        "    print()"
      ],
      "metadata": {
        "colab": {
          "base_uri": "https://localhost:8080/"
        },
        "id": "qhisKB_w0xoj",
        "outputId": "e2cc9821-1fed-438b-ccaa-75f22d4e8d3d"
      },
      "execution_count": 2,
      "outputs": [
        {
          "output_type": "stream",
          "name": "stdout",
          "text": [
            "Please Enter the total Number of Rows  : 10\n",
            "Inverted Right Triangle Pattern of Numbers\n",
            "10   10   10   10   10   10   10   10   10   10   \n",
            "9   9   9   9   9   9   9   9   9   \n",
            "8   8   8   8   8   8   8   8   \n",
            "7   7   7   7   7   7   7   \n",
            "6   6   6   6   6   6   \n",
            "5   5   5   5   5   \n",
            "4   4   4   4   \n",
            "3   3   3   \n",
            "2   2   \n",
            "1   \n"
          ]
        }
      ]
    },
    {
      "cell_type": "code",
      "source": [
        "Program 8: Write a Python program to print Christmas tree star pattern using for loop\n",
        "\n"
      ],
      "metadata": {
        "id": "YFg6nnN61EkF"
      },
      "execution_count": null,
      "outputs": []
    },
    {
      "cell_type": "code",
      "source": [
        "def triangleShape(n):\n",
        "    for i in range(n):\n",
        "        for j in range(n-i):\n",
        "            print(' ', end=' ')\n",
        "        for k in range(2*i+1):\n",
        "            print('*',end=' ')\n",
        "        print()\n",
        "\n",
        "# Generating Pole Shape\n",
        "def poleShape(n):\n",
        "    for i in range(n):\n",
        "        for j in range(n-1):\n",
        "            print(' ', end=' ')\n",
        "        print('* * *')\n",
        "\n",
        "# Input and Function Call\n",
        "row = int(input('Enter number of rows: '))\n",
        "\n",
        "triangleShape(row)\n",
        "triangleShape(row)\n",
        "poleShape(row)"
      ],
      "metadata": {
        "colab": {
          "base_uri": "https://localhost:8080/"
        },
        "id": "_Z5BhGhw1I_H",
        "outputId": "52f7b9e2-e78a-4537-d596-742867792232"
      },
      "execution_count": 5,
      "outputs": [
        {
          "output_type": "stream",
          "name": "stdout",
          "text": [
            "Enter number of rows: 20\n",
            "                                        * \n",
            "                                      * * * \n",
            "                                    * * * * * \n",
            "                                  * * * * * * * \n",
            "                                * * * * * * * * * \n",
            "                              * * * * * * * * * * * \n",
            "                            * * * * * * * * * * * * * \n",
            "                          * * * * * * * * * * * * * * * \n",
            "                        * * * * * * * * * * * * * * * * * \n",
            "                      * * * * * * * * * * * * * * * * * * * \n",
            "                    * * * * * * * * * * * * * * * * * * * * * \n",
            "                  * * * * * * * * * * * * * * * * * * * * * * * \n",
            "                * * * * * * * * * * * * * * * * * * * * * * * * * \n",
            "              * * * * * * * * * * * * * * * * * * * * * * * * * * * \n",
            "            * * * * * * * * * * * * * * * * * * * * * * * * * * * * * \n",
            "          * * * * * * * * * * * * * * * * * * * * * * * * * * * * * * * \n",
            "        * * * * * * * * * * * * * * * * * * * * * * * * * * * * * * * * * \n",
            "      * * * * * * * * * * * * * * * * * * * * * * * * * * * * * * * * * * * \n",
            "    * * * * * * * * * * * * * * * * * * * * * * * * * * * * * * * * * * * * * \n",
            "  * * * * * * * * * * * * * * * * * * * * * * * * * * * * * * * * * * * * * * * \n",
            "                                        * \n",
            "                                      * * * \n",
            "                                    * * * * * \n",
            "                                  * * * * * * * \n",
            "                                * * * * * * * * * \n",
            "                              * * * * * * * * * * * \n",
            "                            * * * * * * * * * * * * * \n",
            "                          * * * * * * * * * * * * * * * \n",
            "                        * * * * * * * * * * * * * * * * * \n",
            "                      * * * * * * * * * * * * * * * * * * * \n",
            "                    * * * * * * * * * * * * * * * * * * * * * \n",
            "                  * * * * * * * * * * * * * * * * * * * * * * * \n",
            "                * * * * * * * * * * * * * * * * * * * * * * * * * \n",
            "              * * * * * * * * * * * * * * * * * * * * * * * * * * * \n",
            "            * * * * * * * * * * * * * * * * * * * * * * * * * * * * * \n",
            "          * * * * * * * * * * * * * * * * * * * * * * * * * * * * * * * \n",
            "        * * * * * * * * * * * * * * * * * * * * * * * * * * * * * * * * * \n",
            "      * * * * * * * * * * * * * * * * * * * * * * * * * * * * * * * * * * * \n",
            "    * * * * * * * * * * * * * * * * * * * * * * * * * * * * * * * * * * * * * \n",
            "  * * * * * * * * * * * * * * * * * * * * * * * * * * * * * * * * * * * * * * * \n",
            "                                      * * *\n",
            "                                      * * *\n",
            "                                      * * *\n",
            "                                      * * *\n",
            "                                      * * *\n",
            "                                      * * *\n",
            "                                      * * *\n",
            "                                      * * *\n",
            "                                      * * *\n",
            "                                      * * *\n",
            "                                      * * *\n",
            "                                      * * *\n",
            "                                      * * *\n",
            "                                      * * *\n",
            "                                      * * *\n",
            "                                      * * *\n",
            "                                      * * *\n",
            "                                      * * *\n",
            "                                      * * *\n",
            "                                      * * *\n"
          ]
        }
      ]
    }
  ]
}