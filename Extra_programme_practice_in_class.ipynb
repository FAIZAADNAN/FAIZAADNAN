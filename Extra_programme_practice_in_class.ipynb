{
  "nbformat": 4,
  "nbformat_minor": 0,
  "metadata": {
    "colab": {
      "provenance": [],
      "authorship_tag": "ABX9TyPWwyMZPPlH7pmHa9a94CmI",
      "include_colab_link": true
    },
    "kernelspec": {
      "name": "python3",
      "display_name": "Python 3"
    },
    "language_info": {
      "name": "python"
    }
  },
  "cells": [
    {
      "cell_type": "markdown",
      "metadata": {
        "id": "view-in-github",
        "colab_type": "text"
      },
      "source": [
        "<a href=\"https://colab.research.google.com/github/FAIZAADNAN/FAIZAADNAN/blob/main/Extra_programme_practice_in_class.ipynb\" target=\"_parent\"><img src=\"https://colab.research.google.com/assets/colab-badge.svg\" alt=\"Open In Colab\"/></a>"
      ]
    },
    {
      "cell_type": "code",
      "source": [
        "Program 5:  Write a Program to Display the multiplication Table\n",
        "\n"
      ],
      "metadata": {
        "id": "ZN6xKrPRIPZY"
      },
      "execution_count": null,
      "outputs": []
    },
    {
      "cell_type": "code",
      "source": [
        "# Multiplication table\n",
        "number = int(input(\"Enter an integer: \"))\n",
        "\n",
        "for count in range(1, 11):\n",
        "    product = number * count\n",
        "    print(number, \"*\", count, \"=\", product)"
      ],
      "metadata": {
        "colab": {
          "base_uri": "https://localhost:8080/"
        },
        "id": "Gty3Mpx5IRVJ",
        "outputId": "5dfd33a3-9a1e-4950-f070-98a72fac5792"
      },
      "execution_count": null,
      "outputs": [
        {
          "output_type": "stream",
          "name": "stdout",
          "text": [
            "Enter an integer: 13\n",
            "13 * 1 = 13\n",
            "13 * 2 = 26\n",
            "13 * 3 = 39\n",
            "13 * 4 = 52\n",
            "13 * 5 = 65\n",
            "13 * 6 = 78\n",
            "13 * 7 = 91\n",
            "13 * 8 = 104\n",
            "13 * 9 = 117\n",
            "13 * 10 = 130\n"
          ]
        }
      ]
    },
    {
      "cell_type": "code",
      "source": [
        "Program 1:  Write a program to convert Kilometer to miles\n",
        "\n"
      ],
      "metadata": {
        "id": "HG6ID0iiIbWS"
      },
      "execution_count": null,
      "outputs": []
    },
    {
      "cell_type": "code",
      "source": [
        " #taking the input from the user\n",
        "kilometers = float(input(\"Enter value in kilometers: \"))\n",
        "\n",
        "# calculate miles\n",
        "conv_fac = 0.6123\n",
        "miles = kilometers * conv_fac\n",
        "print('%0.2f kilometers is equal to %0.2f miles' %(kilometers,miles))"
      ],
      "metadata": {
        "colab": {
          "base_uri": "https://localhost:8080/"
        },
        "id": "bN9kchEXIfnQ",
        "outputId": "76545a57-5511-4a7a-abd2-897dc5d11737"
      },
      "execution_count": 2,
      "outputs": [
        {
          "output_type": "stream",
          "name": "stdout",
          "text": [
            "Enter value in kilometers: 56\n",
            "56.00 kilometers is equal to 34.29 miles\n"
          ]
        }
      ]
    },
    {
      "cell_type": "code",
      "source": [
        "Program 2:  Write a program to convert temperature in Celsius to Fahrenheit\n",
        "\n"
      ],
      "metadata": {
        "id": "VNLdjzarJBbT"
      },
      "execution_count": null,
      "outputs": []
    },
    {
      "cell_type": "code",
      "source": [
        " #python programe to convert celcius into fahrenheit\n",
        "\n",
        "# change this value for a different result\n",
        "celsius = 37.5\n",
        "\n",
        "# calculate fahrenheit\n",
        "fahrenheit = (37.5 * 1.8) + 32\n",
        "print('%0.1f degree Celsius is equal to %0.1f degree Fahrenheit' %(celsius,fahrenheit))"
      ],
      "metadata": {
        "colab": {
          "base_uri": "https://localhost:8080/"
        },
        "id": "rwNu2U1_JFel",
        "outputId": "ab06a4cf-8ecb-4de9-8d70-062e908fa12a"
      },
      "execution_count": null,
      "outputs": [
        {
          "output_type": "stream",
          "name": "stdout",
          "text": [
            "37.5 degree Celsius is equal to 99.5 degree Fahrenheit\n"
          ]
        }
      ]
    },
    {
      "cell_type": "code",
      "source": [
        "Program 3:  Write a program to Check if a Number is Positive, Negative or 0\n",
        "\t\n"
      ],
      "metadata": {
        "id": "RX6J_0ltKBqd"
      },
      "execution_count": null,
      "outputs": []
    },
    {
      "cell_type": "code",
      "source": [
        "# converting my number positive to negative\n",
        "\n",
        "number = float(input(\"Enter a number: \"))\n",
        "\n",
        "if number > 0:\n",
        "    print(\"The number is positive\")\n",
        "elif number == 0:\n",
        "    print(\"The number is 0\")\n",
        "else:\n",
        "    print(\"The number is negative\")"
      ],
      "metadata": {
        "colab": {
          "base_uri": "https://localhost:8080/"
        },
        "id": "gpO74rt1KCwQ",
        "outputId": "8153911e-006c-48f5-fd98-0566a1bd31fd"
      },
      "execution_count": null,
      "outputs": [
        {
          "output_type": "stream",
          "name": "stdout",
          "text": [
            "Enter a number: 8\n",
            "The number is positive\n"
          ]
        }
      ]
    },
    {
      "cell_type": "code",
      "source": [
        "Program 4:  Write a Program to Check Prime Number\n",
        "Hint: Prime numbers are only divisible by itself and are greater than 1. e.g. 2,5,11,13,19,…..\n",
        "\n"
      ],
      "metadata": {
        "id": "uCtFxGMjLDIe"
      },
      "execution_count": null,
      "outputs": []
    },
    {
      "cell_type": "code",
      "source": [
        "# program to check if number is prime or not\n",
        " \n",
        "num = 707\n",
        "  \n",
        " #take input from the user\n",
        "num = int(input(\"Enter a nmuber: \"))\n",
        "\n",
        " #prime number are greater than 1\n",
        "if num > 10:\n",
        "   # check for factors\n",
        "   for i in range(1,num):\n",
        "       if (num % i) == 0:\n",
        "           print(num,\"is not a prime number\")\n",
        "           break\n",
        "   else:\n",
        "       print(num,\"is a prime number\")\n",
        "# if input number is less than or equal to 1, it is not prime\n",
        "else:\n",
        "   print(num,\"is not a prime number\")\n"
      ],
      "metadata": {
        "colab": {
          "base_uri": "https://localhost:8080/"
        },
        "id": "I-EVhbkBLtKn",
        "outputId": "2d822ef8-97f2-4d9a-bd4c-075dba44c5b6"
      },
      "execution_count": null,
      "outputs": [
        {
          "output_type": "stream",
          "name": "stdout",
          "text": [
            "Enter a nmuber: 7\n",
            "7 is not a prime number\n"
          ]
        }
      ]
    },
    {
      "cell_type": "code",
      "source": [
        "Program 6:  Write a  Program to Print the Fibonacci series\n",
        "Hint: A Fibonacci sequence is the integer sequence of 0, 1, 1, 2, 3, 5, 8....\n",
        "The first two terms are 0 and 1. All other terms are obtained by adding the preceding two terms. \n",
        "This means to say the nth term is the sum of (n-1)th and (n-2)th term.\n"
      ],
      "metadata": {
        "id": "axwjnMD9LYS9"
      },
      "execution_count": null,
      "outputs": []
    },
    {
      "cell_type": "code",
      "source": [
        "nterms = int(input(\"how many terms?\"))\n",
        "\n",
        "num = 1\n",
        "num1 = 0\n",
        "num2 = 1\n",
        "\n",
        "\n",
        "for i in range(0, nterms):\n",
        "    print(num)\n",
        "    num = num1 + num2\n",
        "    num1 = num2\n",
        "    num2 = num\n",
        "\n"
      ],
      "metadata": {
        "colab": {
          "base_uri": "https://localhost:8080/"
        },
        "id": "mLCkZvPkOLXq",
        "outputId": "9779391d-b80d-4db2-e5aa-52219929a477"
      },
      "execution_count": null,
      "outputs": [
        {
          "output_type": "stream",
          "name": "stdout",
          "text": [
            "how many terms?10\n",
            "1\n",
            "1\n",
            "2\n",
            "3\n",
            "5\n",
            "8\n",
            "13\n",
            "21\n",
            "34\n",
            "55\n"
          ]
        }
      ]
    },
    {
      "cell_type": "code",
      "source": [
        "Program 8:  Write a Program to Merge Two Dictionaries\n",
        "Hints: use ** to unpack dictionaries dictionary 1 and dictionary 2. Then, the dictionaries are merged by placing them inside {}\n"
      ],
      "metadata": {
        "id": "EXG8CkW_P7vc"
      },
      "execution_count": null,
      "outputs": []
    },
    {
      "cell_type": "code",
      "source": [
        "dict_1 = {1: 'a', 2: 'b'}\n",
        "dict_2 = {3: 'c', 4: 'd'}\n",
        "\n",
        "print({**dict_1,**dict_2})"
      ],
      "metadata": {
        "colab": {
          "base_uri": "https://localhost:8080/"
        },
        "id": "2t-3MA9CPsBw",
        "outputId": "5e04147c-70f1-455a-9a9e-e608f4fb716f"
      },
      "execution_count": null,
      "outputs": [
        {
          "output_type": "stream",
          "name": "stdout",
          "text": [
            "{1: 'a', 2: 'b', 3: 'c', 4: 'd'}\n"
          ]
        }
      ]
    },
    {
      "cell_type": "code",
      "source": [
        "Program 9:  Write a  program to Count the Number of Occurrence of a Character in String\n",
        "\n"
      ],
      "metadata": {
        "id": "r8X1-cJxRHAN"
      },
      "execution_count": null,
      "outputs": []
    },
    {
      "cell_type": "code",
      "source": [
        "count = 0\n",
        "\n",
        "my_string = \"ADNAN FAZAL\"\n",
        "my_char = \"A\"\n",
        "\n",
        "for i in my_string:\n",
        "    if i == my_char:\n",
        "        count += 1\n",
        "\n",
        "print(count)"
      ],
      "metadata": {
        "colab": {
          "base_uri": "https://localhost:8080/"
        },
        "id": "2ZqCfEBiRPz-",
        "outputId": "f3482937-87dd-4f23-fd0d-ff1240406320"
      },
      "execution_count": null,
      "outputs": [
        {
          "output_type": "stream",
          "name": "stdout",
          "text": [
            "4\n"
          ]
        }
      ]
    },
    {
      "cell_type": "code",
      "source": [
        "Program 10:  Write a program to find the largest number among the three input numbers"
      ],
      "metadata": {
        "id": "3HuYlCVySWkk"
      },
      "execution_count": null,
      "outputs": []
    },
    {
      "cell_type": "code",
      "source": [
        "# Python program to find the largest number among the three input numbers\n",
        "\n",
        "# change the values of numA, numB and numC\n",
        "# for a different result\n",
        "numA = 20\n",
        "numB = 22\n",
        "numC = 25\n",
        "\n",
        "# uncomment following lines to take three numbers from user\n",
        "#numA = float(input(\"Enter first number: \"))\n",
        "#numB = float(input(\"Enter second number: \"))\n",
        "#numC = float(input(\"Enter third number: \"))\n",
        "\n",
        "if (numA >= numB) and (numB>= numC):\n",
        "   largest = numA\n",
        "elif (numB >= numA) and (numB >= numC):\n",
        "   largest = numB\n",
        "else:\n",
        "   largest = numC\n",
        "\n",
        "print(\"The largest number is\", largest)"
      ],
      "metadata": {
        "colab": {
          "base_uri": "https://localhost:8080/"
        },
        "id": "qIoap9V8Sb4Z",
        "outputId": "d3ca3ab7-e32e-4762-df0f-3e41604170c7"
      },
      "execution_count": 3,
      "outputs": [
        {
          "output_type": "stream",
          "name": "stdout",
          "text": [
            "The largest number is 25\n"
          ]
        }
      ]
    },
    {
      "cell_type": "code",
      "source": [
        "Program 7:  Write a program to check if a string is palindrome or not\n",
        "Hint: A palindrome is a string that is the same read forward or backward.\n",
        " For example, \"dad\" is the same in forward or reverse direction. \n"
      ],
      "metadata": {
        "id": "L6wjOho_VwXA"
      },
      "execution_count": null,
      "outputs": []
    },
    {
      "cell_type": "code",
      "source": [
        "# programe to check if string is palindrome or not\n",
        "my_str = 'aibohphobia'\n",
        "\n",
        "#make it suitable for caseless comparision\n",
        "my_str = my_str.lower()\n",
        "print(my_str)\n",
        "\n",
        "#reverse the string\n",
        "rev_str = reversed(my_str)\n",
        "print(rev_str)\n",
        "print(list(rev_str))\n",
        "\n",
        "#check if the string is equal to its reverse\n",
        "if list(my_str) == list(rev_str):\n",
        "   print('The string is a palindrome.')\n",
        "else:\n",
        "   print('The string is not a palindrome')"
      ],
      "metadata": {
        "colab": {
          "base_uri": "https://localhost:8080/"
        },
        "id": "EjPZVaP2Wx-Z",
        "outputId": "6ac6412f-0a66-4a4f-8c6b-e3231ea6ba1e"
      },
      "execution_count": null,
      "outputs": [
        {
          "output_type": "stream",
          "name": "stdout",
          "text": [
            "aibohphobia\n",
            "<reversed object at 0x7fa2380d8490>\n",
            "['a', 'i', 'b', 'o', 'h', 'p', 'h', 'o', 'b', 'i', 'a']\n",
            "The string is not a palindrome\n"
          ]
        }
      ]
    },
    {
      "cell_type": "code",
      "source": [],
      "metadata": {
        "id": "70wkHblBVywH"
      },
      "execution_count": null,
      "outputs": []
    }
  ]
}